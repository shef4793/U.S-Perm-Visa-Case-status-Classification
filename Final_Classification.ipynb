{
 "cells": [
  {
   "cell_type": "code",
   "execution_count": 1,
   "metadata": {},
   "outputs": [],
   "source": [
    "import pandas as pd\n",
    "import numpy as np\n",
    "import random\n",
    "import matplotlib.pyplot as plt\n",
    "import seaborn as sns\n",
    "from sklearn import model_selection"
   ]
  },
  {
   "cell_type": "code",
   "execution_count": 2,
   "metadata": {},
   "outputs": [],
   "source": [
    "df = pd.read_csv('us_perm_visas.csv', low_memory = False, parse_dates=['decision_date', 'case_received_date'])"
   ]
  },
  {
   "cell_type": "code",
   "execution_count": 3,
   "metadata": {},
   "outputs": [
    {
     "data": {
      "text/plain": [
       "(374362, 154)"
      ]
     },
     "execution_count": 3,
     "metadata": {},
     "output_type": "execute_result"
    }
   ],
   "source": [
    "df.shape\n",
    "# (374362, 154)"
   ]
  },
  {
   "cell_type": "code",
   "execution_count": 4,
   "metadata": {},
   "outputs": [
    {
     "data": {
      "text/html": [
       "<div>\n",
       "<style scoped>\n",
       "    .dataframe tbody tr th:only-of-type {\n",
       "        vertical-align: middle;\n",
       "    }\n",
       "\n",
       "    .dataframe tbody tr th {\n",
       "        vertical-align: top;\n",
       "    }\n",
       "\n",
       "    .dataframe thead th {\n",
       "        text-align: right;\n",
       "    }\n",
       "</style>\n",
       "<table border=\"1\" class=\"dataframe\">\n",
       "  <thead>\n",
       "    <tr style=\"text-align: right;\">\n",
       "      <th></th>\n",
       "      <th>add_these_pw_job_title_9089</th>\n",
       "      <th>agent_city</th>\n",
       "      <th>agent_firm_name</th>\n",
       "      <th>agent_state</th>\n",
       "      <th>application_type</th>\n",
       "      <th>case_no</th>\n",
       "      <th>case_number</th>\n",
       "      <th>case_received_date</th>\n",
       "      <th>case_status</th>\n",
       "      <th>class_of_admission</th>\n",
       "      <th>...</th>\n",
       "      <th>ri_pvt_employment_firm_to</th>\n",
       "      <th>ri_us_workers_considered</th>\n",
       "      <th>schd_a_sheepherder</th>\n",
       "      <th>us_economic_sector</th>\n",
       "      <th>wage_offer_from_9089</th>\n",
       "      <th>wage_offer_to_9089</th>\n",
       "      <th>wage_offer_unit_of_pay_9089</th>\n",
       "      <th>wage_offered_from_9089</th>\n",
       "      <th>wage_offered_to_9089</th>\n",
       "      <th>wage_offered_unit_of_pay_9089</th>\n",
       "    </tr>\n",
       "  </thead>\n",
       "  <tbody>\n",
       "    <tr>\n",
       "      <th>0</th>\n",
       "      <td>NaN</td>\n",
       "      <td>NaN</td>\n",
       "      <td>NaN</td>\n",
       "      <td>NaN</td>\n",
       "      <td>PERM</td>\n",
       "      <td>A-07323-97014</td>\n",
       "      <td>NaN</td>\n",
       "      <td>NaT</td>\n",
       "      <td>Certified</td>\n",
       "      <td>J-1</td>\n",
       "      <td>...</td>\n",
       "      <td>NaN</td>\n",
       "      <td>NaN</td>\n",
       "      <td>NaN</td>\n",
       "      <td>IT</td>\n",
       "      <td>75629.0</td>\n",
       "      <td>NaN</td>\n",
       "      <td>yr</td>\n",
       "      <td>NaN</td>\n",
       "      <td>NaN</td>\n",
       "      <td>NaN</td>\n",
       "    </tr>\n",
       "    <tr>\n",
       "      <th>1</th>\n",
       "      <td>NaN</td>\n",
       "      <td>NaN</td>\n",
       "      <td>NaN</td>\n",
       "      <td>NaN</td>\n",
       "      <td>PERM</td>\n",
       "      <td>A-07332-99439</td>\n",
       "      <td>NaN</td>\n",
       "      <td>NaT</td>\n",
       "      <td>Denied</td>\n",
       "      <td>B-2</td>\n",
       "      <td>...</td>\n",
       "      <td>NaN</td>\n",
       "      <td>NaN</td>\n",
       "      <td>NaN</td>\n",
       "      <td>Other Economic Sector</td>\n",
       "      <td>37024.0</td>\n",
       "      <td>NaN</td>\n",
       "      <td>yr</td>\n",
       "      <td>NaN</td>\n",
       "      <td>NaN</td>\n",
       "      <td>NaN</td>\n",
       "    </tr>\n",
       "    <tr>\n",
       "      <th>2</th>\n",
       "      <td>NaN</td>\n",
       "      <td>NaN</td>\n",
       "      <td>NaN</td>\n",
       "      <td>NaN</td>\n",
       "      <td>PERM</td>\n",
       "      <td>A-07333-99643</td>\n",
       "      <td>NaN</td>\n",
       "      <td>NaT</td>\n",
       "      <td>Certified</td>\n",
       "      <td>H-1B</td>\n",
       "      <td>...</td>\n",
       "      <td>NaN</td>\n",
       "      <td>NaN</td>\n",
       "      <td>NaN</td>\n",
       "      <td>Aerospace</td>\n",
       "      <td>47923.0</td>\n",
       "      <td>NaN</td>\n",
       "      <td>yr</td>\n",
       "      <td>NaN</td>\n",
       "      <td>NaN</td>\n",
       "      <td>NaN</td>\n",
       "    </tr>\n",
       "    <tr>\n",
       "      <th>3</th>\n",
       "      <td>NaN</td>\n",
       "      <td>NaN</td>\n",
       "      <td>NaN</td>\n",
       "      <td>NaN</td>\n",
       "      <td>PERM</td>\n",
       "      <td>A-07339-01930</td>\n",
       "      <td>NaN</td>\n",
       "      <td>NaT</td>\n",
       "      <td>Certified</td>\n",
       "      <td>B-2</td>\n",
       "      <td>...</td>\n",
       "      <td>NaN</td>\n",
       "      <td>NaN</td>\n",
       "      <td>NaN</td>\n",
       "      <td>Other Economic Sector</td>\n",
       "      <td>10.97</td>\n",
       "      <td>NaN</td>\n",
       "      <td>hr</td>\n",
       "      <td>NaN</td>\n",
       "      <td>NaN</td>\n",
       "      <td>NaN</td>\n",
       "    </tr>\n",
       "    <tr>\n",
       "      <th>4</th>\n",
       "      <td>NaN</td>\n",
       "      <td>NaN</td>\n",
       "      <td>NaN</td>\n",
       "      <td>NaN</td>\n",
       "      <td>PERM</td>\n",
       "      <td>A-07345-03565</td>\n",
       "      <td>NaN</td>\n",
       "      <td>NaT</td>\n",
       "      <td>Certified</td>\n",
       "      <td>L-1</td>\n",
       "      <td>...</td>\n",
       "      <td>NaN</td>\n",
       "      <td>NaN</td>\n",
       "      <td>NaN</td>\n",
       "      <td>Advanced Mfg</td>\n",
       "      <td>100000.0</td>\n",
       "      <td>NaN</td>\n",
       "      <td>yr</td>\n",
       "      <td>NaN</td>\n",
       "      <td>NaN</td>\n",
       "      <td>NaN</td>\n",
       "    </tr>\n",
       "  </tbody>\n",
       "</table>\n",
       "<p>5 rows × 154 columns</p>\n",
       "</div>"
      ],
      "text/plain": [
       "  add_these_pw_job_title_9089 agent_city agent_firm_name agent_state  \\\n",
       "0                         NaN        NaN             NaN         NaN   \n",
       "1                         NaN        NaN             NaN         NaN   \n",
       "2                         NaN        NaN             NaN         NaN   \n",
       "3                         NaN        NaN             NaN         NaN   \n",
       "4                         NaN        NaN             NaN         NaN   \n",
       "\n",
       "  application_type        case_no case_number case_received_date case_status  \\\n",
       "0             PERM  A-07323-97014         NaN                NaT   Certified   \n",
       "1             PERM  A-07332-99439         NaN                NaT      Denied   \n",
       "2             PERM  A-07333-99643         NaN                NaT   Certified   \n",
       "3             PERM  A-07339-01930         NaN                NaT   Certified   \n",
       "4             PERM  A-07345-03565         NaN                NaT   Certified   \n",
       "\n",
       "  class_of_admission              ...               ri_pvt_employment_firm_to  \\\n",
       "0                J-1              ...                                     NaN   \n",
       "1                B-2              ...                                     NaN   \n",
       "2               H-1B              ...                                     NaN   \n",
       "3                B-2              ...                                     NaN   \n",
       "4                L-1              ...                                     NaN   \n",
       "\n",
       "  ri_us_workers_considered schd_a_sheepherder     us_economic_sector  \\\n",
       "0                      NaN                NaN                     IT   \n",
       "1                      NaN                NaN  Other Economic Sector   \n",
       "2                      NaN                NaN              Aerospace   \n",
       "3                      NaN                NaN  Other Economic Sector   \n",
       "4                      NaN                NaN           Advanced Mfg   \n",
       "\n",
       "  wage_offer_from_9089 wage_offer_to_9089 wage_offer_unit_of_pay_9089  \\\n",
       "0              75629.0                NaN                          yr   \n",
       "1              37024.0                NaN                          yr   \n",
       "2              47923.0                NaN                          yr   \n",
       "3                10.97                NaN                          hr   \n",
       "4             100000.0                NaN                          yr   \n",
       "\n",
       "  wage_offered_from_9089 wage_offered_to_9089  wage_offered_unit_of_pay_9089  \n",
       "0                    NaN                  NaN                            NaN  \n",
       "1                    NaN                  NaN                            NaN  \n",
       "2                    NaN                  NaN                            NaN  \n",
       "3                    NaN                  NaN                            NaN  \n",
       "4                    NaN                  NaN                            NaN  \n",
       "\n",
       "[5 rows x 154 columns]"
      ]
     },
     "execution_count": 4,
     "metadata": {},
     "output_type": "execute_result"
    }
   ],
   "source": [
    "df.head()"
   ]
  },
  {
   "cell_type": "code",
   "execution_count": 5,
   "metadata": {},
   "outputs": [
    {
     "name": "stdout",
     "output_type": "stream",
     "text": [
      "{'add_these_pw_job_title_9089': dtype('O')}\n",
      "{'agent_city': dtype('O')}\n",
      "{'agent_firm_name': dtype('O')}\n",
      "{'agent_state': dtype('O')}\n",
      "{'application_type': dtype('O')}\n",
      "{'case_no': dtype('O')}\n",
      "{'case_number': dtype('O')}\n",
      "{'case_received_date': dtype('<M8[ns]')}\n",
      "{'case_status': dtype('O')}\n",
      "{'class_of_admission': dtype('O')}\n",
      "{'country_of_citizenship': dtype('O')}\n",
      "{'country_of_citzenship': dtype('O')}\n",
      "{'decision_date': dtype('<M8[ns]')}\n",
      "{'employer_address_1': dtype('O')}\n",
      "{'employer_address_2': dtype('O')}\n",
      "{'employer_city': dtype('O')}\n",
      "{'employer_country': dtype('O')}\n",
      "{'employer_decl_info_title': dtype('O')}\n",
      "{'employer_name': dtype('O')}\n",
      "{'employer_num_employees': dtype('float64')}\n",
      "{'employer_phone': dtype('O')}\n",
      "{'employer_phone_ext': dtype('O')}\n",
      "{'employer_postal_code': dtype('O')}\n",
      "{'employer_state': dtype('O')}\n",
      "{'employer_yr_estab': dtype('float64')}\n",
      "{'foreign_worker_info_alt_edu_experience': dtype('O')}\n",
      "{'foreign_worker_info_birth_country': dtype('O')}\n",
      "{'foreign_worker_info_city': dtype('O')}\n",
      "{'foreign_worker_info_education': dtype('O')}\n",
      "{'foreign_worker_info_education_other': dtype('O')}\n",
      "{'foreign_worker_info_inst': dtype('O')}\n",
      "{'foreign_worker_info_major': dtype('O')}\n",
      "{'foreign_worker_info_postal_code': dtype('O')}\n",
      "{'foreign_worker_info_rel_occup_exp': dtype('O')}\n",
      "{'foreign_worker_info_req_experience': dtype('O')}\n",
      "{'foreign_worker_info_state': dtype('O')}\n",
      "{'foreign_worker_info_training_comp': dtype('O')}\n",
      "{'foreign_worker_ownership_interest': dtype('O')}\n",
      "{'foreign_worker_yr_rel_edu_completed': dtype('float64')}\n",
      "{'fw_info_alt_edu_experience': dtype('O')}\n",
      "{'fw_info_birth_country': dtype('O')}\n",
      "{'fw_info_education_other': dtype('O')}\n",
      "{'fw_info_postal_code': dtype('O')}\n",
      "{'fw_info_rel_occup_exp': dtype('O')}\n",
      "{'fw_info_req_experience': dtype('O')}\n",
      "{'fw_info_training_comp': dtype('O')}\n",
      "{'fw_info_yr_rel_edu_completed': dtype('float64')}\n",
      "{'fw_ownership_interest': dtype('O')}\n",
      "{'ji_foreign_worker_live_on_premises': dtype('O')}\n",
      "{'ji_fw_live_on_premises': dtype('O')}\n",
      "{'ji_live_in_dom_svc_contract': dtype('O')}\n",
      "{'ji_live_in_domestic_service': dtype('O')}\n",
      "{'ji_offered_to_sec_j_foreign_worker': dtype('O')}\n",
      "{'ji_offered_to_sec_j_fw': dtype('O')}\n",
      "{'job_info_alt_cmb_ed_oth_yrs': dtype('float64')}\n",
      "{'job_info_alt_combo_ed': dtype('O')}\n",
      "{'job_info_alt_combo_ed_exp': dtype('O')}\n",
      "{'job_info_alt_combo_ed_other': dtype('O')}\n",
      "{'job_info_alt_field': dtype('O')}\n",
      "{'job_info_alt_field_name': dtype('O')}\n",
      "{'job_info_alt_occ': dtype('O')}\n",
      "{'job_info_alt_occ_job_title': dtype('O')}\n",
      "{'job_info_alt_occ_num_months': dtype('float64')}\n",
      "{'job_info_combo_occupation': dtype('O')}\n",
      "{'job_info_education': dtype('O')}\n",
      "{'job_info_education_other': dtype('O')}\n",
      "{'job_info_experience': dtype('O')}\n",
      "{'job_info_experience_num_months': dtype('float64')}\n",
      "{'job_info_foreign_ed': dtype('O')}\n",
      "{'job_info_foreign_lang_req': dtype('O')}\n",
      "{'job_info_job_req_normal': dtype('O')}\n",
      "{'job_info_job_title': dtype('O')}\n",
      "{'job_info_major': dtype('O')}\n",
      "{'job_info_training': dtype('O')}\n",
      "{'job_info_training_field': dtype('O')}\n",
      "{'job_info_training_num_months': dtype('float64')}\n",
      "{'job_info_work_city': dtype('O')}\n",
      "{'job_info_work_postal_code': dtype('O')}\n",
      "{'job_info_work_state': dtype('O')}\n",
      "{'naics_2007_us_code': dtype('O')}\n",
      "{'naics_2007_us_title': dtype('O')}\n",
      "{'naics_code': dtype('O')}\n",
      "{'naics_title': dtype('O')}\n",
      "{'naics_us_code': dtype('O')}\n",
      "{'naics_us_code_2007': dtype('O')}\n",
      "{'naics_us_title': dtype('O')}\n",
      "{'naics_us_title_2007': dtype('O')}\n",
      "{'orig_case_no': dtype('O')}\n",
      "{'orig_file_date': dtype('O')}\n",
      "{'preparer_info_emp_completed': dtype('O')}\n",
      "{'preparer_info_title': dtype('O')}\n",
      "{'pw_amount_9089': dtype('O')}\n",
      "{'pw_determ_date': dtype('O')}\n",
      "{'pw_expire_date': dtype('O')}\n",
      "{'pw_job_title_908': dtype('O')}\n",
      "{'pw_job_title_9089': dtype('O')}\n",
      "{'pw_level_9089': dtype('O')}\n",
      "{'pw_soc_code': dtype('O')}\n",
      "{'pw_soc_title': dtype('O')}\n",
      "{'pw_source_name_9089': dtype('O')}\n",
      "{'pw_source_name_other_9089': dtype('O')}\n",
      "{'pw_track_num': dtype('O')}\n",
      "{'pw_unit_of_pay_9089': dtype('O')}\n",
      "{'rec_info_barg_rep_notified': dtype('O')}\n",
      "{'recr_info_barg_rep_notified': dtype('O')}\n",
      "{'recr_info_coll_teach_comp_proc': dtype('O')}\n",
      "{'recr_info_coll_univ_teacher': dtype('O')}\n",
      "{'recr_info_employer_rec_payment': dtype('O')}\n",
      "{'recr_info_first_ad_start': dtype('O')}\n",
      "{'recr_info_job_fair_from': dtype('O')}\n",
      "{'recr_info_job_fair_to': dtype('O')}\n",
      "{'recr_info_on_campus_recr_from': dtype('O')}\n",
      "{'recr_info_on_campus_recr_to': dtype('O')}\n",
      "{'recr_info_pro_org_advert_from': dtype('O')}\n",
      "{'recr_info_pro_org_advert_to': dtype('O')}\n",
      "{'recr_info_prof_org_advert_from': dtype('O')}\n",
      "{'recr_info_prof_org_advert_to': dtype('O')}\n",
      "{'recr_info_professional_occ': dtype('O')}\n",
      "{'recr_info_radio_tv_ad_from': dtype('O')}\n",
      "{'recr_info_radio_tv_ad_to': dtype('O')}\n",
      "{'recr_info_second_ad_start': dtype('O')}\n",
      "{'recr_info_sunday_newspaper': dtype('O')}\n",
      "{'recr_info_swa_job_order_end': dtype('O')}\n",
      "{'recr_info_swa_job_order_start': dtype('O')}\n",
      "{'refile': dtype('O')}\n",
      "{'ri_1st_ad_newspaper_name': dtype('O')}\n",
      "{'ri_2nd_ad_newspaper_name': dtype('O')}\n",
      "{'ri_2nd_ad_newspaper_or_journal': dtype('O')}\n",
      "{'ri_campus_placement_from': dtype('O')}\n",
      "{'ri_campus_placement_to': dtype('O')}\n",
      "{'ri_coll_tch_basic_process': dtype('O')}\n",
      "{'ri_coll_teach_pro_jnl': dtype('O')}\n",
      "{'ri_coll_teach_select_date': dtype('O')}\n",
      "{'ri_employee_referral_prog_from': dtype('O')}\n",
      "{'ri_employee_referral_prog_to': dtype('O')}\n",
      "{'ri_employer_web_post_from': dtype('O')}\n",
      "{'ri_employer_web_post_to': dtype('O')}\n",
      "{'ri_job_search_website_from': dtype('O')}\n",
      "{'ri_job_search_website_to': dtype('O')}\n",
      "{'ri_layoff_in_past_six_months': dtype('O')}\n",
      "{'ri_local_ethnic_paper_from': dtype('O')}\n",
      "{'ri_local_ethnic_paper_to': dtype('O')}\n",
      "{'ri_posted_notice_at_worksite': dtype('O')}\n",
      "{'ri_pvt_employment_firm_from': dtype('O')}\n",
      "{'ri_pvt_employment_firm_to': dtype('O')}\n",
      "{'ri_us_workers_considered': dtype('O')}\n",
      "{'schd_a_sheepherder': dtype('O')}\n",
      "{'us_economic_sector': dtype('O')}\n",
      "{'wage_offer_from_9089': dtype('O')}\n",
      "{'wage_offer_to_9089': dtype('O')}\n",
      "{'wage_offer_unit_of_pay_9089': dtype('O')}\n",
      "{'wage_offered_from_9089': dtype('float64')}\n",
      "{'wage_offered_to_9089': dtype('float64')}\n",
      "{'wage_offered_unit_of_pay_9089': dtype('O')}\n"
     ]
    }
   ],
   "source": [
    "for l in df.columns:\n",
    "    dic = {l: df[l].dtype}\n",
    "    print(dic)"
   ]
  },
  {
   "cell_type": "code",
   "execution_count": 6,
   "metadata": {},
   "outputs": [
    {
     "data": {
      "text/html": [
       "<div>\n",
       "<style scoped>\n",
       "    .dataframe tbody tr th:only-of-type {\n",
       "        vertical-align: middle;\n",
       "    }\n",
       "\n",
       "    .dataframe tbody tr th {\n",
       "        vertical-align: top;\n",
       "    }\n",
       "\n",
       "    .dataframe thead th {\n",
       "        text-align: right;\n",
       "    }\n",
       "</style>\n",
       "<table border=\"1\" class=\"dataframe\">\n",
       "  <thead>\n",
       "    <tr style=\"text-align: right;\">\n",
       "      <th></th>\n",
       "      <th>employer_num_employees</th>\n",
       "      <th>employer_yr_estab</th>\n",
       "      <th>foreign_worker_yr_rel_edu_completed</th>\n",
       "      <th>fw_info_yr_rel_edu_completed</th>\n",
       "      <th>job_info_alt_cmb_ed_oth_yrs</th>\n",
       "      <th>job_info_alt_occ_num_months</th>\n",
       "      <th>job_info_experience_num_months</th>\n",
       "      <th>job_info_training_num_months</th>\n",
       "      <th>wage_offered_from_9089</th>\n",
       "      <th>wage_offered_to_9089</th>\n",
       "    </tr>\n",
       "  </thead>\n",
       "  <tbody>\n",
       "    <tr>\n",
       "      <th>count</th>\n",
       "      <td>2.390130e+05</td>\n",
       "      <td>238958.000000</td>\n",
       "      <td>83364.000000</td>\n",
       "      <td>137198.000000</td>\n",
       "      <td>70220.000000</td>\n",
       "      <td>147200.000000</td>\n",
       "      <td>133188.000000</td>\n",
       "      <td>4779.000000</td>\n",
       "      <td>1.146470e+05</td>\n",
       "      <td>3.101500e+04</td>\n",
       "    </tr>\n",
       "    <tr>\n",
       "      <th>mean</th>\n",
       "      <td>2.309387e+04</td>\n",
       "      <td>1984.208267</td>\n",
       "      <td>2001.345761</td>\n",
       "      <td>2002.633603</td>\n",
       "      <td>4.593876</td>\n",
       "      <td>36.483118</td>\n",
       "      <td>33.103560</td>\n",
       "      <td>32.685081</td>\n",
       "      <td>9.588846e+04</td>\n",
       "      <td>1.232273e+05</td>\n",
       "    </tr>\n",
       "    <tr>\n",
       "      <th>std</th>\n",
       "      <td>5.453129e+05</td>\n",
       "      <td>38.470555</td>\n",
       "      <td>91.444715</td>\n",
       "      <td>89.674423</td>\n",
       "      <td>4.838582</td>\n",
       "      <td>23.391668</td>\n",
       "      <td>22.733393</td>\n",
       "      <td>20.593288</td>\n",
       "      <td>1.463822e+05</td>\n",
       "      <td>1.080289e+05</td>\n",
       "    </tr>\n",
       "    <tr>\n",
       "      <th>min</th>\n",
       "      <td>0.000000e+00</td>\n",
       "      <td>0.000000</td>\n",
       "      <td>0.000000</td>\n",
       "      <td>0.000000</td>\n",
       "      <td>0.000000</td>\n",
       "      <td>0.000000</td>\n",
       "      <td>0.000000</td>\n",
       "      <td>0.000000</td>\n",
       "      <td>6.700000e+00</td>\n",
       "      <td>0.000000e+00</td>\n",
       "    </tr>\n",
       "    <tr>\n",
       "      <th>25%</th>\n",
       "      <td>7.300000e+01</td>\n",
       "      <td>1980.000000</td>\n",
       "      <td>2003.000000</td>\n",
       "      <td>2004.000000</td>\n",
       "      <td>3.000000</td>\n",
       "      <td>24.000000</td>\n",
       "      <td>12.000000</td>\n",
       "      <td>12.000000</td>\n",
       "      <td>7.453400e+04</td>\n",
       "      <td>9.700100e+04</td>\n",
       "    </tr>\n",
       "    <tr>\n",
       "      <th>50%</th>\n",
       "      <td>1.200000e+03</td>\n",
       "      <td>1996.000000</td>\n",
       "      <td>2006.000000</td>\n",
       "      <td>2007.000000</td>\n",
       "      <td>5.000000</td>\n",
       "      <td>24.000000</td>\n",
       "      <td>24.000000</td>\n",
       "      <td>36.000000</td>\n",
       "      <td>9.064400e+04</td>\n",
       "      <td>1.206000e+05</td>\n",
       "    </tr>\n",
       "    <tr>\n",
       "      <th>75%</th>\n",
       "      <td>1.613400e+04</td>\n",
       "      <td>2004.000000</td>\n",
       "      <td>2010.000000</td>\n",
       "      <td>2011.000000</td>\n",
       "      <td>5.000000</td>\n",
       "      <td>60.000000</td>\n",
       "      <td>60.000000</td>\n",
       "      <td>36.000000</td>\n",
       "      <td>1.100000e+05</td>\n",
       "      <td>1.448419e+05</td>\n",
       "    </tr>\n",
       "    <tr>\n",
       "      <th>max</th>\n",
       "      <td>2.635506e+08</td>\n",
       "      <td>2016.000000</td>\n",
       "      <td>2103.000000</td>\n",
       "      <td>2207.000000</td>\n",
       "      <td>96.000000</td>\n",
       "      <td>240.000000</td>\n",
       "      <td>244.000000</td>\n",
       "      <td>240.000000</td>\n",
       "      <td>1.629060e+07</td>\n",
       "      <td>1.328500e+07</td>\n",
       "    </tr>\n",
       "  </tbody>\n",
       "</table>\n",
       "</div>"
      ],
      "text/plain": [
       "       employer_num_employees  employer_yr_estab  \\\n",
       "count            2.390130e+05      238958.000000   \n",
       "mean             2.309387e+04        1984.208267   \n",
       "std              5.453129e+05          38.470555   \n",
       "min              0.000000e+00           0.000000   \n",
       "25%              7.300000e+01        1980.000000   \n",
       "50%              1.200000e+03        1996.000000   \n",
       "75%              1.613400e+04        2004.000000   \n",
       "max              2.635506e+08        2016.000000   \n",
       "\n",
       "       foreign_worker_yr_rel_edu_completed  fw_info_yr_rel_edu_completed  \\\n",
       "count                         83364.000000                 137198.000000   \n",
       "mean                           2001.345761                   2002.633603   \n",
       "std                              91.444715                     89.674423   \n",
       "min                               0.000000                      0.000000   \n",
       "25%                            2003.000000                   2004.000000   \n",
       "50%                            2006.000000                   2007.000000   \n",
       "75%                            2010.000000                   2011.000000   \n",
       "max                            2103.000000                   2207.000000   \n",
       "\n",
       "       job_info_alt_cmb_ed_oth_yrs  job_info_alt_occ_num_months  \\\n",
       "count                 70220.000000                147200.000000   \n",
       "mean                      4.593876                    36.483118   \n",
       "std                       4.838582                    23.391668   \n",
       "min                       0.000000                     0.000000   \n",
       "25%                       3.000000                    24.000000   \n",
       "50%                       5.000000                    24.000000   \n",
       "75%                       5.000000                    60.000000   \n",
       "max                      96.000000                   240.000000   \n",
       "\n",
       "       job_info_experience_num_months  job_info_training_num_months  \\\n",
       "count                   133188.000000                   4779.000000   \n",
       "mean                        33.103560                     32.685081   \n",
       "std                         22.733393                     20.593288   \n",
       "min                          0.000000                      0.000000   \n",
       "25%                         12.000000                     12.000000   \n",
       "50%                         24.000000                     36.000000   \n",
       "75%                         60.000000                     36.000000   \n",
       "max                        244.000000                    240.000000   \n",
       "\n",
       "       wage_offered_from_9089  wage_offered_to_9089  \n",
       "count            1.146470e+05          3.101500e+04  \n",
       "mean             9.588846e+04          1.232273e+05  \n",
       "std              1.463822e+05          1.080289e+05  \n",
       "min              6.700000e+00          0.000000e+00  \n",
       "25%              7.453400e+04          9.700100e+04  \n",
       "50%              9.064400e+04          1.206000e+05  \n",
       "75%              1.100000e+05          1.448419e+05  \n",
       "max              1.629060e+07          1.328500e+07  "
      ]
     },
     "execution_count": 6,
     "metadata": {},
     "output_type": "execute_result"
    }
   ],
   "source": [
    "df.describe()"
   ]
  },
  {
   "cell_type": "code",
   "execution_count": 7,
   "metadata": {},
   "outputs": [
    {
     "data": {
      "text/plain": [
       "Certified            181933\n",
       "Certified-Expired    148586\n",
       "Denied                25649\n",
       "Withdrawn             18194\n",
       "Name: case_status, dtype: int64"
      ]
     },
     "execution_count": 7,
     "metadata": {},
     "output_type": "execute_result"
    }
   ],
   "source": [
    "df['case_status'].value_counts()"
   ]
  },
  {
   "cell_type": "code",
   "execution_count": 8,
   "metadata": {},
   "outputs": [
    {
     "data": {
      "image/png": "[encoded data removed]",
      "text/plain": [
       "<Figure size 720x576 with 2 Axes>"
      ]
     },
     "metadata": {
      "needs_background": "light"
     },
     "output_type": "display_data"
    }
   ],
   "source": [
    "corr_matrix = df.corr()\n",
    "\n",
    "fig, ax = plt.subplots(figsize=(10,8))\n",
    "hm = sns.heatmap(corr_matrix, annot = True, linewidths=.5, ax = ax)"
   ]
  },
  {
   "cell_type": "code",
   "execution_count": 7,
   "metadata": {},
   "outputs": [],
   "source": [
    "#Based on Correlation, droping columns\n",
    "\n",
    "del df['job_info_alt_occ_num_months']\n",
    "del df['foreign_worker_yr_rel_edu_completed']"
   ]
  },
  {
   "cell_type": "code",
   "execution_count": 8,
   "metadata": {},
   "outputs": [],
   "source": [
    "del df['wage_offered_from_9089']\n",
    "del df['wage_offered_to_9089']"
   ]
  },
  {
   "cell_type": "code",
   "execution_count": 11,
   "metadata": {},
   "outputs": [
    {
     "data": {
      "image/png": "[encoded data removed]",
      "text/plain": [
       "<Figure size 720x576 with 2 Axes>"
      ]
     },
     "metadata": {
      "needs_background": "light"
     },
     "output_type": "display_data"
    }
   ],
   "source": [
    "corr_matrix = df.corr()\n",
    "\n",
    "fig, ax = plt.subplots(figsize=(10,8))\n",
    "hm = sns.heatmap(corr_matrix, annot = True, linewidths=.5, ax = ax)"
   ]
  },
  {
   "cell_type": "code",
   "execution_count": 12,
   "metadata": {},
   "outputs": [
    {
     "name": "stdout",
     "output_type": "stream",
     "text": [
      "374362 \n",
      "\n",
      "add_these_pw_job_title_9089               332168\n",
      "agent_city                                162908\n",
      "agent_firm_name                           167365\n",
      "agent_state                               166123\n",
      "application_type                          239093\n",
      "case_no                                   239093\n",
      "case_number                               135269\n",
      "case_received_date                        135271\n",
      "case_status                                    0\n",
      "class_of_admission                         22845\n",
      "country_of_citizenship                     20633\n",
      "country_of_citzenship                     353788\n",
      "decision_date                                  0\n",
      "employer_address_1                            42\n",
      "employer_address_2                        149193\n",
      "employer_city                                 14\n",
      "employer_country                          135343\n",
      "employer_decl_info_title                  135308\n",
      "employer_name                                 12\n",
      "employer_num_employees                    135349\n",
      "employer_phone                            135305\n",
      "employer_phone_ext                        350901\n",
      "employer_postal_code                          37\n",
      "employer_state                                42\n",
      "employer_yr_estab                         135404\n",
      "foreign_worker_info_alt_edu_experience    285737\n",
      "foreign_worker_info_birth_country         285734\n",
      "foreign_worker_info_city                  135297\n",
      "foreign_worker_info_education             135309\n",
      "foreign_worker_info_education_other       370422\n",
      "                                           ...  \n",
      "recr_info_swa_job_order_end               141465\n",
      "recr_info_swa_job_order_start             141443\n",
      "refile                                    256283\n",
      "ri_1st_ad_newspaper_name                  137634\n",
      "ri_2nd_ad_newspaper_name                  137666\n",
      "ri_2nd_ad_newspaper_or_journal            141448\n",
      "ri_campus_placement_from                  344359\n",
      "ri_campus_placement_to                    344369\n",
      "ri_coll_tch_basic_process                 367349\n",
      "ri_coll_teach_pro_jnl                     221788\n",
      "ri_coll_teach_select_date                 368632\n",
      "ri_employee_referral_prog_from            305641\n",
      "ri_employee_referral_prog_to              305640\n",
      "ri_employer_web_post_from                 237726\n",
      "ri_employer_web_post_to                   237748\n",
      "ri_job_search_website_from                177571\n",
      "ri_job_search_website_to                  177581\n",
      "ri_layoff_in_past_six_months              135303\n",
      "ri_local_ethnic_paper_from                253481\n",
      "ri_local_ethnic_paper_to                  253481\n",
      "ri_posted_notice_at_worksite              135360\n",
      "ri_pvt_employment_firm_from               357920\n",
      "ri_pvt_employment_firm_to                 357922\n",
      "ri_us_workers_considered                  357129\n",
      "schd_a_sheepherder                        135288\n",
      "us_economic_sector                        245294\n",
      "wage_offer_from_9089                      114771\n",
      "wage_offer_to_9089                        300728\n",
      "wage_offer_unit_of_pay_9089               115916\n",
      "wage_offered_unit_of_pay_9089             303663\n",
      "Length: 150, dtype: int64\n"
     ]
    }
   ],
   "source": [
    "# checking count of NaN\n",
    "\n",
    "print(len(df),'\\n')\n",
    "print(len(df) - df.count())"
   ]
  },
  {
   "cell_type": "markdown",
   "metadata": {},
   "source": [
    "### Preparing Target variable"
   ]
  },
  {
   "cell_type": "code",
   "execution_count": 9,
   "metadata": {},
   "outputs": [
    {
     "data": {
      "text/plain": [
       "Certified            181933\n",
       "Certified-Expired    148586\n",
       "Denied                25649\n",
       "Name: case_status, dtype: int64"
      ]
     },
     "execution_count": 9,
     "metadata": {},
     "output_type": "execute_result"
    }
   ],
   "source": [
    "#droping all the withdrawn status as it wouldn't be useful\n",
    "\n",
    "df = df.drop(df[df.case_status == 'Withdrawn'].index)\n",
    "df['case_status'].value_counts()"
   ]
  },
  {
   "cell_type": "code",
   "execution_count": 10,
   "metadata": {},
   "outputs": [
    {
     "data": {
      "text/plain": [
       "Certified    330519\n",
       "Denied        25649\n",
       "Name: case_status, dtype: int64"
      ]
     },
     "execution_count": 10,
     "metadata": {},
     "output_type": "execute_result"
    }
   ],
   "source": [
    "#Converting the Certified-expired to certified\n",
    "\n",
    "df.loc[df.case_status == 'Certified-Expired', 'case_status'] = 'Certified'\n",
    "df['case_status'].value_counts()"
   ]
  },
  {
   "cell_type": "code",
   "execution_count": 11,
   "metadata": {},
   "outputs": [
    {
     "data": {
      "text/plain": [
       "<matplotlib.axes._subplots.AxesSubplot at 0x1ae0000fc50>"
      ]
     },
     "execution_count": 11,
     "metadata": {},
     "output_type": "execute_result"
    },
    {
     "data": {
      "image/png": "[encoded data removed]",
      "text/plain": [
       "<Figure size 432x288 with 1 Axes>"
      ]
     },
     "metadata": {
      "needs_background": "light"
     },
     "output_type": "display_data"
    }
   ],
   "source": [
    "#Total Number of data points of each class\n",
    "df['case_status'].value_counts().plot(kind = 'bar')"
   ]
  },
  {
   "cell_type": "markdown",
   "metadata": {},
   "source": [
    "### Checking percent of values in each column as compared to case_status"
   ]
  },
  {
   "cell_type": "code",
   "execution_count": 19,
   "metadata": {},
   "outputs": [
    {
     "name": "stdout",
     "output_type": "stream",
     "text": [
      "0 add_these_pw_job_title_9089 10.988353810561309\n",
      "1 agent_city 56.915837469958\n",
      "2 agent_firm_name 55.738303272612924\n",
      "3 agent_state 56.04770782327441\n",
      "4 application_type 35.614653758900296\n",
      "5 case_no 35.614653758900296\n",
      "6 case_number 64.38534624109971\n",
      "7 case_received_date 64.38534624109971\n",
      "8 case_status 100.0\n",
      "9 class_of_admission 94.08004087958491\n",
      "10 country_of_citizenship 94.58907032636284\n",
      "11 country_of_citzenship 5.395487522742076\n",
      "12 decision_date 100.0\n",
      "13 employer_address_1 99.9896116439433\n",
      "14 employer_address_2 60.40464050672716\n",
      "15 employer_city 99.9971923362009\n",
      "16 employer_country 64.36513106174614\n",
      "17 employer_decl_info_title 64.37495788504302\n",
      "18 employer_name 99.99775386896071\n",
      "19 employer_num_employees 64.36372722984659\n",
      "20 employer_phone 64.37551941780283\n",
      "21 employer_phone_ext 6.316682015228769\n",
      "22 employer_postal_code 99.99073470946296\n",
      "23 employer_state 99.9896116439433\n",
      "24 employer_yr_estab 64.34772354619169\n",
      "25 foreign_worker_info_alt_edu_experience 23.66439433076526\n",
      "26 foreign_worker_info_birth_country 23.66523662990499\n",
      "27 foreign_worker_info_city 64.37776554884212\n",
      "28 foreign_worker_info_education 64.3743963522832\n",
      "29 foreign_worker_info_education_other 1.052031625525033\n",
      "30 foreign_worker_info_inst 59.602490959322566\n",
      "31 foreign_worker_info_major 59.345028188944546\n",
      "32 foreign_worker_info_postal_code 22.950686193032503\n",
      "33 foreign_worker_info_rel_occup_exp 23.66664046180454\n",
      "34 foreign_worker_info_req_experience 23.667201994564362\n",
      "35 foreign_worker_info_state 60.00539071449428\n",
      "36 foreign_worker_info_training_comp 23.666921228184453\n",
      "37 foreign_worker_ownership_interest 23.668044293704096\n",
      "38 fw_info_alt_edu_experience 40.715055816356326\n",
      "39 fw_info_birth_country 40.7116866197974\n",
      "40 fw_info_education_other 40.59657240403405\n",
      "41 fw_info_postal_code 40.11814649266638\n",
      "42 fw_info_rel_occup_exp 40.71421351721659\n",
      "43 fw_info_req_experience 40.715336582736235\n",
      "44 fw_info_training_comp 40.71449428359651\n",
      "45 fw_info_yr_rel_edu_completed 37.352316884167024\n",
      "46 fw_ownership_interest 40.715055816356326\n",
      "47 ji_foreign_worker_live_on_premises 23.667763527324183\n",
      "48 ji_fw_live_on_premises 40.715617349116144\n",
      "49 ji_live_in_dom_svc_contract 0.649412636733227\n",
      "50 ji_live_in_domestic_service 64.3825385773006\n",
      "51 ji_offered_to_sec_j_foreign_worker 23.667763527324183\n",
      "52 ji_offered_to_sec_j_fw 40.715617349116144\n",
      "53 job_info_alt_cmb_ed_oth_yrs 19.071337121807687\n",
      "54 job_info_alt_combo_ed 19.164832326317917\n",
      "55 job_info_alt_combo_ed_exp 64.37608095056265\n",
      "56 job_info_alt_combo_ed_other 2.524651288156151\n",
      "57 job_info_alt_field 64.37636171694257\n",
      "58 job_info_alt_field_name 25.342254217111027\n",
      "59 job_info_alt_occ 40.14931156083646\n",
      "60 job_info_alt_occ_job_title 39.95895195525707\n",
      "61 job_info_combo_occupation 64.38338087644033\n",
      "62 job_info_education 64.38225781092069\n",
      "63 job_info_education_other 2.090024932054536\n",
      "64 job_info_experience 64.3825385773006\n",
      "65 job_info_experience_num_months 36.20370162395274\n",
      "66 job_info_foreign_ed 64.32161227286\n",
      "67 job_info_foreign_lang_req 64.38141551178096\n",
      "68 job_info_job_req_normal 64.38225781092069\n",
      "69 job_info_job_title 64.37383481952337\n",
      "70 job_info_major 57.58153455672604\n",
      "71 job_info_training 64.38169627816087\n",
      "72 job_info_training_field 1.2047685361964018\n",
      "73 job_info_training_num_months 1.2836638889512815\n",
      "74 job_info_work_city 99.97332719390849\n",
      "75 job_info_work_postal_code 64.36232339794704\n",
      "76 job_info_work_state 99.97304642752859\n",
      "77 naics_2007_us_code 5.379203072707262\n",
      "78 naics_2007_us_title 5.213831674939916\n",
      "79 naics_code 23.611891017721973\n",
      "80 naics_title 23.611891017721973\n",
      "81 naics_us_code 40.62717593944431\n",
      "82 naics_us_code_2007 30.111351946272546\n",
      "83 naics_us_title 40.62717593944431\n",
      "84 naics_us_title_2007 29.27691426517823\n",
      "85 orig_case_no 0.0774915208553267\n",
      "86 orig_file_date 0.07412232429639945\n",
      "87 preparer_info_emp_completed 64.37495788504302\n",
      "88 preparer_info_title 56.59323689944071\n",
      "89 pw_amount_9089 99.38147166505694\n",
      "90 pw_determ_date 64.2977471305676\n",
      "91 pw_expire_date 64.27556658655466\n",
      "92 pw_job_title_908 40.69708676804205\n",
      "93 pw_job_title_9089 59.19509894207228\n",
      "94 pw_level_9089 92.53582579007659\n",
      "95 pw_soc_code 99.89050111183487\n",
      "96 pw_soc_title 99.34834123222748\n",
      "97 pw_source_name_9089 99.41404056512657\n",
      "98 pw_source_name_other_9089 4.279160396217516\n",
      "99 pw_track_num 63.86845533568428\n",
      "100 pw_unit_of_pay_9089 99.5841849913524\n",
      "101 rec_info_barg_rep_notified 23.651198310909457\n",
      "102 recr_info_barg_rep_notified 40.71196738617731\n",
      "103 recr_info_coll_teach_comp_proc 1.9075267851126434\n",
      "104 recr_info_coll_univ_teacher 64.3774847824622\n",
      "105 recr_info_employer_rec_payment 64.38085397902114\n",
      "106 recr_info_first_ad_start 62.71254014959233\n",
      "107 recr_info_job_fair_from 0.4831989398261495\n",
      "108 recr_info_job_fair_to 0.48207587430650706\n",
      "109 recr_info_on_campus_recr_from 0.49555266054221603\n",
      "110 recr_info_on_campus_recr_to 0.4935872958828418\n",
      "111 recr_info_pro_org_advert_from 3.73278902091148\n",
      "112 recr_info_pro_org_advert_to 3.7311044226320162\n",
      "113 recr_info_prof_org_advert_from 7.692156510410817\n",
      "114 recr_info_prof_org_advert_to 7.690191145751443\n",
      "115 recr_info_professional_occ 64.38169627816087\n",
      "116 recr_info_radio_tv_ad_from 5.475505941016599\n",
      "117 recr_info_radio_tv_ad_to 5.47578670739651\n",
      "118 recr_info_second_ad_start 62.702151793535634\n",
      "119 recr_info_sunday_newspaper 62.73752835740437\n",
      "120 recr_info_swa_job_order_end 62.70271332629546\n",
      "121 recr_info_swa_job_order_start 62.70889018665349\n",
      "122 refile 30.408964308977787\n",
      "123 ri_1st_ad_newspaper_name 63.74912962422228\n",
      "124 ri_2nd_ad_newspaper_name 63.74042586644505\n",
      "125 ri_2nd_ad_newspaper_or_journal 62.70720558837402\n",
      "126 ri_campus_placement_from 8.082702544866468\n",
      "127 ri_campus_placement_to 8.07989488106736\n",
      "128 ri_coll_tch_basic_process 1.9052806540733587\n",
      "129 ri_coll_teach_pro_jnl 41.28753846499405\n",
      "130 ri_coll_teach_select_date 1.5560072774645672\n",
      "131 ri_employee_referral_prog_from 18.619022483771705\n",
      "132 ri_employee_referral_prog_to 18.619303250151614\n",
      "133 ri_employer_web_post_from 37.03055861278947\n",
      "134 ri_employer_web_post_to 37.02410098605153\n",
      "135 ri_job_search_website_from 53.28693200961344\n",
      "136 ri_job_search_website_to 53.283843579434425\n",
      "137 ri_layoff_in_past_six_months 64.37692324970239\n",
      "138 ri_local_ethnic_paper_from 32.657341479301905\n",
      "139 ri_local_ethnic_paper_to 32.657622245681814\n",
      "140 ri_posted_notice_at_worksite 64.36316569708677\n",
      "141 ri_pvt_employment_firm_from 4.525392511399115\n",
      "142 ri_pvt_employment_firm_to 4.524830978639294\n",
      "143 ri_us_workers_considered 4.65314121425844\n",
      "144 schd_a_sheepherder 64.38029244626132\n",
      "145 us_economic_sector 33.93567080703488\n",
      "146 wage_offer_from_9089 69.7600570517284\n",
      "147 wage_offer_to_9089 19.870117472653355\n",
      "148 wage_offer_unit_of_pay_9089 69.46132162350351\n",
      "149 wage_offered_unit_of_pay_9089 18.726556007277466\n"
     ]
    }
   ],
   "source": [
    "i = 0;\n",
    "for col in df.columns:\n",
    "    i = i+1;\n",
    "    print (i-1, col, 100*df[col].count()/len(df['case_status']))"
   ]
  },
  {
   "cell_type": "code",
   "execution_count": 20,
   "metadata": {},
   "outputs": [
    {
     "data": {
      "text/plain": [
       "(356168, 150)"
      ]
     },
     "execution_count": 20,
     "metadata": {},
     "output_type": "execute_result"
    }
   ],
   "source": [
    "#Dropping all empty columns\n",
    "df = df.dropna(axis=1, how='all');\n",
    "\n",
    "#Dropping all empty rows\n",
    "df = df.dropna(axis=0, how='all');\n",
    "\n",
    "df.shape"
   ]
  },
  {
   "cell_type": "markdown",
   "metadata": {},
   "source": [
    "### Merging 2 attributes that may contain similar information: case_no and case_number\n",
    "Reason why we are doing this is because the dataset contains 2 different columns and have found instances where there is value present in one column but not in the other so we have found such rows where these instances have occured and have created a new column which has merged values from both the column."
   ]
  },
  {
   "cell_type": "code",
   "execution_count": 21,
   "metadata": {},
   "outputs": [
    {
     "data": {
      "text/plain": [
       "0    NaN\n",
       "1    NaN\n",
       "2    NaN\n",
       "3    NaN\n",
       "4    NaN\n",
       "Name: case_number, dtype: object"
      ]
     },
     "execution_count": 21,
     "metadata": {},
     "output_type": "execute_result"
    }
   ],
   "source": [
    "df['case_number'].head()"
   ]
  },
  {
   "cell_type": "code",
   "execution_count": 22,
   "metadata": {},
   "outputs": [
    {
     "data": {
      "text/plain": [
       "0    A-07323-97014\n",
       "1    A-07332-99439\n",
       "2    A-07333-99643\n",
       "3    A-07339-01930\n",
       "4    A-07345-03565\n",
       "Name: case_no, dtype: object"
      ]
     },
     "execution_count": 22,
     "metadata": {},
     "output_type": "execute_result"
    }
   ],
   "source": [
    "df['case_no'].head()"
   ]
  },
  {
   "cell_type": "markdown",
   "metadata": {},
   "source": [
    "#### Checking if any values overlap"
   ]
  },
  {
   "cell_type": "code",
   "execution_count": 23,
   "metadata": {},
   "outputs": [
    {
     "data": {
      "text/html": [
       "<div>\n",
       "<style scoped>\n",
       "    .dataframe tbody tr th:only-of-type {\n",
       "        vertical-align: middle;\n",
       "    }\n",
       "\n",
       "    .dataframe tbody tr th {\n",
       "        vertical-align: top;\n",
       "    }\n",
       "\n",
       "    .dataframe thead th {\n",
       "        text-align: right;\n",
       "    }\n",
       "</style>\n",
       "<table border=\"1\" class=\"dataframe\">\n",
       "  <thead>\n",
       "    <tr style=\"text-align: right;\">\n",
       "      <th></th>\n",
       "      <th>case_number</th>\n",
       "      <th>case_no</th>\n",
       "    </tr>\n",
       "  </thead>\n",
       "  <tbody>\n",
       "  </tbody>\n",
       "</table>\n",
       "</div>"
      ],
      "text/plain": [
       "Empty DataFrame\n",
       "Columns: [case_number, case_no]\n",
       "Index: []"
      ]
     },
     "execution_count": 23,
     "metadata": {},
     "output_type": "execute_result"
    }
   ],
   "source": [
    "df[(df['case_number'].notnull()) & (df['case_no'].notnull())][['case_number','case_no']]"
   ]
  },
  {
   "cell_type": "markdown",
   "metadata": {},
   "source": [
    "#### Checking NA values in same indexes"
   ]
  },
  {
   "cell_type": "code",
   "execution_count": 24,
   "metadata": {},
   "outputs": [
    {
     "data": {
      "text/html": [
       "<div>\n",
       "<style scoped>\n",
       "    .dataframe tbody tr th:only-of-type {\n",
       "        vertical-align: middle;\n",
       "    }\n",
       "\n",
       "    .dataframe tbody tr th {\n",
       "        vertical-align: top;\n",
       "    }\n",
       "\n",
       "    .dataframe thead th {\n",
       "        text-align: right;\n",
       "    }\n",
       "</style>\n",
       "<table border=\"1\" class=\"dataframe\">\n",
       "  <thead>\n",
       "    <tr style=\"text-align: right;\">\n",
       "      <th></th>\n",
       "      <th>case_number</th>\n",
       "      <th>case_no</th>\n",
       "    </tr>\n",
       "  </thead>\n",
       "  <tbody>\n",
       "  </tbody>\n",
       "</table>\n",
       "</div>"
      ],
      "text/plain": [
       "Empty DataFrame\n",
       "Columns: [case_number, case_no]\n",
       "Index: []"
      ]
     },
     "execution_count": 24,
     "metadata": {},
     "output_type": "execute_result"
    }
   ],
   "source": [
    "df[(df['case_number'].isnull()) & (df['case_no'].isnull())][['case_number','case_no']]"
   ]
  },
  {
   "cell_type": "code",
   "execution_count": 12,
   "metadata": {},
   "outputs": [],
   "source": [
    "df['case_number'] = df['case_number'].fillna(df['case_no'])"
   ]
  },
  {
   "cell_type": "code",
   "execution_count": 13,
   "metadata": {},
   "outputs": [
    {
     "data": {
      "text/plain": [
       "0"
      ]
     },
     "execution_count": 13,
     "metadata": {},
     "output_type": "execute_result"
    }
   ],
   "source": [
    "df['case_number'].isnull().sum()"
   ]
  },
  {
   "cell_type": "code",
   "execution_count": 14,
   "metadata": {},
   "outputs": [],
   "source": [
    "del df['case_no']"
   ]
  },
  {
   "cell_type": "code",
   "execution_count": 10,
   "metadata": {},
   "outputs": [
    {
     "data": {
      "text/plain": [
       "0    A-07323-97014\n",
       "1    A-07332-99439\n",
       "2    A-07333-99643\n",
       "3    A-07339-01930\n",
       "4    A-07345-03565\n",
       "Name: case_number, dtype: object"
      ]
     },
     "execution_count": 10,
     "metadata": {},
     "output_type": "execute_result"
    }
   ],
   "source": [
    "df['case_number'].head()"
   ]
  },
  {
   "cell_type": "markdown",
   "metadata": {},
   "source": [
    "#### Merging the Values of  country_of_citzenship to country_of_citizenship"
   ]
  },
  {
   "cell_type": "code",
   "execution_count": 29,
   "metadata": {},
   "outputs": [
    {
     "data": {
      "text/plain": [
       "0    NaN\n",
       "1    NaN\n",
       "2    NaN\n",
       "3    NaN\n",
       "4    NaN\n",
       "Name: country_of_citizenship, dtype: object"
      ]
     },
     "execution_count": 29,
     "metadata": {},
     "output_type": "execute_result"
    }
   ],
   "source": [
    "df.country_of_citizenship.head()"
   ]
  },
  {
   "cell_type": "code",
   "execution_count": 30,
   "metadata": {},
   "outputs": [
    {
     "data": {
      "text/plain": [
       "0        ARMENIA\n",
       "1         POLAND\n",
       "2          INDIA\n",
       "3    SOUTH KOREA\n",
       "4         CANADA\n",
       "Name: country_of_citzenship, dtype: object"
      ]
     },
     "execution_count": 30,
     "metadata": {},
     "output_type": "execute_result"
    }
   ],
   "source": [
    "df.country_of_citzenship.head()"
   ]
  },
  {
   "cell_type": "code",
   "execution_count": 31,
   "metadata": {},
   "outputs": [
    {
     "data": {
      "text/plain": [
       "(356168, 149)"
      ]
     },
     "execution_count": 31,
     "metadata": {},
     "output_type": "execute_result"
    }
   ],
   "source": [
    "df.shape"
   ]
  },
  {
   "cell_type": "markdown",
   "metadata": {},
   "source": [
    "#### Checking if any values overlap"
   ]
  },
  {
   "cell_type": "code",
   "execution_count": 37,
   "metadata": {},
   "outputs": [
    {
     "data": {
      "text/html": [
       "<div>\n",
       "<style scoped>\n",
       "    .dataframe tbody tr th:only-of-type {\n",
       "        vertical-align: middle;\n",
       "    }\n",
       "\n",
       "    .dataframe tbody tr th {\n",
       "        vertical-align: top;\n",
       "    }\n",
       "\n",
       "    .dataframe thead th {\n",
       "        text-align: right;\n",
       "    }\n",
       "</style>\n",
       "<table border=\"1\" class=\"dataframe\">\n",
       "  <thead>\n",
       "    <tr style=\"text-align: right;\">\n",
       "      <th></th>\n",
       "      <th>country_of_citzenship</th>\n",
       "      <th>country_of_citizenship</th>\n",
       "    </tr>\n",
       "  </thead>\n",
       "  <tbody>\n",
       "  </tbody>\n",
       "</table>\n",
       "</div>"
      ],
      "text/plain": [
       "Empty DataFrame\n",
       "Columns: [country_of_citzenship, country_of_citizenship]\n",
       "Index: []"
      ]
     },
     "execution_count": 37,
     "metadata": {},
     "output_type": "execute_result"
    }
   ],
   "source": [
    "df[(df['country_of_citzenship'].notnull()) & (df['country_of_citizenship'].notnull())][['country_of_citzenship','country_of_citizenship']]"
   ]
  },
  {
   "cell_type": "markdown",
   "metadata": {},
   "source": [
    "#### Checking NA values in same indexes"
   ]
  },
  {
   "cell_type": "code",
   "execution_count": 19,
   "metadata": {},
   "outputs": [
    {
     "data": {
      "text/plain": [
       "Int64Index([ 18713,  19057,  51091,  56115,  58588,  59469,  60550,  60578,\n",
       "             61169,  61407,  67277, 127622, 128082, 129104, 129733, 130139,\n",
       "            130211, 130808, 130824, 130827, 131306, 135267, 159693, 179907,\n",
       "            182384, 196852, 208664, 208733, 208851, 209007, 209143, 209166,\n",
       "            209243, 209261, 209551, 209721, 223903, 260089, 260782, 261385,\n",
       "            262137, 266149, 278347, 282940, 287591, 305155, 310278, 319420,\n",
       "            325662, 330375, 331559, 338836, 345376, 348641, 348642],\n",
       "           dtype='int64')"
      ]
     },
     "execution_count": 19,
     "metadata": {},
     "output_type": "execute_result"
    }
   ],
   "source": [
    "df[(df['country_of_citzenship'].isnull()) & (df['country_of_citizenship'].isnull())][['country_of_citzenship','country_of_citizenship']].index"
   ]
  },
  {
   "cell_type": "code",
   "execution_count": 15,
   "metadata": {},
   "outputs": [],
   "source": [
    "df = df[(df['country_of_citzenship'].notnull()) | (df['country_of_citizenship'].notnull())]"
   ]
  },
  {
   "cell_type": "code",
   "execution_count": 16,
   "metadata": {},
   "outputs": [],
   "source": [
    "df['country_of_citizenship'] = df['country_of_citizenship'].fillna(df['country_of_citzenship'])"
   ]
  },
  {
   "cell_type": "code",
   "execution_count": 17,
   "metadata": {},
   "outputs": [
    {
     "data": {
      "text/plain": [
       "0"
      ]
     },
     "execution_count": 17,
     "metadata": {},
     "output_type": "execute_result"
    }
   ],
   "source": [
    "df['country_of_citizenship'].isnull().sum()"
   ]
  },
  {
   "cell_type": "code",
   "execution_count": 18,
   "metadata": {},
   "outputs": [],
   "source": [
    "del df['country_of_citzenship']"
   ]
  },
  {
   "cell_type": "code",
   "execution_count": 43,
   "metadata": {},
   "outputs": [
    {
     "data": {
      "text/plain": [
       "0        ARMENIA\n",
       "1         POLAND\n",
       "2          INDIA\n",
       "3    SOUTH KOREA\n",
       "4         CANADA\n",
       "Name: country_of_citizenship, dtype: object"
      ]
     },
     "execution_count": 43,
     "metadata": {},
     "output_type": "execute_result"
    }
   ],
   "source": [
    "df['country_of_citizenship'].head()"
   ]
  },
  {
   "cell_type": "markdown",
   "metadata": {},
   "source": [
    "#### Merging the values of naics_2007_us_code, naics_code, naics_us_code, naics_us_code_2007"
   ]
  },
  {
   "cell_type": "code",
   "execution_count": 44,
   "metadata": {},
   "outputs": [
    {
     "data": {
      "text/plain": [
       "0    541512\n",
       "1    562211\n",
       "2    541330\n",
       "3    813110\n",
       "4    333291\n",
       "Name: naics_2007_us_code, dtype: object"
      ]
     },
     "execution_count": 44,
     "metadata": {},
     "output_type": "execute_result"
    }
   ],
   "source": [
    "df.naics_2007_us_code.head()"
   ]
  },
  {
   "cell_type": "code",
   "execution_count": 45,
   "metadata": {},
   "outputs": [
    {
     "data": {
      "text/plain": [
       "0    NaN\n",
       "1    NaN\n",
       "2    NaN\n",
       "3    NaN\n",
       "4    NaN\n",
       "Name: naics_code, dtype: object"
      ]
     },
     "execution_count": 45,
     "metadata": {},
     "output_type": "execute_result"
    }
   ],
   "source": [
    "df.naics_code.head()"
   ]
  },
  {
   "cell_type": "code",
   "execution_count": 46,
   "metadata": {},
   "outputs": [
    {
     "data": {
      "text/plain": [
       "0    NaN\n",
       "1    NaN\n",
       "2    NaN\n",
       "3    NaN\n",
       "4    NaN\n",
       "Name: naics_us_code, dtype: object"
      ]
     },
     "execution_count": 46,
     "metadata": {},
     "output_type": "execute_result"
    }
   ],
   "source": [
    "df.naics_us_code.head()"
   ]
  },
  {
   "cell_type": "code",
   "execution_count": 47,
   "metadata": {},
   "outputs": [
    {
     "data": {
      "text/plain": [
       "0    NaN\n",
       "1    NaN\n",
       "2    NaN\n",
       "3    NaN\n",
       "4    NaN\n",
       "Name: naics_us_code_2007, dtype: object"
      ]
     },
     "execution_count": 47,
     "metadata": {},
     "output_type": "execute_result"
    }
   ],
   "source": [
    "df.naics_us_code_2007.head()"
   ]
  },
  {
   "cell_type": "markdown",
   "metadata": {},
   "source": [
    "#### Checking if any values overlap"
   ]
  },
  {
   "cell_type": "code",
   "execution_count": 52,
   "metadata": {},
   "outputs": [
    {
     "data": {
      "text/html": [
       "<div>\n",
       "<style scoped>\n",
       "    .dataframe tbody tr th:only-of-type {\n",
       "        vertical-align: middle;\n",
       "    }\n",
       "\n",
       "    .dataframe tbody tr th {\n",
       "        vertical-align: top;\n",
       "    }\n",
       "\n",
       "    .dataframe thead th {\n",
       "        text-align: right;\n",
       "    }\n",
       "</style>\n",
       "<table border=\"1\" class=\"dataframe\">\n",
       "  <thead>\n",
       "    <tr style=\"text-align: right;\">\n",
       "      <th></th>\n",
       "      <th>naics_2007_us_code</th>\n",
       "      <th>naics_code</th>\n",
       "      <th>naics_us_code</th>\n",
       "      <th>naics_us_code_2007</th>\n",
       "    </tr>\n",
       "  </thead>\n",
       "  <tbody>\n",
       "  </tbody>\n",
       "</table>\n",
       "</div>"
      ],
      "text/plain": [
       "Empty DataFrame\n",
       "Columns: [naics_2007_us_code, naics_code, naics_us_code, naics_us_code_2007]\n",
       "Index: []"
      ]
     },
     "execution_count": 52,
     "metadata": {},
     "output_type": "execute_result"
    }
   ],
   "source": [
    "df[(df['naics_2007_us_code'].notnull()) & (df['naics_code'].notnull()) & (df['naics_us_code'].notnull()) & (df['naics_us_code_2007'].notnull())][['naics_2007_us_code','naics_code','naics_us_code','naics_us_code_2007']]"
   ]
  },
  {
   "cell_type": "markdown",
   "metadata": {},
   "source": [
    "#### Checking NA values in same indexes"
   ]
  },
  {
   "cell_type": "code",
   "execution_count": 50,
   "metadata": {},
   "outputs": [
    {
     "data": {
      "text/plain": [
       "(939, 4)"
      ]
     },
     "execution_count": 50,
     "metadata": {},
     "output_type": "execute_result"
    }
   ],
   "source": [
    "df[(df['naics_2007_us_code'].isnull()) & (df['naics_code'].isnull()) & (df['naics_us_code'].isnull()) & (df['naics_us_code_2007'].isnull())][['naics_2007_us_code','naics_code','naics_us_code','naics_us_code_2007']].shape"
   ]
  },
  {
   "cell_type": "code",
   "execution_count": 19,
   "metadata": {},
   "outputs": [],
   "source": [
    "df = df[(df['naics_2007_us_code'].notnull()) | (df['naics_code'].notnull()) | (df['naics_us_code'].notnull()) | (df['naics_us_code_2007'].notnull())]"
   ]
  },
  {
   "cell_type": "code",
   "execution_count": 20,
   "metadata": {},
   "outputs": [],
   "source": [
    "df['naics_code'] = df['naics_code'].fillna(df['naics_2007_us_code'])"
   ]
  },
  {
   "cell_type": "code",
   "execution_count": 21,
   "metadata": {},
   "outputs": [],
   "source": [
    "del df['naics_2007_us_code']"
   ]
  },
  {
   "cell_type": "code",
   "execution_count": 22,
   "metadata": {},
   "outputs": [],
   "source": [
    "df['naics_code'] = df['naics_code'].fillna(df['naics_us_code'])"
   ]
  },
  {
   "cell_type": "code",
   "execution_count": 23,
   "metadata": {},
   "outputs": [],
   "source": [
    "del df['naics_us_code']"
   ]
  },
  {
   "cell_type": "code",
   "execution_count": 24,
   "metadata": {},
   "outputs": [],
   "source": [
    "df['naics_code'] = df['naics_code'].fillna(df['naics_us_code_2007'])"
   ]
  },
  {
   "cell_type": "code",
   "execution_count": 25,
   "metadata": {},
   "outputs": [],
   "source": [
    "del df['naics_us_code_2007']"
   ]
  },
  {
   "cell_type": "code",
   "execution_count": 31,
   "metadata": {},
   "outputs": [
    {
     "data": {
      "text/plain": [
       "0"
      ]
     },
     "execution_count": 31,
     "metadata": {},
     "output_type": "execute_result"
    }
   ],
   "source": [
    "df['naics_code'].isnull().sum()"
   ]
  },
  {
   "cell_type": "markdown",
   "metadata": {},
   "source": [
    "#### Merging the values of naics_2007_us_title, naics_title, naics_us_title, naics_us_title_2007"
   ]
  },
  {
   "cell_type": "code",
   "execution_count": 64,
   "metadata": {},
   "outputs": [
    {
     "data": {
      "text/plain": [
       "0          Computer Systems Design Services\n",
       "1    Hazardous Waste Treatment and Disposal\n",
       "2                      Engineering Services\n",
       "3                   Religious Organizations\n",
       "4    Paper Industry Machinery Manufacturing\n",
       "Name: naics_2007_us_title, dtype: object"
      ]
     },
     "execution_count": 64,
     "metadata": {},
     "output_type": "execute_result"
    }
   ],
   "source": [
    "df.naics_2007_us_title.head()"
   ]
  },
  {
   "cell_type": "code",
   "execution_count": 65,
   "metadata": {},
   "outputs": [
    {
     "data": {
      "text/plain": [
       "0    NaN\n",
       "1    NaN\n",
       "2    NaN\n",
       "3    NaN\n",
       "4    NaN\n",
       "Name: naics_title, dtype: object"
      ]
     },
     "execution_count": 65,
     "metadata": {},
     "output_type": "execute_result"
    }
   ],
   "source": [
    "df.naics_title.head()"
   ]
  },
  {
   "cell_type": "code",
   "execution_count": 66,
   "metadata": {},
   "outputs": [
    {
     "data": {
      "text/plain": [
       "0    NaN\n",
       "1    NaN\n",
       "2    NaN\n",
       "3    NaN\n",
       "4    NaN\n",
       "Name: naics_us_title, dtype: object"
      ]
     },
     "execution_count": 66,
     "metadata": {},
     "output_type": "execute_result"
    }
   ],
   "source": [
    "df.naics_us_title.head()"
   ]
  },
  {
   "cell_type": "code",
   "execution_count": 67,
   "metadata": {},
   "outputs": [
    {
     "data": {
      "text/plain": [
       "0    NaN\n",
       "1    NaN\n",
       "2    NaN\n",
       "3    NaN\n",
       "4    NaN\n",
       "Name: naics_us_title_2007, dtype: object"
      ]
     },
     "execution_count": 67,
     "metadata": {},
     "output_type": "execute_result"
    }
   ],
   "source": [
    "df.naics_us_title_2007.head()"
   ]
  },
  {
   "cell_type": "markdown",
   "metadata": {},
   "source": [
    "#### Checking if any values overlap"
   ]
  },
  {
   "cell_type": "code",
   "execution_count": 73,
   "metadata": {},
   "outputs": [
    {
     "data": {
      "text/html": [
       "<div>\n",
       "<style scoped>\n",
       "    .dataframe tbody tr th:only-of-type {\n",
       "        vertical-align: middle;\n",
       "    }\n",
       "\n",
       "    .dataframe tbody tr th {\n",
       "        vertical-align: top;\n",
       "    }\n",
       "\n",
       "    .dataframe thead th {\n",
       "        text-align: right;\n",
       "    }\n",
       "</style>\n",
       "<table border=\"1\" class=\"dataframe\">\n",
       "  <thead>\n",
       "    <tr style=\"text-align: right;\">\n",
       "      <th></th>\n",
       "      <th>naics_2007_us_title</th>\n",
       "      <th>naics_title</th>\n",
       "      <th>naics_us_title</th>\n",
       "      <th>naics_us_title_2007</th>\n",
       "    </tr>\n",
       "  </thead>\n",
       "  <tbody>\n",
       "  </tbody>\n",
       "</table>\n",
       "</div>"
      ],
      "text/plain": [
       "Empty DataFrame\n",
       "Columns: [naics_2007_us_title, naics_title, naics_us_title, naics_us_title_2007]\n",
       "Index: []"
      ]
     },
     "execution_count": 73,
     "metadata": {},
     "output_type": "execute_result"
    }
   ],
   "source": [
    "df[(df['naics_2007_us_title'].notnull()) & (df['naics_title'].notnull()) & (df['naics_us_title'].notnull()) & (df['naics_us_title_2007'].notnull())][['naics_2007_us_title','naics_title','naics_us_title','naics_us_title_2007']]"
   ]
  },
  {
   "cell_type": "markdown",
   "metadata": {},
   "source": [
    "#### Checking NA values in same indexes"
   ]
  },
  {
   "cell_type": "code",
   "execution_count": 71,
   "metadata": {},
   "outputs": [
    {
     "data": {
      "text/plain": [
       "(3559, 4)"
      ]
     },
     "execution_count": 71,
     "metadata": {},
     "output_type": "execute_result"
    }
   ],
   "source": [
    "df[(df['naics_2007_us_title'].isnull()) & (df['naics_title'].isnull()) & (df['naics_us_title'].isnull()) & (df['naics_us_title_2007'].isnull())][['naics_2007_us_title','naics_title','naics_us_title','naics_us_title_2007']].shape"
   ]
  },
  {
   "cell_type": "code",
   "execution_count": 26,
   "metadata": {},
   "outputs": [],
   "source": [
    "df = df[(df['naics_2007_us_title'].notnull()) | (df['naics_title'].notnull()) | (df['naics_us_title'].notnull()) | (df['naics_us_title_2007'].notnull())]"
   ]
  },
  {
   "cell_type": "code",
   "execution_count": 27,
   "metadata": {},
   "outputs": [],
   "source": [
    "df['naics_title'] = df['naics_title'].fillna(df['naics_2007_us_title'])"
   ]
  },
  {
   "cell_type": "code",
   "execution_count": 28,
   "metadata": {},
   "outputs": [],
   "source": [
    "del df['naics_2007_us_title']"
   ]
  },
  {
   "cell_type": "code",
   "execution_count": 29,
   "metadata": {},
   "outputs": [],
   "source": [
    "df['naics_title'] = df['naics_title'].fillna(df['naics_us_title'])"
   ]
  },
  {
   "cell_type": "code",
   "execution_count": 30,
   "metadata": {},
   "outputs": [],
   "source": [
    "del df['naics_us_title']"
   ]
  },
  {
   "cell_type": "code",
   "execution_count": 31,
   "metadata": {},
   "outputs": [],
   "source": [
    "df['naics_title'] = df['naics_title'].fillna(df['naics_us_title_2007'])"
   ]
  },
  {
   "cell_type": "code",
   "execution_count": 32,
   "metadata": {},
   "outputs": [],
   "source": [
    "del df['naics_us_title_2007']"
   ]
  },
  {
   "cell_type": "code",
   "execution_count": 33,
   "metadata": {},
   "outputs": [
    {
     "data": {
      "text/plain": [
       "0"
      ]
     },
     "execution_count": 33,
     "metadata": {},
     "output_type": "execute_result"
    }
   ],
   "source": [
    "df['naics_title'].isnull().sum()"
   ]
  },
  {
   "cell_type": "code",
   "execution_count": 40,
   "metadata": {},
   "outputs": [
    {
     "data": {
      "text/plain": [
       "0          Computer Systems Design Services\n",
       "1    Hazardous Waste Treatment and Disposal\n",
       "2                      Engineering Services\n",
       "3                   Religious Organizations\n",
       "4    Paper Industry Machinery Manufacturing\n",
       "Name: naics_title, dtype: object"
      ]
     },
     "execution_count": 40,
     "metadata": {},
     "output_type": "execute_result"
    }
   ],
   "source": [
    "df['naics_title'].head()"
   ]
  },
  {
   "cell_type": "raw",
   "metadata": {},
   "source": [
    "### Merging the values of foreign_worker_info_alt_edu_experience and fw_info_alt_edu_experience"
   ]
  },
  {
   "cell_type": "raw",
   "metadata": {},
   "source": [
    "df.foreign_worker_info_alt_edu_experience.tail()"
   ]
  },
  {
   "cell_type": "raw",
   "metadata": {},
   "source": [
    "df.fw_info_alt_edu_experience.tail()"
   ]
  },
  {
   "cell_type": "raw",
   "metadata": {},
   "source": [
    "#### Checking if any values overlap"
   ]
  },
  {
   "cell_type": "raw",
   "metadata": {},
   "source": [
    "df[(df['foreign_worker_info_alt_edu_experience'].notnull()) & (df['fw_info_alt_edu_experience'].notnull())][['foreign_worker_info_alt_edu_experience','fw_info_alt_edu_experience']]"
   ]
  },
  {
   "cell_type": "raw",
   "metadata": {},
   "source": [
    "#### Checking NA values in same indexes"
   ]
  },
  {
   "cell_type": "raw",
   "metadata": {},
   "source": [
    "df[(df['foreign_worker_info_alt_edu_experience'].isnull()) & (df['fw_info_alt_edu_experience'].isnull())][['foreign_worker_info_alt_edu_experience','fw_info_alt_edu_experience']].shape"
   ]
  },
  {
   "cell_type": "raw",
   "metadata": {},
   "source": [
    "df.fw_info_alt_edu_experience = df.fw_info_alt_edu_experience.fillna(df.foreign_worker_info_alt_edu_experience)"
   ]
  },
  {
   "cell_type": "raw",
   "metadata": {},
   "source": [
    "del df['foreign_worker_info_alt_edu_experience']"
   ]
  },
  {
   "cell_type": "raw",
   "metadata": {},
   "source": [
    "df.fw_info_alt_edu_experience.isnull().sum()"
   ]
  },
  {
   "cell_type": "raw",
   "metadata": {},
   "source": [
    "### Merging the values of foreign_worker_info_birth_country and fw_info_birth_country"
   ]
  },
  {
   "cell_type": "raw",
   "metadata": {},
   "source": [
    "df.foreign_worker_info_birth_country.tail()"
   ]
  },
  {
   "cell_type": "raw",
   "metadata": {},
   "source": [
    "df.fw_info_birth_country.tail()"
   ]
  },
  {
   "cell_type": "raw",
   "metadata": {},
   "source": [
    "#### Checking if any values overlap"
   ]
  },
  {
   "cell_type": "raw",
   "metadata": {},
   "source": [
    "df[(df['foreign_worker_info_birth_country'].notnull()) & (df['fw_info_birth_country'].notnull())][['foreign_worker_info_birth_country','fw_info_birth_country']]"
   ]
  },
  {
   "cell_type": "raw",
   "metadata": {},
   "source": [
    "#### Checking NA values in same indexes"
   ]
  },
  {
   "cell_type": "raw",
   "metadata": {},
   "source": [
    "df[(df['foreign_worker_info_birth_country'].isnull()) & (df['fw_info_birth_country'].isnull())][['foreign_worker_info_birth_country','fw_info_birth_country']].shape"
   ]
  },
  {
   "cell_type": "raw",
   "metadata": {},
   "source": [
    "df.fw_info_birth_country = df.fw_info_birth_country.fillna(df.foreign_worker_info_birth_country)"
   ]
  },
  {
   "cell_type": "raw",
   "metadata": {},
   "source": [
    "del df['foreign_worker_info_birth_country']"
   ]
  },
  {
   "cell_type": "raw",
   "metadata": {},
   "source": [
    "df.fw_info_birth_country.isnull().sum()"
   ]
  },
  {
   "cell_type": "raw",
   "metadata": {},
   "source": [
    "df.fw_info_birth_country = df.fw_info_birth_country.fillna(df.fw_info_birth_country.mode()[0])"
   ]
  },
  {
   "cell_type": "raw",
   "metadata": {},
   "source": [
    "### Merging the values of foreign_worker_info_rel_occup_exp and fw_info_rel_occup_exp"
   ]
  },
  {
   "cell_type": "raw",
   "metadata": {},
   "source": [
    "df.foreign_worker_info_rel_occup_exp.tail()"
   ]
  },
  {
   "cell_type": "raw",
   "metadata": {},
   "source": [
    "df['fw_info_rel_occup_exp'].tail()"
   ]
  },
  {
   "cell_type": "raw",
   "metadata": {},
   "source": [
    "#### Checking if any values overlap"
   ]
  },
  {
   "cell_type": "raw",
   "metadata": {},
   "source": [
    "df[(df['foreign_worker_info_rel_occup_exp'].notnull()) & (df['fw_info_rel_occup_exp'].notnull())][['foreign_worker_info_rel_occup_exp','fw_info_rel_occup_exp']]"
   ]
  },
  {
   "cell_type": "raw",
   "metadata": {},
   "source": [
    "#### Checking NA values in same indexes"
   ]
  },
  {
   "cell_type": "raw",
   "metadata": {},
   "source": [
    "df[(df['foreign_worker_info_rel_occup_exp'].isnull()) & (df['fw_info_rel_occup_exp'].isnull())][['foreign_worker_info_rel_occup_exp','fw_info_rel_occup_exp']].shape"
   ]
  },
  {
   "cell_type": "raw",
   "metadata": {},
   "source": [
    "df['fw_info_rel_occup_exp'] = df['fw_info_rel_occup_exp'].fillna(df['foreign_worker_info_rel_occup_exp'])"
   ]
  },
  {
   "cell_type": "raw",
   "metadata": {},
   "source": [
    "del df['foreign_worker_info_rel_occup_exp']"
   ]
  },
  {
   "cell_type": "raw",
   "metadata": {},
   "source": [
    "df['fw_info_rel_occup_exp'].isnull().sum()"
   ]
  },
  {
   "cell_type": "raw",
   "metadata": {},
   "source": [
    "### Merging the values of foreign_worker_info_req_experience and fw_info_req_experience"
   ]
  },
  {
   "cell_type": "raw",
   "metadata": {},
   "source": [
    "df.foreign_worker_info_req_experience.tail()"
   ]
  },
  {
   "cell_type": "raw",
   "metadata": {},
   "source": [
    "df['fw_info_req_experience'].tail()"
   ]
  },
  {
   "cell_type": "raw",
   "metadata": {},
   "source": [
    "#### Checking if any values overlap"
   ]
  },
  {
   "cell_type": "raw",
   "metadata": {},
   "source": [
    "df[(df['foreign_worker_info_req_experience'].notnull()) & (df['fw_info_req_experience'].notnull())][['foreign_worker_info_req_experience','fw_info_req_experience']]"
   ]
  },
  {
   "cell_type": "raw",
   "metadata": {},
   "source": [
    "#### Checking NA values in same indexes"
   ]
  },
  {
   "cell_type": "raw",
   "metadata": {},
   "source": [
    "df[(df['foreign_worker_info_req_experience'].isnull()) & (df['fw_info_req_experience'].isnull())][['foreign_worker_info_req_experience','fw_info_req_experience']].shape"
   ]
  },
  {
   "cell_type": "raw",
   "metadata": {},
   "source": [
    "df['fw_info_req_experience'] = df['fw_info_req_experience'].fillna(df['foreign_worker_info_req_experience'])"
   ]
  },
  {
   "cell_type": "raw",
   "metadata": {},
   "source": [
    "del df['foreign_worker_info_req_experience']"
   ]
  },
  {
   "cell_type": "raw",
   "metadata": {},
   "source": [
    "df['fw_info_req_experience'].isnull().sum()"
   ]
  },
  {
   "cell_type": "raw",
   "metadata": {},
   "source": [
    "df['fw_info_rel_occup_exp'] = df['fw_info_rel_occup_exp'].fillna(df['fw_info_rel_occup_exp'].mode()[0])"
   ]
  },
  {
   "cell_type": "raw",
   "metadata": {},
   "source": [
    "df['fw_info_req_experience'] = df['fw_info_req_experience'].fillna(df['fw_info_req_experience'].mode()[0])"
   ]
  },
  {
   "cell_type": "raw",
   "metadata": {},
   "source": [
    "### Merging the values of fw_info_training_comp and foreign_worker_info_training_comp"
   ]
  },
  {
   "cell_type": "raw",
   "metadata": {},
   "source": [
    "df['fw_info_training_comp'].tail()"
   ]
  },
  {
   "cell_type": "raw",
   "metadata": {},
   "source": [
    "df['foreign_worker_info_training_comp'].tail()"
   ]
  },
  {
   "cell_type": "raw",
   "metadata": {},
   "source": [
    "#### Checking if any values overlap"
   ]
  },
  {
   "cell_type": "raw",
   "metadata": {},
   "source": [
    "df[(df['fw_info_training_comp'].notnull()) & (df['foreign_worker_info_training_comp'].notnull())][['fw_info_training_comp','foreign_worker_info_training_comp']]"
   ]
  },
  {
   "cell_type": "raw",
   "metadata": {},
   "source": [
    "#### Checking NA values in same indexes"
   ]
  },
  {
   "cell_type": "raw",
   "metadata": {},
   "source": [
    "df[(df['fw_info_training_comp'].isnull()) & (df['foreign_worker_info_training_comp'].isnull())][['fw_info_training_comp','foreign_worker_info_training_comp']].shape"
   ]
  },
  {
   "cell_type": "raw",
   "metadata": {},
   "source": [
    "df['fw_info_training_comp'] = df['fw_info_training_comp'].fillna(df['foreign_worker_info_training_comp'])"
   ]
  },
  {
   "cell_type": "raw",
   "metadata": {},
   "source": [
    "del df['foreign_worker_info_training_comp']"
   ]
  },
  {
   "cell_type": "raw",
   "metadata": {},
   "source": [
    "df['fw_info_training_comp'].isnull().sum()"
   ]
  },
  {
   "cell_type": "raw",
   "metadata": {},
   "source": [
    "df['fw_info_training_comp'] = df['fw_info_training_comp'].fillna(df['fw_info_training_comp'].mode()[0])"
   ]
  },
  {
   "cell_type": "raw",
   "metadata": {},
   "source": [
    "### Merging the values of fw_ownership_interest and foreign_worker_ownership_interest"
   ]
  },
  {
   "cell_type": "raw",
   "metadata": {},
   "source": [
    "# fw_ownership_interest : Identifies if the foreign worker has ownership interest with the Employer.\n",
    "# Approx only 0.5% have ownership interest and approx 69.5% values are null\n",
    "\n",
    "df['fw_ownership_interest'].tail()"
   ]
  },
  {
   "cell_type": "raw",
   "metadata": {},
   "source": [
    "df['foreign_worker_ownership_interest'].tail()"
   ]
  },
  {
   "cell_type": "raw",
   "metadata": {},
   "source": [
    "#### Checking if any values overlap"
   ]
  },
  {
   "cell_type": "raw",
   "metadata": {},
   "source": [
    "df[(df['fw_ownership_interest'].notnull()) & (df['foreign_worker_ownership_interest'].notnull())][['fw_ownership_interest','foreign_worker_ownership_interest']]"
   ]
  },
  {
   "cell_type": "raw",
   "metadata": {},
   "source": [
    "#### Checking NA values in same indexes"
   ]
  },
  {
   "cell_type": "raw",
   "metadata": {},
   "source": [
    "df[(df['fw_ownership_interest'].isnull()) & (df['foreign_worker_ownership_interest'].isnull())][['fw_ownership_interest','foreign_worker_ownership_interest']].shape"
   ]
  },
  {
   "cell_type": "raw",
   "metadata": {},
   "source": [
    "df['fw_ownership_interest'] = df['fw_ownership_interest'].fillna(df['foreign_worker_ownership_interest'])"
   ]
  },
  {
   "cell_type": "raw",
   "metadata": {},
   "source": [
    "del df['foreign_worker_ownership_interest']"
   ]
  },
  {
   "cell_type": "raw",
   "metadata": {},
   "source": [
    "df['fw_ownership_interest'].isnull().sum()"
   ]
  },
  {
   "cell_type": "raw",
   "metadata": {},
   "source": [
    "df['fw_ownership_interest'] = df['fw_ownership_interest'].fillna(df['fw_ownership_interest'].mode()[0])"
   ]
  },
  {
   "cell_type": "raw",
   "metadata": {},
   "source": [
    "### Merging the values of ji_offered_to_sec_j_foreign_worker and ji_offered_to_sec_j_fw"
   ]
  },
  {
   "cell_type": "raw",
   "metadata": {},
   "source": [
    "df.ji_offered_to_sec_j_foreign_worker.tail()"
   ]
  },
  {
   "cell_type": "raw",
   "metadata": {},
   "source": [
    "df.ji_offered_to_sec_j_fw.tail()"
   ]
  },
  {
   "cell_type": "raw",
   "metadata": {},
   "source": [
    "#### Checking if any values overlap"
   ]
  },
  {
   "cell_type": "raw",
   "metadata": {},
   "source": [
    "df[(df['ji_offered_to_sec_j_foreign_worker'].notnull()) & (df['ji_offered_to_sec_j_fw'].notnull())][['ji_offered_to_sec_j_foreign_worker','ji_offered_to_sec_j_fw']]"
   ]
  },
  {
   "cell_type": "raw",
   "metadata": {},
   "source": [
    "#### Checking NA values in same indexes"
   ]
  },
  {
   "cell_type": "raw",
   "metadata": {},
   "source": [
    "df[(df['ji_offered_to_sec_j_foreign_worker'].isnull()) & (df['ji_offered_to_sec_j_fw'].isnull())][['ji_offered_to_sec_j_foreign_worker','ji_offered_to_sec_j_fw']].shape"
   ]
  },
  {
   "cell_type": "raw",
   "metadata": {},
   "source": [
    "df['ji_offered_to_sec_j_fw'] = df['ji_offered_to_sec_j_fw'].fillna(df['ji_offered_to_sec_j_foreign_worker'])"
   ]
  },
  {
   "cell_type": "raw",
   "metadata": {},
   "source": [
    "del df['ji_offered_to_sec_j_foreign_worker']"
   ]
  },
  {
   "cell_type": "raw",
   "metadata": {},
   "source": [
    "df['ji_offered_to_sec_j_fw'].isnull().sum()"
   ]
  },
  {
   "cell_type": "markdown",
   "metadata": {},
   "source": [
    "### Merging the values of pw_job_title_908 and pw_job_title_9089"
   ]
  },
  {
   "cell_type": "code",
   "execution_count": 34,
   "metadata": {},
   "outputs": [],
   "source": [
    "df.pw_job_title_908 = df.pw_job_title_908.str.upper()\n",
    "df.pw_job_title_9089 = df.pw_job_title_9089.str.upper()"
   ]
  },
  {
   "cell_type": "code",
   "execution_count": 92,
   "metadata": {},
   "outputs": [
    {
     "data": {
      "text/plain": [
       "0    NaN\n",
       "1    NaN\n",
       "2    NaN\n",
       "3    NaN\n",
       "4    NaN\n",
       "Name: pw_job_title_908, dtype: object"
      ]
     },
     "execution_count": 92,
     "metadata": {},
     "output_type": "execute_result"
    }
   ],
   "source": [
    "df.pw_job_title_908.head()"
   ]
  },
  {
   "cell_type": "code",
   "execution_count": 93,
   "metadata": {},
   "outputs": [
    {
     "data": {
      "text/plain": [
       "0    COMPUTER SOFTWARE ENGINEERS, APPLICATIONS\n",
       "1                             ASBESTOS HANDLER\n",
       "2                               CIVIL ENGINEER\n",
       "3                                   FILE CLERK\n",
       "4                     SALES & SERVICE ENGINEER\n",
       "Name: pw_job_title_9089, dtype: object"
      ]
     },
     "execution_count": 93,
     "metadata": {},
     "output_type": "execute_result"
    }
   ],
   "source": [
    "df.pw_job_title_9089.head()"
   ]
  },
  {
   "cell_type": "markdown",
   "metadata": {},
   "source": [
    "#### Checking if any values overlap"
   ]
  },
  {
   "cell_type": "code",
   "execution_count": 96,
   "metadata": {},
   "outputs": [
    {
     "data": {
      "text/html": [
       "<div>\n",
       "<style scoped>\n",
       "    .dataframe tbody tr th:only-of-type {\n",
       "        vertical-align: middle;\n",
       "    }\n",
       "\n",
       "    .dataframe tbody tr th {\n",
       "        vertical-align: top;\n",
       "    }\n",
       "\n",
       "    .dataframe thead th {\n",
       "        text-align: right;\n",
       "    }\n",
       "</style>\n",
       "<table border=\"1\" class=\"dataframe\">\n",
       "  <thead>\n",
       "    <tr style=\"text-align: right;\">\n",
       "      <th></th>\n",
       "      <th>pw_job_title_908</th>\n",
       "      <th>pw_job_title_9089</th>\n",
       "    </tr>\n",
       "  </thead>\n",
       "  <tbody>\n",
       "  </tbody>\n",
       "</table>\n",
       "</div>"
      ],
      "text/plain": [
       "Empty DataFrame\n",
       "Columns: [pw_job_title_908, pw_job_title_9089]\n",
       "Index: []"
      ]
     },
     "execution_count": 96,
     "metadata": {},
     "output_type": "execute_result"
    }
   ],
   "source": [
    "df[(df['pw_job_title_908'].notnull()) & (df['pw_job_title_9089'].notnull())][['pw_job_title_908','pw_job_title_9089']]"
   ]
  },
  {
   "cell_type": "markdown",
   "metadata": {},
   "source": [
    "#### Checking NA values in same indexes"
   ]
  },
  {
   "cell_type": "code",
   "execution_count": 35,
   "metadata": {},
   "outputs": [
    {
     "data": {
      "text/plain": [
       "(89, 2)"
      ]
     },
     "execution_count": 35,
     "metadata": {},
     "output_type": "execute_result"
    }
   ],
   "source": [
    "df[(df['pw_job_title_908'].isnull()) & (df['pw_job_title_9089'].isnull())][['pw_job_title_908','pw_job_title_9089']].shape"
   ]
  },
  {
   "cell_type": "code",
   "execution_count": 36,
   "metadata": {},
   "outputs": [],
   "source": [
    "df = df[(df['pw_job_title_908'].notnull()) | (df['pw_job_title_9089'].notnull())]"
   ]
  },
  {
   "cell_type": "code",
   "execution_count": 37,
   "metadata": {},
   "outputs": [],
   "source": [
    "df['pw_job_title_9089'] = df['pw_job_title_9089'].fillna(df['pw_job_title_908'])"
   ]
  },
  {
   "cell_type": "code",
   "execution_count": 38,
   "metadata": {},
   "outputs": [],
   "source": [
    "del df['pw_job_title_908']"
   ]
  },
  {
   "cell_type": "code",
   "execution_count": 39,
   "metadata": {},
   "outputs": [
    {
     "data": {
      "text/plain": [
       "0"
      ]
     },
     "execution_count": 39,
     "metadata": {},
     "output_type": "execute_result"
    }
   ],
   "source": [
    "df['pw_job_title_9089'].isnull().sum()"
   ]
  },
  {
   "cell_type": "raw",
   "metadata": {},
   "source": [
    "### Merging the values of rec_info_barg_rep_notified and recr_info_barg_rep_notified"
   ]
  },
  {
   "cell_type": "raw",
   "metadata": {},
   "source": [
    "df.rec_info_barg_rep_notified.tail()"
   ]
  },
  {
   "cell_type": "raw",
   "metadata": {},
   "source": [
    "df.recr_info_barg_rep_notified.tail()"
   ]
  },
  {
   "cell_type": "raw",
   "metadata": {},
   "source": [
    "#### Checking if any values overlap"
   ]
  },
  {
   "cell_type": "raw",
   "metadata": {},
   "source": [
    "df[(df['recr_info_barg_rep_notified'].notnull()) & (df['rec_info_barg_rep_notified'].notnull())][['recr_info_barg_rep_notified','rec_info_barg_rep_notified']]"
   ]
  },
  {
   "cell_type": "raw",
   "metadata": {},
   "source": [
    "#### Checking NA values in same indexes"
   ]
  },
  {
   "cell_type": "raw",
   "metadata": {},
   "source": [
    "df[(df['recr_info_barg_rep_notified'].isnull()) & (df['rec_info_barg_rep_notified'].isnull())][['recr_info_barg_rep_notified','rec_info_barg_rep_notified']].shape"
   ]
  },
  {
   "cell_type": "raw",
   "metadata": {},
   "source": [
    "df['recr_info_barg_rep_notified'] = df['recr_info_barg_rep_notified'].fillna(df['rec_info_barg_rep_notified'])"
   ]
  },
  {
   "cell_type": "raw",
   "metadata": {},
   "source": [
    "del df['rec_info_barg_rep_notified']"
   ]
  },
  {
   "cell_type": "raw",
   "metadata": {},
   "source": [
    "df['recr_info_barg_rep_notified'].isnull().sum()"
   ]
  },
  {
   "cell_type": "markdown",
   "metadata": {},
   "source": [
    "### Merging the values of wage_offer_unit_of_pay_9089 and wage_offered_unit_of_pay_9089"
   ]
  },
  {
   "cell_type": "code",
   "execution_count": 112,
   "metadata": {},
   "outputs": [
    {
     "data": {
      "text/plain": [
       "374349    Year\n",
       "374350    Year\n",
       "374351    Year\n",
       "374352    Year\n",
       "374353    Year\n",
       "Name: wage_offer_unit_of_pay_9089, dtype: object"
      ]
     },
     "execution_count": 112,
     "metadata": {},
     "output_type": "execute_result"
    }
   ],
   "source": [
    "df.wage_offer_unit_of_pay_9089.tail()"
   ]
  },
  {
   "cell_type": "code",
   "execution_count": 105,
   "metadata": {},
   "outputs": [
    {
     "data": {
      "text/plain": [
       "374349    NaN\n",
       "374350    NaN\n",
       "374351    NaN\n",
       "374352    NaN\n",
       "374353    NaN\n",
       "Name: wage_offered_unit_of_pay_9089, dtype: object"
      ]
     },
     "execution_count": 105,
     "metadata": {},
     "output_type": "execute_result"
    }
   ],
   "source": [
    "df.wage_offered_unit_of_pay_9089.tail()"
   ]
  },
  {
   "cell_type": "markdown",
   "metadata": {},
   "source": [
    "#### Checking if any values overlap"
   ]
  },
  {
   "cell_type": "code",
   "execution_count": 114,
   "metadata": {},
   "outputs": [
    {
     "data": {
      "text/html": [
       "<div>\n",
       "<style scoped>\n",
       "    .dataframe tbody tr th:only-of-type {\n",
       "        vertical-align: middle;\n",
       "    }\n",
       "\n",
       "    .dataframe tbody tr th {\n",
       "        vertical-align: top;\n",
       "    }\n",
       "\n",
       "    .dataframe thead th {\n",
       "        text-align: right;\n",
       "    }\n",
       "</style>\n",
       "<table border=\"1\" class=\"dataframe\">\n",
       "  <thead>\n",
       "    <tr style=\"text-align: right;\">\n",
       "      <th></th>\n",
       "      <th>wage_offer_unit_of_pay_9089</th>\n",
       "      <th>wage_offered_unit_of_pay_9089</th>\n",
       "    </tr>\n",
       "  </thead>\n",
       "  <tbody>\n",
       "  </tbody>\n",
       "</table>\n",
       "</div>"
      ],
      "text/plain": [
       "Empty DataFrame\n",
       "Columns: [wage_offer_unit_of_pay_9089, wage_offered_unit_of_pay_9089]\n",
       "Index: []"
      ]
     },
     "execution_count": 114,
     "metadata": {},
     "output_type": "execute_result"
    }
   ],
   "source": [
    "df[(df['wage_offer_unit_of_pay_9089'].notnull()) & (df['wage_offered_unit_of_pay_9089'].notnull())][['wage_offer_unit_of_pay_9089','wage_offered_unit_of_pay_9089']]"
   ]
  },
  {
   "cell_type": "markdown",
   "metadata": {},
   "source": [
    "#### Checking NA values in same indexes"
   ]
  },
  {
   "cell_type": "code",
   "execution_count": 46,
   "metadata": {},
   "outputs": [
    {
     "data": {
      "text/plain": [
       "(38786, 2)"
      ]
     },
     "execution_count": 46,
     "metadata": {},
     "output_type": "execute_result"
    }
   ],
   "source": [
    "df[(df['wage_offer_unit_of_pay_9089'].isnull()) & (df['wage_offered_unit_of_pay_9089'].isnull())][['wage_offer_unit_of_pay_9089','wage_offered_unit_of_pay_9089']].shape"
   ]
  },
  {
   "cell_type": "code",
   "execution_count": 40,
   "metadata": {},
   "outputs": [],
   "source": [
    "df['wage_offered_unit_of_pay_9089'] = df['wage_offered_unit_of_pay_9089'].fillna(df['wage_offer_unit_of_pay_9089'])"
   ]
  },
  {
   "cell_type": "code",
   "execution_count": 41,
   "metadata": {},
   "outputs": [],
   "source": [
    "del df['wage_offer_unit_of_pay_9089']"
   ]
  },
  {
   "cell_type": "code",
   "execution_count": 42,
   "metadata": {},
   "outputs": [
    {
     "data": {
      "text/plain": [
       "38786"
      ]
     },
     "execution_count": 42,
     "metadata": {},
     "output_type": "execute_result"
    }
   ],
   "source": [
    "df['wage_offered_unit_of_pay_9089'].isnull().sum()"
   ]
  },
  {
   "cell_type": "code",
   "execution_count": null,
   "metadata": {},
   "outputs": [],
   "source": []
  },
  {
   "cell_type": "markdown",
   "metadata": {},
   "source": [
    "### #pw_amount_9089"
   ]
  },
  {
   "cell_type": "code",
   "execution_count": 43,
   "metadata": {},
   "outputs": [
    {
     "data": {
      "text/plain": [
       "14"
      ]
     },
     "execution_count": 43,
     "metadata": {},
     "output_type": "execute_result"
    }
   ],
   "source": [
    "df.pw_amount_9089.isnull().sum()"
   ]
  },
  {
   "cell_type": "code",
   "execution_count": 57,
   "metadata": {},
   "outputs": [
    {
     "data": {
      "text/html": [
       "<div>\n",
       "<style scoped>\n",
       "    .dataframe tbody tr th:only-of-type {\n",
       "        vertical-align: middle;\n",
       "    }\n",
       "\n",
       "    .dataframe tbody tr th {\n",
       "        vertical-align: top;\n",
       "    }\n",
       "\n",
       "    .dataframe thead th {\n",
       "        text-align: right;\n",
       "    }\n",
       "</style>\n",
       "<table border=\"1\" class=\"dataframe\">\n",
       "  <thead>\n",
       "    <tr style=\"text-align: right;\">\n",
       "      <th></th>\n",
       "      <th>pw_amount_9089</th>\n",
       "      <th>pw_unit_of_pay_9089</th>\n",
       "    </tr>\n",
       "  </thead>\n",
       "  <tbody>\n",
       "    <tr>\n",
       "      <th>0</th>\n",
       "      <td>75629.0</td>\n",
       "      <td>yr</td>\n",
       "    </tr>\n",
       "    <tr>\n",
       "      <th>1</th>\n",
       "      <td>37024.0</td>\n",
       "      <td>yr</td>\n",
       "    </tr>\n",
       "    <tr>\n",
       "      <th>2</th>\n",
       "      <td>47923.0</td>\n",
       "      <td>yr</td>\n",
       "    </tr>\n",
       "    <tr>\n",
       "      <th>3</th>\n",
       "      <td>10.97</td>\n",
       "      <td>hr</td>\n",
       "    </tr>\n",
       "    <tr>\n",
       "      <th>4</th>\n",
       "      <td>94890.0</td>\n",
       "      <td>yr</td>\n",
       "    </tr>\n",
       "    <tr>\n",
       "      <th>5</th>\n",
       "      <td>37024.0</td>\n",
       "      <td>yr</td>\n",
       "    </tr>\n",
       "    <tr>\n",
       "      <th>6</th>\n",
       "      <td>47083.33</td>\n",
       "      <td>yr</td>\n",
       "    </tr>\n",
       "    <tr>\n",
       "      <th>7</th>\n",
       "      <td>36733.0</td>\n",
       "      <td>yr</td>\n",
       "    </tr>\n",
       "    <tr>\n",
       "      <th>8</th>\n",
       "      <td>44824.0</td>\n",
       "      <td>yr</td>\n",
       "    </tr>\n",
       "    <tr>\n",
       "      <th>9</th>\n",
       "      <td>12.86</td>\n",
       "      <td>hr</td>\n",
       "    </tr>\n",
       "  </tbody>\n",
       "</table>\n",
       "</div>"
      ],
      "text/plain": [
       "  pw_amount_9089 pw_unit_of_pay_9089\n",
       "0        75629.0                  yr\n",
       "1        37024.0                  yr\n",
       "2        47923.0                  yr\n",
       "3          10.97                  hr\n",
       "4        94890.0                  yr\n",
       "5        37024.0                  yr\n",
       "6       47083.33                  yr\n",
       "7        36733.0                  yr\n",
       "8        44824.0                  yr\n",
       "9          12.86                  hr"
      ]
     },
     "execution_count": 57,
     "metadata": {},
     "output_type": "execute_result"
    }
   ],
   "source": [
    "df[['pw_amount_9089','pw_unit_of_pay_9089']].head(10)"
   ]
  },
  {
   "cell_type": "code",
   "execution_count": 44,
   "metadata": {},
   "outputs": [
    {
     "data": {
      "text/html": [
       "<div>\n",
       "<style scoped>\n",
       "    .dataframe tbody tr th:only-of-type {\n",
       "        vertical-align: middle;\n",
       "    }\n",
       "\n",
       "    .dataframe tbody tr th {\n",
       "        vertical-align: top;\n",
       "    }\n",
       "\n",
       "    .dataframe thead th {\n",
       "        text-align: right;\n",
       "    }\n",
       "</style>\n",
       "<table border=\"1\" class=\"dataframe\">\n",
       "  <thead>\n",
       "    <tr style=\"text-align: right;\">\n",
       "      <th></th>\n",
       "      <th>pw_amount_9089</th>\n",
       "      <th>pw_unit_of_pay_9089</th>\n",
       "    </tr>\n",
       "  </thead>\n",
       "  <tbody>\n",
       "    <tr>\n",
       "      <th>0</th>\n",
       "      <td>75629.00</td>\n",
       "      <td>Year</td>\n",
       "    </tr>\n",
       "    <tr>\n",
       "      <th>1</th>\n",
       "      <td>37024.00</td>\n",
       "      <td>Year</td>\n",
       "    </tr>\n",
       "    <tr>\n",
       "      <th>2</th>\n",
       "      <td>47923.00</td>\n",
       "      <td>Year</td>\n",
       "    </tr>\n",
       "    <tr>\n",
       "      <th>3</th>\n",
       "      <td>21940.00</td>\n",
       "      <td>Year</td>\n",
       "    </tr>\n",
       "    <tr>\n",
       "      <th>4</th>\n",
       "      <td>94890.00</td>\n",
       "      <td>Year</td>\n",
       "    </tr>\n",
       "    <tr>\n",
       "      <th>5</th>\n",
       "      <td>37024.00</td>\n",
       "      <td>Year</td>\n",
       "    </tr>\n",
       "    <tr>\n",
       "      <th>6</th>\n",
       "      <td>47083.33</td>\n",
       "      <td>Year</td>\n",
       "    </tr>\n",
       "    <tr>\n",
       "      <th>7</th>\n",
       "      <td>36733.00</td>\n",
       "      <td>Year</td>\n",
       "    </tr>\n",
       "    <tr>\n",
       "      <th>8</th>\n",
       "      <td>44824.00</td>\n",
       "      <td>Year</td>\n",
       "    </tr>\n",
       "    <tr>\n",
       "      <th>9</th>\n",
       "      <td>25720.00</td>\n",
       "      <td>Year</td>\n",
       "    </tr>\n",
       "  </tbody>\n",
       "</table>\n",
       "</div>"
      ],
      "text/plain": [
       "   pw_amount_9089 pw_unit_of_pay_9089\n",
       "0        75629.00                Year\n",
       "1        37024.00                Year\n",
       "2        47923.00                Year\n",
       "3        21940.00                Year\n",
       "4        94890.00                Year\n",
       "5        37024.00                Year\n",
       "6        47083.33                Year\n",
       "7        36733.00                Year\n",
       "8        44824.00                Year\n",
       "9        25720.00                Year"
      ]
     },
     "execution_count": 44,
     "metadata": {},
     "output_type": "execute_result"
    }
   ],
   "source": [
    "#Replacing commas with whitespace character\n",
    "df['pw_amount_9089'] = df['pw_amount_9089'].str.replace(\",\",\"\") \n",
    "\n",
    "\n",
    "#Calculating pw_amount_9089 yearly for every unit\n",
    "for unit in df.pw_unit_of_pay_9089.unique():\n",
    "    if unit == \"hr\" or unit == \"Hour\":\n",
    "        df.loc[df['pw_unit_of_pay_9089'] == unit, 'pw_amount_9089'] = df['pw_amount_9089'].apply(lambda x: float(x) * 8 * 250)\n",
    "        df.loc[df['pw_unit_of_pay_9089'] == unit, 'pw_unit_of_pay_9089'] = df['pw_unit_of_pay_9089'].replace(to_replace = unit, value = \"Year\") \n",
    "    elif unit == \"wk\" or unit == \"Week\":\n",
    "        df.loc[df['pw_unit_of_pay_9089'] == unit, 'pw_amount_9089'] = df['pw_amount_9089'].apply(lambda x: float(x) * 50)\n",
    "        df.loc[df['pw_unit_of_pay_9089'] == unit, 'pw_unit_of_pay_9089'] = df['pw_unit_of_pay_9089'].replace(to_replace = unit, value = \"Year\")\n",
    "    elif unit == \"mth\" or unit == \"Month\":\n",
    "        df.loc[df['pw_unit_of_pay_9089'] == unit, 'pw_amount_9089'] = df['pw_amount_9089'].apply(lambda x: float(x) * 12)\n",
    "        df.loc[df['pw_unit_of_pay_9089'] == unit, 'pw_unit_of_pay_9089'] = df['pw_unit_of_pay_9089'].replace(to_replace = unit, value = \"Year\")\n",
    "    elif unit == \"bi\" or unit == \"Bi-Weekly\":  \n",
    "        df.loc[df['pw_unit_of_pay_9089'] == unit, 'pw_amount_9089'] = df['pw_amount_9089'].apply(lambda x: float(x) * 25)\n",
    "        df.loc[df['pw_unit_of_pay_9089'] == unit, 'pw_unit_of_pay_9089'] = df['pw_unit_of_pay_9089'].replace(to_replace = unit, value = \"Year\")\n",
    "    elif unit ==\"yr\":\n",
    "         df.loc[df['pw_unit_of_pay_9089'] == unit ,'pw_unit_of_pay_9089'] = df['pw_unit_of_pay_9089'].replace(to_replace = unit, value = \"Year\")\n",
    "    else:\n",
    "        continue\n",
    "        \n",
    "#Filling missing values with median \n",
    "df['pw_amount_9089'] = df['pw_amount_9089'].fillna((df['pw_amount_9089'].median()))\n",
    "\n",
    "#Changing format from string to float\n",
    "df['pw_amount_9089'] = df.pw_amount_9089.astype(float)\n",
    "\n",
    "#Displaying 10 first values\n",
    "df[['pw_amount_9089','pw_unit_of_pay_9089']].head(10)"
   ]
  },
  {
   "cell_type": "code",
   "execution_count": 45,
   "metadata": {},
   "outputs": [
    {
     "name": "stdout",
     "output_type": "stream",
     "text": [
      "count      351526.00\n",
      "mean       473837.06\n",
      "std       7722627.27\n",
      "min             7.50\n",
      "25%         67642.00\n",
      "50%         86278.00\n",
      "75%        105082.00\n",
      "max     495748000.00\n",
      "Name: pw_amount_9089, dtype: float64\n"
     ]
    }
   ],
   "source": [
    "with pd.option_context('float_format', '{:.2f}'.format): print(df.pw_amount_9089.describe())"
   ]
  },
  {
   "cell_type": "code",
   "execution_count": 46,
   "metadata": {},
   "outputs": [
    {
     "data": {
      "text/plain": [
       "0-30k        19554\n",
       "30-60k       47076\n",
       "60-90k      130124\n",
       "90-120k     111810\n",
       "120-150k     30356\n",
       "150-180k      7070\n",
       "180-210k      3789\n",
       "210-240k       602\n",
       "240-270k        28\n",
       "270k+         1116\n",
       "Name: remuneration, dtype: int64"
      ]
     },
     "execution_count": 46,
     "metadata": {},
     "output_type": "execute_result"
    }
   ],
   "source": [
    "#Dividing our continuous income values into some categories to facilitate their visualization\n",
    "df['remuneration'] = pd.cut(df['pw_amount_9089'], [0, 30000, 60000,90000,120000,150000,180000,210000,240000,270000,495748000], right=False, labels=[\"0-30k\", \"30-60k\",\"60-90k\",\"90-120k\",\"120-150k\",\"150-180k\",\"180-210k\",\"210-240k\",\"240-270k\",\"270k+\"])\n",
    "salary = df['remuneration'].value_counts()\n",
    "salary.iloc[np.argsort(salary.index)]"
   ]
  },
  {
   "cell_type": "markdown",
   "metadata": {},
   "source": [
    "### #job_info_job_title"
   ]
  },
  {
   "cell_type": "code",
   "execution_count": 47,
   "metadata": {},
   "outputs": [],
   "source": [
    "df['job_info_job_title'] = df['job_info_job_title'].str.upper()"
   ]
  },
  {
   "cell_type": "raw",
   "metadata": {},
   "source": [
    "#list(df['job_info_job_title'].value_counts().values)\n",
    "dic = dict(zip(list(df['job_info_job_title'].value_counts().index), list(df['job_info_job_title'].value_counts().values)))\n",
    "#dic"
   ]
  },
  {
   "cell_type": "code",
   "execution_count": 48,
   "metadata": {},
   "outputs": [
    {
     "data": {
      "text/plain": [
       "SOFTWARE ENGINEER                   17236\n",
       "COMPUTER SYSTEMS ANALYST            12023\n",
       "SENIOR SOFTWARE ENGINEER             4690\n",
       "SOFTWARE DEVELOPER                   4340\n",
       "PROGRAMMER ANALYST                   3313\n",
       "ASSISTANT PROFESSOR                  2867\n",
       "SYSTEMS ANALYST                      2325\n",
       "SOFTWARE DEVELOPMENT ENGINEER II     1772\n",
       "POULTRY PROCESSING WORKER            1596\n",
       "BUSINESS ANALYST                     1451\n",
       "Name: job_info_job_title, dtype: int64"
      ]
     },
     "execution_count": 48,
     "metadata": {},
     "output_type": "execute_result"
    }
   ],
   "source": [
    "#Converting values to upper case\n",
    "df['job_info_job_title'] = df['job_info_job_title'].str.upper()\n",
    "\n",
    "#Splitting job titles by '-'\n",
    "df['job_info_job_title'] = df['job_info_job_title'].astype(str).str.split('-').str[0]\n",
    "#Splitting job titles by 'ii'\n",
    "df['job_info_job_title'] = df['job_info_job_title'].astype(str).str.split('ii').str[0]\n",
    "#Splitting job titles by '/'\n",
    "df['job_info_job_title'] = df['job_info_job_title'].astype(str).str.split('/').str[0]\n",
    "#Removing leading and ending spaces\n",
    "df['job_info_job_title'] = df['job_info_job_title'].astype(str).str.strip()\n",
    "#Replacing \"sr.\" values with \"senior\"\n",
    "df['job_info_job_title'] = df['job_info_job_title'].str.replace('sr.', 'senior')\n",
    "#Replacing \"NaN\", \"NaT\" and \"nan\" values with np.nan\n",
    "df['job_info_job_title'].replace([\"NaN\", 'NaT','nan'], np.nan, inplace = True)\n",
    "\n",
    "\n",
    "df['job_info_job_title'].value_counts(dropna=True)[:10]"
   ]
  },
  {
   "cell_type": "code",
   "execution_count": 146,
   "metadata": {},
   "outputs": [],
   "source": [
    "lst1 = list(df['job_info_job_title'].value_counts().index)\n",
    "lst2 = list(df['job_info_job_title'].value_counts().index)"
   ]
  },
  {
   "cell_type": "code",
   "execution_count": 148,
   "metadata": {},
   "outputs": [
    {
     "name": "stdout",
     "output_type": "stream",
     "text": [
      "(47002, 7500)\n"
     ]
    }
   ],
   "source": [
    "from sklearn.feature_extraction.text import TfidfVectorizer\n",
    "tfidf_vectorizer = TfidfVectorizer()\n",
    "tfidf_matrix = tfidf_vectorizer.fit_transform(lst1)\n",
    "print(tfidf_matrix.shape)"
   ]
  },
  {
   "cell_type": "code",
   "execution_count": 151,
   "metadata": {},
   "outputs": [
    {
     "data": {
      "text/plain": [
       "array([0.8049129 , 0.59339297, 0.72893197, ..., 0.39720626, 0.62218992,\n",
       "       0.56189107])"
      ]
     },
     "execution_count": 151,
     "metadata": {},
     "output_type": "execute_result"
    }
   ],
   "source": [
    "tfidf_matrix.data"
   ]
  },
  {
   "cell_type": "code",
   "execution_count": 193,
   "metadata": {},
   "outputs": [],
   "source": [
    "#from sklearn.metrics.pairwise import cosine_similarity\n",
    "#cosine_similarity(tfidf_matrix, tfidf_matrix)\n",
    "\n",
    "# MemoryError"
   ]
  },
  {
   "cell_type": "code",
   "execution_count": 231,
   "metadata": {},
   "outputs": [
    {
     "data": {
      "text/plain": [
       "array([17236, 12023,  4690,  4340,  3313,  2867,  2325,  1772,  1596,\n",
       "        1451,  1234,  1153,  1064,  1054,  1043,  1009,   941,   892,\n",
       "         864,   851,   846,   799,   773,   773,   759,   756,   666,\n",
       "         661,   607,   579,   575,   569,   568,   566,   562,   559,\n",
       "         538,   530,   527,   518,   497,   489,   476,   469,   466,\n",
       "         449,   443,   417,   415,   407,   407,   400,   394,   386,\n",
       "         386,   383,   375,   374,   371,   368,   365,   359,   357,\n",
       "         354,   350,   349,   349,   348,   340,   339,   337,   335,\n",
       "         333,   314,   313,   309,   306,   306,   304,   303],\n",
       "      dtype=int64)"
      ]
     },
     "execution_count": 231,
     "metadata": {},
     "output_type": "execute_result"
    }
   ],
   "source": [
    "df['job_info_job_title'].value_counts().values[df['job_info_job_title'].value_counts().values > 300]"
   ]
  },
  {
   "cell_type": "code",
   "execution_count": 232,
   "metadata": {},
   "outputs": [
    {
     "data": {
      "text/plain": [
       "0.1324752319409589"
      ]
     },
     "execution_count": 232,
     "metadata": {},
     "output_type": "execute_result"
    }
   ],
   "source": [
    "(303/228722)*100"
   ]
  },
  {
   "cell_type": "markdown",
   "metadata": {},
   "source": [
    "### Displaying percentage of non-null values for each feature"
   ]
  },
  {
   "cell_type": "code",
   "execution_count": 904,
   "metadata": {},
   "outputs": [
    {
     "name": "stdout",
     "output_type": "stream",
     "text": [
      "0 Column: 'add_these_pw_job_title_9089' contains  10.99 % non-null values\n",
      "1 Column: 'agent_city' contains  56.92 % non-null values\n",
      "2 Column: 'agent_firm_name' contains  55.74 % non-null values\n",
      "3 Column: 'agent_state' contains  56.05 % non-null values\n",
      "4 Column: 'application_type' contains  35.61 % non-null values\n",
      "5 Column: 'case_number' contains  100.0 % non-null values\n",
      "6 Column: 'case_received_date' contains  64.39 % non-null values\n",
      "7 Column: 'case_status' contains  100.0 % non-null values\n",
      "8 Column: 'class_of_admission' contains  94.08 % non-null values\n",
      "9 Column: 'country_of_citizenship' contains  99.98 % non-null values\n",
      "10 Column: 'decision_date' contains  100.0 % non-null values\n",
      "11 Column: 'employer_address_1' contains  99.99 % non-null values\n",
      "12 Column: 'employer_address_2' contains  60.4 % non-null values\n",
      "13 Column: 'employer_city' contains  100.0 % non-null values\n",
      "14 Column: 'employer_country' contains  64.37 % non-null values\n",
      "15 Column: 'employer_decl_info_title' contains  64.37 % non-null values\n",
      "16 Column: 'employer_name' contains  100.0 % non-null values\n",
      "17 Column: 'employer_num_employees' contains  64.36 % non-null values\n",
      "18 Column: 'employer_phone' contains  64.38 % non-null values\n",
      "19 Column: 'employer_phone_ext' contains  6.32 % non-null values\n",
      "20 Column: 'employer_postal_code' contains  99.99 % non-null values\n",
      "21 Column: 'employer_state' contains  99.99 % non-null values\n",
      "22 Column: 'employer_yr_estab' contains  64.35 % non-null values\n",
      "23 Column: 'foreign_worker_info_city' contains  64.38 % non-null values\n",
      "24 Column: 'foreign_worker_info_education' contains  64.37 % non-null values\n",
      "25 Column: 'foreign_worker_info_education_other' contains  1.05 % non-null values\n",
      "26 Column: 'foreign_worker_info_inst' contains  59.6 % non-null values\n",
      "27 Column: 'foreign_worker_info_major' contains  59.35 % non-null values\n",
      "28 Column: 'foreign_worker_info_postal_code' contains  22.95 % non-null values\n",
      "29 Column: 'foreign_worker_info_state' contains  60.01 % non-null values\n",
      "30 Column: 'foreign_worker_yr_rel_edu_completed' contains  22.3 % non-null values\n",
      "31 Column: 'fw_info_alt_edu_experience' contains  64.38 % non-null values\n",
      "32 Column: 'fw_info_birth_country' contains  64.38 % non-null values\n",
      "33 Column: 'fw_info_education_other' contains  40.6 % non-null values\n",
      "34 Column: 'fw_info_postal_code' contains  40.12 % non-null values\n",
      "35 Column: 'fw_info_rel_occup_exp' contains  64.38 % non-null values\n",
      "36 Column: 'fw_info_req_experience' contains  64.38 % non-null values\n",
      "37 Column: 'fw_info_training_comp' contains  64.38 % non-null values\n",
      "38 Column: 'fw_ownership_interest' contains  64.38 % non-null values\n",
      "39 Column: 'ji_foreign_worker_live_on_premises' contains  23.67 % non-null values\n",
      "40 Column: 'ji_fw_live_on_premises' contains  40.72 % non-null values\n",
      "41 Column: 'ji_live_in_dom_svc_contract' contains  0.65 % non-null values\n",
      "42 Column: 'ji_live_in_domestic_service' contains  64.38 % non-null values\n",
      "43 Column: 'ji_offered_to_sec_j_fw' contains  64.38 % non-null values\n",
      "44 Column: 'job_info_alt_cmb_ed_oth_yrs' contains  19.07 % non-null values\n",
      "45 Column: 'job_info_alt_combo_ed' contains  19.16 % non-null values\n",
      "46 Column: 'job_info_alt_combo_ed_exp' contains  64.38 % non-null values\n",
      "47 Column: 'job_info_alt_combo_ed_other' contains  2.52 % non-null values\n",
      "48 Column: 'job_info_alt_field' contains  64.38 % non-null values\n",
      "49 Column: 'job_info_alt_field_name' contains  25.34 % non-null values\n",
      "50 Column: 'job_info_alt_occ' contains  40.15 % non-null values\n",
      "51 Column: 'job_info_alt_occ_job_title' contains  39.96 % non-null values\n",
      "52 Column: 'job_info_combo_occupation' contains  64.38 % non-null values\n",
      "53 Column: 'job_info_education' contains  64.38 % non-null values\n",
      "54 Column: 'job_info_education_other' contains  2.09 % non-null values\n",
      "55 Column: 'job_info_experience' contains  64.38 % non-null values\n",
      "56 Column: 'job_info_experience_num_months' contains  36.2 % non-null values\n",
      "57 Column: 'job_info_foreign_ed' contains  64.32 % non-null values\n",
      "58 Column: 'job_info_foreign_lang_req' contains  64.38 % non-null values\n",
      "59 Column: 'job_info_job_req_normal' contains  64.38 % non-null values\n",
      "60 Column: 'job_info_job_title' contains  64.37 % non-null values\n",
      "61 Column: 'job_info_major' contains  57.58 % non-null values\n",
      "62 Column: 'job_info_training' contains  64.38 % non-null values\n",
      "63 Column: 'job_info_training_field' contains  1.2 % non-null values\n",
      "64 Column: 'job_info_training_num_months' contains  1.28 % non-null values\n",
      "65 Column: 'job_info_work_city' contains  99.97 % non-null values\n",
      "66 Column: 'job_info_work_postal_code' contains  64.36 % non-null values\n",
      "67 Column: 'job_info_work_state' contains  99.97 % non-null values\n",
      "68 Column: 'naics_code' contains  99.73 % non-null values\n",
      "69 Column: 'naics_title' contains  98.73 % non-null values\n",
      "70 Column: 'orig_case_no' contains  0.08 % non-null values\n",
      "71 Column: 'orig_file_date' contains  0.07 % non-null values\n",
      "72 Column: 'preparer_info_emp_completed' contains  64.37 % non-null values\n",
      "73 Column: 'preparer_info_title' contains  56.59 % non-null values\n",
      "74 Column: 'pw_amount_9089' contains  100.0 % non-null values\n",
      "75 Column: 'pw_determ_date' contains  64.3 % non-null values\n",
      "76 Column: 'pw_expire_date' contains  64.28 % non-null values\n",
      "77 Column: 'pw_job_title_9089' contains  99.89 % non-null values\n",
      "78 Column: 'pw_level_9089' contains  92.54 % non-null values\n",
      "79 Column: 'pw_soc_code' contains  99.89 % non-null values\n",
      "80 Column: 'pw_soc_title' contains  99.35 % non-null values\n",
      "81 Column: 'pw_source_name_9089' contains  99.41 % non-null values\n",
      "82 Column: 'pw_source_name_other_9089' contains  4.28 % non-null values\n",
      "83 Column: 'pw_track_num' contains  63.87 % non-null values\n",
      "84 Column: 'pw_unit_of_pay_9089' contains  99.58 % non-null values\n",
      "85 Column: 'recr_info_barg_rep_notified' contains  64.36 % non-null values\n",
      "86 Column: 'recr_info_coll_teach_comp_proc' contains  1.91 % non-null values\n",
      "87 Column: 'recr_info_coll_univ_teacher' contains  64.38 % non-null values\n",
      "88 Column: 'recr_info_employer_rec_payment' contains  64.38 % non-null values\n",
      "89 Column: 'recr_info_first_ad_start' contains  62.71 % non-null values\n",
      "90 Column: 'recr_info_job_fair_from' contains  0.48 % non-null values\n",
      "91 Column: 'recr_info_job_fair_to' contains  0.48 % non-null values\n",
      "92 Column: 'recr_info_on_campus_recr_from' contains  0.5 % non-null values\n",
      "93 Column: 'recr_info_on_campus_recr_to' contains  0.49 % non-null values\n",
      "94 Column: 'recr_info_pro_org_advert_from' contains  3.73 % non-null values\n",
      "95 Column: 'recr_info_pro_org_advert_to' contains  3.73 % non-null values\n",
      "96 Column: 'recr_info_prof_org_advert_from' contains  7.69 % non-null values\n",
      "97 Column: 'recr_info_prof_org_advert_to' contains  7.69 % non-null values\n",
      "98 Column: 'recr_info_professional_occ' contains  64.38 % non-null values\n",
      "99 Column: 'recr_info_radio_tv_ad_from' contains  5.48 % non-null values\n",
      "100 Column: 'recr_info_radio_tv_ad_to' contains  5.48 % non-null values\n",
      "101 Column: 'recr_info_second_ad_start' contains  62.7 % non-null values\n",
      "102 Column: 'recr_info_sunday_newspaper' contains  62.74 % non-null values\n",
      "103 Column: 'recr_info_swa_job_order_end' contains  62.7 % non-null values\n",
      "104 Column: 'recr_info_swa_job_order_start' contains  62.71 % non-null values\n",
      "105 Column: 'refile' contains  30.41 % non-null values\n",
      "106 Column: 'ri_1st_ad_newspaper_name' contains  63.75 % non-null values\n",
      "107 Column: 'ri_2nd_ad_newspaper_name' contains  63.74 % non-null values\n",
      "108 Column: 'ri_2nd_ad_newspaper_or_journal' contains  62.71 % non-null values\n",
      "109 Column: 'ri_campus_placement_from' contains  8.08 % non-null values\n",
      "110 Column: 'ri_campus_placement_to' contains  8.08 % non-null values\n",
      "111 Column: 'ri_coll_tch_basic_process' contains  1.91 % non-null values\n",
      "112 Column: 'ri_coll_teach_pro_jnl' contains  41.29 % non-null values\n",
      "113 Column: 'ri_coll_teach_select_date' contains  1.56 % non-null values\n",
      "114 Column: 'ri_employee_referral_prog_from' contains  18.62 % non-null values\n",
      "115 Column: 'ri_employee_referral_prog_to' contains  18.62 % non-null values\n",
      "116 Column: 'ri_employer_web_post_from' contains  37.03 % non-null values\n",
      "117 Column: 'ri_employer_web_post_to' contains  37.02 % non-null values\n",
      "118 Column: 'ri_job_search_website_from' contains  53.29 % non-null values\n",
      "119 Column: 'ri_job_search_website_to' contains  53.28 % non-null values\n",
      "120 Column: 'ri_layoff_in_past_six_months' contains  64.38 % non-null values\n",
      "121 Column: 'ri_local_ethnic_paper_from' contains  32.66 % non-null values\n",
      "122 Column: 'ri_local_ethnic_paper_to' contains  32.66 % non-null values\n",
      "123 Column: 'ri_posted_notice_at_worksite' contains  64.36 % non-null values\n",
      "124 Column: 'ri_pvt_employment_firm_from' contains  4.53 % non-null values\n",
      "125 Column: 'ri_pvt_employment_firm_to' contains  4.52 % non-null values\n",
      "126 Column: 'ri_us_workers_considered' contains  4.65 % non-null values\n",
      "127 Column: 'schd_a_sheepherder' contains  64.38 % non-null values\n",
      "128 Column: 'us_economic_sector' contains  33.94 % non-null values\n",
      "129 Column: 'wage_offer_from_9089' contains  69.76 % non-null values\n",
      "130 Column: 'wage_offer_to_9089' contains  19.87 % non-null values\n",
      "131 Column: 'wage_offered_unit_of_pay_9089' contains  88.19 % non-null values\n",
      "132 Column: 'remuneration' contains  100.0 % non-null values\n"
     ]
    }
   ],
   "source": [
    "i = 0;\n",
    "for col in df.columns:\n",
    "    i = i+1;\n",
    "    print (i-1,\"Column: '{}'\".format(col),\"contains \", np.round(100*df[col].count()/len(df['case_status']),decimals=2),\"% non-null values\" )"
   ]
  },
  {
   "cell_type": "markdown",
   "metadata": {},
   "source": [
    "### Feature selection and data cleaning"
   ]
  },
  {
   "cell_type": "code",
   "execution_count": 55,
   "metadata": {},
   "outputs": [
    {
     "name": "stdout",
     "output_type": "stream",
     "text": [
      "<class 'pandas.core.frame.DataFrame'>\n",
      "Int64Index: 351526 entries, 0 to 374353\n",
      "Data columns (total 21 columns):\n",
      "case_number               351526 non-null object\n",
      "case_status               351526 non-null object\n",
      "class_of_admission        331278 non-null object\n",
      "country_of_citizenship    351526 non-null object\n",
      "decision_date             351526 non-null datetime64[ns]\n",
      "employer_address_1        351498 non-null object\n",
      "employer_city             351523 non-null object\n",
      "employer_name             351525 non-null object\n",
      "employer_postal_code      351509 non-null object\n",
      "employer_state            351502 non-null object\n",
      "job_info_work_city        351498 non-null object\n",
      "job_info_work_state       351497 non-null object\n",
      "naics_code                351526 non-null object\n",
      "naics_title               351526 non-null object\n",
      "pw_amount_9089            351526 non-null float64\n",
      "pw_job_title_9089         351526 non-null object\n",
      "pw_soc_code               351448 non-null object\n",
      "pw_soc_title              351405 non-null object\n",
      "pw_source_name_9089       351499 non-null object\n",
      "pw_unit_of_pay_9089       350481 non-null object\n",
      "remuneration              351525 non-null category\n",
      "dtypes: category(1), datetime64[ns](1), float64(1), object(18)\n",
      "memory usage: 66.7+ MB\n"
     ]
    }
   ],
   "source": [
    "#Leaving columns which have more than 330000 non-missing observations\n",
    "df2 = df.loc[:,df.count() >= 330000]\n",
    "df2.info()"
   ]
  },
  {
   "cell_type": "markdown",
   "metadata": {},
   "source": [
    "### #class_of_admission"
   ]
  },
  {
   "cell_type": "code",
   "execution_count": 56,
   "metadata": {},
   "outputs": [
    {
     "data": {
      "text/plain": [
       "20248"
      ]
     },
     "execution_count": 56,
     "metadata": {},
     "output_type": "execute_result"
    }
   ],
   "source": [
    "df2.class_of_admission.isnull().sum()"
   ]
  },
  {
   "cell_type": "code",
   "execution_count": 57,
   "metadata": {},
   "outputs": [
    {
     "name": "stderr",
     "output_type": "stream",
     "text": [
      "C:\\Users\\Shefali\\Anaconda3\\lib\\site-packages\\ipykernel_launcher.py:2: SettingWithCopyWarning: \n",
      "A value is trying to be set on a copy of a slice from a DataFrame.\n",
      "Try using .loc[row_indexer,col_indexer] = value instead\n",
      "\n",
      "See the caveats in the documentation: http://pandas.pydata.org/pandas-docs/stable/indexing.html#indexing-view-versus-copy\n",
      "  \n"
     ]
    }
   ],
   "source": [
    "#Replacing missing values with mode\n",
    "df2['class_of_admission'] = df2['class_of_admission'].fillna(df2['class_of_admission'].mode()[0])"
   ]
  },
  {
   "cell_type": "code",
   "execution_count": 58,
   "metadata": {},
   "outputs": [
    {
     "data": {
      "text/plain": [
       "0"
      ]
     },
     "execution_count": 58,
     "metadata": {},
     "output_type": "execute_result"
    }
   ],
   "source": [
    "df2.class_of_admission.isnull().sum()"
   ]
  },
  {
   "cell_type": "code",
   "execution_count": 59,
   "metadata": {},
   "outputs": [
    {
     "name": "stdout",
     "output_type": "stream",
     "text": [
      "<class 'pandas.core.frame.DataFrame'>\n",
      "Int64Index: 351526 entries, 0 to 374353\n",
      "Data columns (total 21 columns):\n",
      "case_number               351526 non-null object\n",
      "case_status               351526 non-null object\n",
      "class_of_admission        351526 non-null object\n",
      "country_of_citizenship    351526 non-null object\n",
      "decision_date             351526 non-null datetime64[ns]\n",
      "employer_address_1        351498 non-null object\n",
      "employer_city             351523 non-null object\n",
      "employer_name             351525 non-null object\n",
      "employer_postal_code      351509 non-null object\n",
      "employer_state            351502 non-null object\n",
      "job_info_work_city        351498 non-null object\n",
      "job_info_work_state       351497 non-null object\n",
      "naics_code                351526 non-null object\n",
      "naics_title               351526 non-null object\n",
      "pw_amount_9089            351526 non-null float64\n",
      "pw_job_title_9089         351526 non-null object\n",
      "pw_soc_code               351448 non-null object\n",
      "pw_soc_title              351405 non-null object\n",
      "pw_source_name_9089       351499 non-null object\n",
      "pw_unit_of_pay_9089       350481 non-null object\n",
      "remuneration              351525 non-null category\n",
      "dtypes: category(1), datetime64[ns](1), float64(1), object(18)\n",
      "memory usage: 66.7+ MB\n"
     ]
    }
   ],
   "source": [
    "df2.info()"
   ]
  },
  {
   "cell_type": "markdown",
   "metadata": {},
   "source": [
    "### #country_of_citizenship"
   ]
  },
  {
   "cell_type": "code",
   "execution_count": 54,
   "metadata": {},
   "outputs": [
    {
     "data": {
      "text/plain": [
       "0"
      ]
     },
     "execution_count": 54,
     "metadata": {},
     "output_type": "execute_result"
    }
   ],
   "source": [
    "df2['country_of_citizenship'].isnull().sum()"
   ]
  },
  {
   "cell_type": "markdown",
   "metadata": {},
   "source": [
    "### #decision_date"
   ]
  },
  {
   "cell_type": "code",
   "execution_count": 68,
   "metadata": {},
   "outputs": [
    {
     "data": {
      "text/plain": [
       "0   2012-02-01\n",
       "1   2011-12-21\n",
       "2   2011-12-01\n",
       "3   2011-12-01\n",
       "4   2012-01-26\n",
       "Name: decision_date, dtype: datetime64[ns]"
      ]
     },
     "execution_count": 68,
     "metadata": {},
     "output_type": "execute_result"
    }
   ],
   "source": [
    "df2['decision_date'].head()"
   ]
  },
  {
   "cell_type": "code",
   "execution_count": 69,
   "metadata": {},
   "outputs": [
    {
     "name": "stderr",
     "output_type": "stream",
     "text": [
      "C:\\Users\\Shefali\\Anaconda3\\lib\\site-packages\\ipykernel_launcher.py:3: SettingWithCopyWarning: \n",
      "A value is trying to be set on a copy of a slice from a DataFrame.\n",
      "Try using .loc[row_indexer,col_indexer] = value instead\n",
      "\n",
      "See the caveats in the documentation: http://pandas.pydata.org/pandas-docs/stable/indexing.html#indexing-view-versus-copy\n",
      "  This is separate from the ipykernel package so we can avoid doing imports until\n",
      "C:\\Users\\Shefali\\Anaconda3\\lib\\site-packages\\ipykernel_launcher.py:4: SettingWithCopyWarning: \n",
      "A value is trying to be set on a copy of a slice from a DataFrame.\n",
      "Try using .loc[row_indexer,col_indexer] = value instead\n",
      "\n",
      "See the caveats in the documentation: http://pandas.pydata.org/pandas-docs/stable/indexing.html#indexing-view-versus-copy\n",
      "  after removing the cwd from sys.path.\n",
      "C:\\Users\\Shefali\\Anaconda3\\lib\\site-packages\\ipykernel_launcher.py:5: SettingWithCopyWarning: \n",
      "A value is trying to be set on a copy of a slice from a DataFrame.\n",
      "Try using .loc[row_indexer,col_indexer] = value instead\n",
      "\n",
      "See the caveats in the documentation: http://pandas.pydata.org/pandas-docs/stable/indexing.html#indexing-view-versus-copy\n",
      "  \"\"\"\n",
      "C:\\Users\\Shefali\\Anaconda3\\lib\\site-packages\\ipykernel_launcher.py:6: SettingWithCopyWarning: \n",
      "A value is trying to be set on a copy of a slice from a DataFrame.\n",
      "Try using .loc[row_indexer,col_indexer] = value instead\n",
      "\n",
      "See the caveats in the documentation: http://pandas.pydata.org/pandas-docs/stable/indexing.html#indexing-view-versus-copy\n",
      "  \n"
     ]
    }
   ],
   "source": [
    "import datetime as dt\n",
    "\n",
    "df2['decision_day'] = df2.decision_date.dt.day\n",
    "df2['decision_month'] = df2.decision_date.dt.month\n",
    "df2['decision_year'] = df2.decision_date.dt.year\n",
    "df2['decision_dayofweek'] = df2.decision_date.dt.dayofweek"
   ]
  },
  {
   "cell_type": "code",
   "execution_count": 70,
   "metadata": {},
   "outputs": [
    {
     "name": "stderr",
     "output_type": "stream",
     "text": [
      "C:\\Users\\Shefali\\Anaconda3\\lib\\site-packages\\ipykernel_launcher.py:1: SettingWithCopyWarning: \n",
      "A value is trying to be set on a copy of a slice from a DataFrame.\n",
      "Try using .loc[row_indexer,col_indexer] = value instead\n",
      "\n",
      "See the caveats in the documentation: http://pandas.pydata.org/pandas-docs/stable/indexing.html#indexing-view-versus-copy\n",
      "  \"\"\"Entry point for launching an IPython kernel.\n",
      "C:\\Users\\Shefali\\Anaconda3\\lib\\site-packages\\ipykernel_launcher.py:2: SettingWithCopyWarning: \n",
      "A value is trying to be set on a copy of a slice from a DataFrame.\n",
      "Try using .loc[row_indexer,col_indexer] = value instead\n",
      "\n",
      "See the caveats in the documentation: http://pandas.pydata.org/pandas-docs/stable/indexing.html#indexing-view-versus-copy\n",
      "  \n",
      "C:\\Users\\Shefali\\Anaconda3\\lib\\site-packages\\ipykernel_launcher.py:3: SettingWithCopyWarning: \n",
      "A value is trying to be set on a copy of a slice from a DataFrame.\n",
      "Try using .loc[row_indexer,col_indexer] = value instead\n",
      "\n",
      "See the caveats in the documentation: http://pandas.pydata.org/pandas-docs/stable/indexing.html#indexing-view-versus-copy\n",
      "  This is separate from the ipykernel package so we can avoid doing imports until\n",
      "C:\\Users\\Shefali\\Anaconda3\\lib\\site-packages\\ipykernel_launcher.py:4: SettingWithCopyWarning: \n",
      "A value is trying to be set on a copy of a slice from a DataFrame.\n",
      "Try using .loc[row_indexer,col_indexer] = value instead\n",
      "\n",
      "See the caveats in the documentation: http://pandas.pydata.org/pandas-docs/stable/indexing.html#indexing-view-versus-copy\n",
      "  after removing the cwd from sys.path.\n"
     ]
    }
   ],
   "source": [
    "df2['decision_day'] = df2['decision_day'].astype(object)\n",
    "df2['decision_month'] = df2['decision_month'].astype(object)\n",
    "df2['decision_year'] = df2['decision_year'].astype(object)\n",
    "df2['decision_dayofweek'] = df2['decision_dayofweek'].astype(object)"
   ]
  },
  {
   "cell_type": "code",
   "execution_count": 71,
   "metadata": {},
   "outputs": [],
   "source": [
    "del df2['decision_date']"
   ]
  },
  {
   "cell_type": "code",
   "execution_count": 78,
   "metadata": {},
   "outputs": [
    {
     "data": {
      "text/plain": [
       "array([0, 1, 2, 3, 4, 5, 6], dtype=object)"
      ]
     },
     "execution_count": 78,
     "metadata": {},
     "output_type": "execute_result"
    }
   ],
   "source": [
    "#np.sort(df2['decision_day'].unique())\n",
    "#np.sort(df2['decision_month'].unique())\n",
    "#np.sort(df2['decision_year'].unique())\n",
    "np.sort(df2['decision_dayofweek'].unique())"
   ]
  },
  {
   "cell_type": "markdown",
   "metadata": {},
   "source": [
    "### #employer_address_1"
   ]
  },
  {
   "cell_type": "code",
   "execution_count": 79,
   "metadata": {},
   "outputs": [
    {
     "data": {
      "text/plain": [
       "211 QUALITY CIRCLE            11882\n",
       "ONE MICROSOFT WAY              8109\n",
       "2200 MISSION COLLEGE BLVD.     6141\n",
       "1600 AMPHITHEATRE PARKWAY      4920\n",
       "440 TERRY AVE N                3536\n",
       "170 WEST TASMAN DRIVE          2581\n",
       "1 INFINITE LOOP                2535\n",
       "500 ORACLE PARKWAY             2503\n",
       "6100 TENNYSON PARKWAY          2498\n",
       "1700 MARKET STREET             2446\n",
       "Name: employer_address_1, dtype: int64"
      ]
     },
     "execution_count": 79,
     "metadata": {},
     "output_type": "execute_result"
    }
   ],
   "source": [
    "df2.employer_address_1.str.upper().value_counts()[:10]"
   ]
  },
  {
   "cell_type": "code",
   "execution_count": 80,
   "metadata": {},
   "outputs": [
    {
     "name": "stderr",
     "output_type": "stream",
     "text": [
      "C:\\Users\\Shefali\\Anaconda3\\lib\\site-packages\\pandas\\core\\generic.py:4405: SettingWithCopyWarning: \n",
      "A value is trying to be set on a copy of a slice from a DataFrame.\n",
      "Try using .loc[row_indexer,col_indexer] = value instead\n",
      "\n",
      "See the caveats in the documentation: http://pandas.pydata.org/pandas-docs/stable/indexing.html#indexing-view-versus-copy\n",
      "  self[name] = value\n"
     ]
    }
   ],
   "source": [
    "df2.employer_address_1 = df2.employer_address_1.str.upper()"
   ]
  },
  {
   "cell_type": "code",
   "execution_count": 81,
   "metadata": {},
   "outputs": [
    {
     "data": {
      "text/plain": [
       "28"
      ]
     },
     "execution_count": 81,
     "metadata": {},
     "output_type": "execute_result"
    }
   ],
   "source": [
    "df2.employer_address_1.isnull().sum()"
   ]
  },
  {
   "cell_type": "code",
   "execution_count": 82,
   "metadata": {},
   "outputs": [],
   "source": [
    "df2.employer_address_1 = df2.employer_address_1.fillna(df2.employer_address_1.mode()[0])"
   ]
  },
  {
   "cell_type": "code",
   "execution_count": 922,
   "metadata": {},
   "outputs": [
    {
     "data": {
      "text/plain": [
       "211 QUALITY CIRCLE                     11931\n",
       "ONE MICROSOFT WAY                       8123\n",
       "2200 MISSION COLLEGE BLVD.              6146\n",
       "1600 AMPHITHEATRE PARKWAY               5061\n",
       "440 TERRY AVE N                         3536\n",
       "170 WEST TASMAN DRIVE                   2592\n",
       "1 INFINITE LOOP                         2535\n",
       "500 ORACLE PARKWAY                      2523\n",
       "6100 TENNYSON PARKWAY                   2498\n",
       "1700 MARKET STREET                      2446\n",
       "5775 MOREHOUSE DRIVE                    2104\n",
       "1 HACKER WAY                            1579\n",
       "330 POTRERO AVENUE                      1466\n",
       "701 FIRST AVENUE                        1414\n",
       "200 PLAZA DRIVE                         1315\n",
       "2 TOWER CENTER BLVD.                    1061\n",
       "10 SOUTH DEARBORN STREET                1045\n",
       "100 N. TRYON STREET                     1045\n",
       "3039 CORNWALLIS ROAD                    1036\n",
       "3401 HILLVIEW AVENUE                     957\n",
       "5300 CALIFORNIA AVENUE                   932\n",
       "6400 SHAFER COURT                        866\n",
       "2065 HAMILTON AVE.                       866\n",
       "500 JACKSON STREET                       863\n",
       "731 LEXINGTON AVE.                       844\n",
       "9031 GARNERS FERRY RD                    813\n",
       "150 PRESIDENTIAL WAY                     790\n",
       "17890 BLANCO ROAD                        788\n",
       "6300 LEGACY DR., R1-C10                  785\n",
       "1001 EAST PALM AVENUE                    784\n",
       "                                       ...  \n",
       "1806 WEST LINCOLN AVENUE                   1\n",
       "15 SECOR ROAD                              1\n",
       "1547 NEW BRITAIN AVE                       1\n",
       "15-25 132ND STREET                         1\n",
       "11166 FAIRFAX BLVD. SUITE 201              1\n",
       "330 7TH AVENUE                             1\n",
       "3233 15TH ST S                             1\n",
       "104 S MICHIGAN AVE                         1\n",
       "3 DAVOL SQUARE, SUITE A300                 1\n",
       "927 DAVIS STREET                           1\n",
       "3800 SW CEDAR HILLS BLVD                   1\n",
       "D/B/A SMARTMED PRESCRIPTION CENTER         1\n",
       "121-A E. CHATHAM STREET                    1\n",
       "768 FRELINGHUYSEN AVE                      1\n",
       "2800 KELLY ROAD                            1\n",
       "3500 LAS VEGAS BLVD. S., SUITE #T30        1\n",
       "OF SANTA MONICA, 1338 20TH STREET          1\n",
       "8351 ELM AVE., SUITE 101                   1\n",
       "17190 ROYAL PALM BLVD                      1\n",
       "9825 OLD DECATUR ROAD                      1\n",
       "2229 VINSON LANE                           1\n",
       "3122 HAPPY HILL LANE                       1\n",
       "3000 SW 148TH AVE #250                     1\n",
       "5800 EAST SKELLY DRIVE                     1\n",
       "501 FIFTH AVE #2103                        1\n",
       "1375 BROADWAY, 6TH FL                      1\n",
       "102 LONGVIEW ST                            1\n",
       "6510 KENILWORTH AVENUE                     1\n",
       "1123 W. NOLANA                             1\n",
       "17808 ZERKER RD.                           1\n",
       "Name: employer_address_1, Length: 67297, dtype: int64"
      ]
     },
     "execution_count": 922,
     "metadata": {},
     "output_type": "execute_result"
    }
   ],
   "source": [
    "df2.employer_address_1.value_counts()"
   ]
  },
  {
   "cell_type": "raw",
   "metadata": {},
   "source": [
    "lst1 = []\n",
    "for v in df2['employer_address_1'].value_counts():\n",
    "    if v > 500:\n",
    "        lst1.append(v)\n",
    "len(lst1)"
   ]
  },
  {
   "cell_type": "raw",
   "metadata": {},
   "source": [
    "list(df2.employer_address_1.value_counts().index)[:50]"
   ]
  },
  {
   "cell_type": "raw",
   "metadata": {},
   "source": [
    "# Taking values which have count more than 1000\n",
    "\n",
    "df2 = df2.loc[df2.employer_address_1.isin(['211 QUALITY CIRCLE','ONE MICROSOFT WAY','2200 MISSION COLLEGE BLVD.','1600 AMPHITHEATRE PARKWAY',\n",
    "                                         '440 TERRY AVE N','170 WEST TASMAN DRIVE','6100 TENNYSON PARKWAY','500 ORACLE PARKWAY',\n",
    "                                         '1 INFINITE LOOP','1700 MARKET STREET','5775 MOREHOUSE DRIVE','330 POTRERO AVENUE','1 HACKER WAY',\n",
    "                                         '701 FIRST AVENUE','200 PLAZA DRIVE','2 TOWER CENTER BLVD.','100 N. TRYON STREET',\n",
    "                                     '10 SOUTH DEARBORN STREET','3039 CORNWALLIS ROAD','3401 HILLVIEW AVENUE','5300 CALIFORNIA AVENUE',\n",
    "                                     '6400 SHAFER COURT','2065 HAMILTON AVE.','500 JACKSON STREET','731 LEXINGTON AVE.',\n",
    "                                     '9031 GARNERS FERRY RD','150 PRESIDENTIAL WAY','17890 BLANCO ROAD','1001 EAST PALM AVENUE',\n",
    "                                     '2211 NORTH FIRST STREET','6300 LEGACY DR., R1-C10','ONE DELL WAY','2701 SAN TOMAS EXPRESSWAY',\n",
    "                                     '176 SOUTH ST','300 MADISON AVENUE','3333 HWY 117 N.','LANDMARK BUILDING @ ONE MARKET STREET',\n",
    "                                     '2029 STIERLIN COURT','702 SOUTHWEST 8TH ST.','100 SOMERSET CORPORATE BOULEVARD, SUITE 5000, 5TH FLOOR',\n",
    "                                     '3500 WEST BLVD','1680 CAPITAL ONE DRIVE','103 MORGAN LANE','3000 HANOVER STREET',\n",
    "                                     '8816 HIGHWAY 301 NORTH','2035 LINCOLN HIGHWAY','1095 AVENUE OF THE AMERICAS','385 PILCH ROAD',\n",
    "                                     '3333 US HIGHWAY 117 SOUTH','460 PARK AVENUE SOUTH'])]"
   ]
  },
  {
   "cell_type": "markdown",
   "metadata": {},
   "source": [
    "### #employer_city"
   ]
  },
  {
   "cell_type": "code",
   "execution_count": 83,
   "metadata": {},
   "outputs": [
    {
     "data": {
      "text/plain": [
       "3"
      ]
     },
     "execution_count": 83,
     "metadata": {},
     "output_type": "execute_result"
    }
   ],
   "source": [
    "df2.employer_city.isnull().sum()"
   ]
  },
  {
   "cell_type": "code",
   "execution_count": 84,
   "metadata": {},
   "outputs": [],
   "source": [
    "df2.employer_city = df2.employer_city.fillna(df2.employer_city.mode()[0])"
   ]
  },
  {
   "cell_type": "code",
   "execution_count": 85,
   "metadata": {},
   "outputs": [],
   "source": [
    "df2.employer_city = df2.employer_city.str.upper()"
   ]
  },
  {
   "cell_type": "raw",
   "metadata": {},
   "source": [
    "df2.employer_city.value_counts()"
   ]
  },
  {
   "cell_type": "raw",
   "metadata": {},
   "source": [
    "list(df2.employer_city.value_counts().index)"
   ]
  },
  {
   "cell_type": "raw",
   "metadata": {},
   "source": [
    "# Taking values which have count more than 500\n",
    "\n",
    "df2 = df2.loc[df2.employer_city.isin(['COLLEGE STATION','REDMOND','SANTA CLARA','MOUNTAIN VIEW','SAN JOSE','SEATTLE','PLANO','SUNNYVALE',\n",
    "                                'NEW YORK','REDWOOD SHORES','CUPERTINO','PHILADELPHIA','SAN DIEGO','PALO ALTO','MENLO PARK','ROSE HILL',\n",
    "                                'SECAUCUS','EAST BRUNSWICK','CHICAGO','CHARLOTTE','RTP','IRVINE','ROSEMONT','COLUMBUS','HOPKINS','WOBURN',\n",
    "                                'SAN ANTONIO','TAMPA','ROUND ROCK','HOPKINTON','SAN FRANCISCO','BENTONVILLE','BRIDGEWATER','MONTGOMERY',\n",
    "                                'MCLEAN','PLAINSBORO','CLAXTON','EDISON','TROUTMAN'])]"
   ]
  },
  {
   "cell_type": "markdown",
   "metadata": {},
   "source": [
    "### #employer_name"
   ]
  },
  {
   "cell_type": "code",
   "execution_count": 86,
   "metadata": {},
   "outputs": [
    {
     "data": {
      "text/plain": [
       "1"
      ]
     },
     "execution_count": 86,
     "metadata": {},
     "output_type": "execute_result"
    }
   ],
   "source": [
    "df2.employer_name.isnull().sum()"
   ]
  },
  {
   "cell_type": "code",
   "execution_count": 87,
   "metadata": {},
   "outputs": [],
   "source": [
    "df2.employer_name = df2.employer_name.str.upper()"
   ]
  },
  {
   "cell_type": "code",
   "execution_count": 88,
   "metadata": {},
   "outputs": [],
   "source": [
    "df2.employer_name = df2.employer_name.fillna(df2.employer_name.mode()[0])"
   ]
  },
  {
   "cell_type": "raw",
   "metadata": {},
   "source": [
    "list(df2.employer_name.value_counts().index)"
   ]
  },
  {
   "cell_type": "raw",
   "metadata": {},
   "source": [
    "# Taking values which have count more than 700\n",
    "\n",
    "df2 = df2.loc[df2.employer_name.isin(['COGNIZANT TECHNOLOGY SOLUTIONS US CORPORATION','MICROSOFT CORPORATION','INTEL CORPORATION','GOOGLE INC.',\n",
    "                                'AMAZON CORPORATE LLC','CISCO SYSTEMS, INC.','INFOSYS LTD.','ORACLE AMERICA, INC.','APPLE INC.',\n",
    "                                'QUALCOMM TECHNOLOGIES INC.','DELOITTE CONSULTING LLP','HCL AMERICA INC.','FACEBOOK, INC.','YAHOO! INC.',\n",
    "                                'ERNST & YOUNG U.S. LLP','WIPRO LIMITED','JP MORGAN CHASE & CO','IBM CORPORATION',\n",
    "                                'HOUSE OF RAEFORD FARMS, INC.','BROADCOM CORPORATION','CAPGEMINI FINANCIAL SERVICES USA INC.','EBAY INC.',\n",
    "                                'VMWARE, INC.','BLOOMBERG L.P.','DEFENDER SERVICES, INC.','RANDSTAD TECHNOLOGIES, LP','KFORCE INC.',\n",
    "                                'CUMMINS INC.','BANK OF AMERICA','ERICSSON INC.'])]"
   ]
  },
  {
   "cell_type": "markdown",
   "metadata": {},
   "source": [
    "### #employer_postal_code"
   ]
  },
  {
   "cell_type": "code",
   "execution_count": 89,
   "metadata": {},
   "outputs": [
    {
     "data": {
      "text/plain": [
       "17"
      ]
     },
     "execution_count": 89,
     "metadata": {},
     "output_type": "execute_result"
    }
   ],
   "source": [
    "df2.employer_postal_code.isnull().sum()"
   ]
  },
  {
   "cell_type": "code",
   "execution_count": 90,
   "metadata": {},
   "outputs": [],
   "source": [
    "del df2['employer_postal_code']"
   ]
  },
  {
   "cell_type": "markdown",
   "metadata": {},
   "source": [
    "### #employer_state"
   ]
  },
  {
   "cell_type": "code",
   "execution_count": 91,
   "metadata": {},
   "outputs": [
    {
     "data": {
      "text/plain": [
       "24"
      ]
     },
     "execution_count": 91,
     "metadata": {},
     "output_type": "execute_result"
    }
   ],
   "source": [
    "df2.employer_state.isnull().sum()"
   ]
  },
  {
   "cell_type": "code",
   "execution_count": 92,
   "metadata": {},
   "outputs": [
    {
     "name": "stderr",
     "output_type": "stream",
     "text": [
      "C:\\Users\\Shefali\\Anaconda3\\lib\\site-packages\\ipykernel_launcher.py:2: SettingWithCopyWarning: \n",
      "A value is trying to be set on a copy of a slice from a DataFrame.\n",
      "Try using .loc[row_indexer,col_indexer] = value instead\n",
      "\n",
      "See the caveats in the documentation: http://pandas.pydata.org/pandas-docs/stable/indexing.html#indexing-view-versus-copy\n",
      "  \n",
      "C:\\Users\\Shefali\\Anaconda3\\lib\\site-packages\\pandas\\core\\generic.py:5890: SettingWithCopyWarning: \n",
      "A value is trying to be set on a copy of a slice from a DataFrame\n",
      "\n",
      "See the caveats in the documentation: http://pandas.pydata.org/pandas-docs/stable/indexing.html#indexing-view-versus-copy\n",
      "  self._update_inplace(new_data)\n"
     ]
    }
   ],
   "source": [
    "#Filling missing values in \"employer_state\" column with mode\n",
    "df2['employer_state'] = df2['employer_state'].fillna(df2['employer_state'].mode()[0]);\n",
    "\n",
    "#Mapping from state name to abbreviation\n",
    "state_abbrevs = {\n",
    "    'Alabama': 'AL',\n",
    "    'Alaska': 'AK',\n",
    "    'Arizona': 'AZ',\n",
    "    'Arkansas': 'AR',\n",
    "    'California': 'CA',\n",
    "    'Colorado': 'CO',\n",
    "    'Connecticut': 'CT',\n",
    "    'Delaware': 'DE',\n",
    "    'Florida': 'FL',\n",
    "    'Georgia': 'GA',\n",
    "    'Hawaii': 'HI',\n",
    "    'Idaho': 'ID',\n",
    "    'Illinois': 'IL',\n",
    "    'Indiana': 'IN',\n",
    "    'Iowa': 'IA',\n",
    "    'Kansas': 'KS',\n",
    "    'Kentucky': 'KY',\n",
    "    'Louisiana': 'LA',\n",
    "    'Maine': 'ME',\n",
    "    'Maryland': 'MD',\n",
    "    'Massachusetts': 'MA',\n",
    "    'Michigan': 'MI',\n",
    "    'Minnesota': 'MN',\n",
    "    'Mississippi': 'MS',\n",
    "    'Missouri': 'MO',\n",
    "    'Montana': 'MT',\n",
    "    'Nebraska': 'NE',\n",
    "    'Nevada': 'NV',\n",
    "    'New Hampshire': 'NH',\n",
    "    'New Jersey': 'NJ',\n",
    "    'New Mexico': 'NM',\n",
    "    'New York': 'NY',\n",
    "    'North Carolina': 'NC',\n",
    "    'North Dakota': 'ND',\n",
    "    'Ohio': 'OH',\n",
    "    'Oklahoma': 'OK',\n",
    "    'Oregon': 'OR',\n",
    "    'Pennsylvania': 'PA',\n",
    "    'Rhode Island': 'RI',\n",
    "    'South Carolina': 'SC',\n",
    "    'South Dakota': 'SD',\n",
    "    'Tennessee': 'TN',\n",
    "    'Texas': 'TX',\n",
    "    'Utah': 'UT',\n",
    "    'Vermont': 'VT',\n",
    "    'Virginia': 'VA',\n",
    "    'Washington': 'WA',\n",
    "    'West Virginia': 'WV',\n",
    "    'Wisconsin': 'WI',\n",
    "    'Wyoming': 'WY',\n",
    "    'Northern Mariana Islands':'MP', \n",
    "    'Palau': 'PW', \n",
    "    'Puerto Rico': 'PR', \n",
    "    'Virgin Islands': 'VI', \n",
    "    'District of Columbia': 'DC'\n",
    "}\n",
    "\n",
    "#Capitalizing Keys\n",
    "us_state_abbrev = {k.upper(): v for k, v in state_abbrevs.items()}\n",
    "df2['employer_state'].replace(us_state_abbrev, inplace=True)\n",
    "df2.employer_state = df2.employer_state.astype(str)"
   ]
  },
  {
   "cell_type": "code",
   "execution_count": 93,
   "metadata": {},
   "outputs": [
    {
     "data": {
      "text/plain": [
       "0    NY\n",
       "1    NY\n",
       "2    VA\n",
       "3    NY\n",
       "4    NY\n",
       "Name: employer_state, dtype: object"
      ]
     },
     "execution_count": 93,
     "metadata": {},
     "output_type": "execute_result"
    }
   ],
   "source": [
    "df2['employer_state'].head()"
   ]
  },
  {
   "cell_type": "code",
   "execution_count": 95,
   "metadata": {},
   "outputs": [
    {
     "data": {
      "text/plain": [
       "CA    87707\n",
       "TX    42780\n",
       "NJ    28248\n",
       "NY    26422\n",
       "WA    16381\n",
       "IL    15247\n",
       "MA    12491\n",
       "MI    11424\n",
       "PA    11316\n",
       "VA    11183\n",
       "Name: employer_state, dtype: int64"
      ]
     },
     "execution_count": 95,
     "metadata": {},
     "output_type": "execute_result"
    }
   ],
   "source": [
    "df2.employer_state.value_counts()[:10]"
   ]
  },
  {
   "cell_type": "code",
   "execution_count": null,
   "metadata": {},
   "outputs": [],
   "source": []
  },
  {
   "cell_type": "markdown",
   "metadata": {},
   "source": [
    "### #job_info_work_city"
   ]
  },
  {
   "cell_type": "code",
   "execution_count": 96,
   "metadata": {},
   "outputs": [
    {
     "data": {
      "text/plain": [
       "28"
      ]
     },
     "execution_count": 96,
     "metadata": {},
     "output_type": "execute_result"
    }
   ],
   "source": [
    "df2.job_info_work_city.isnull().sum()"
   ]
  },
  {
   "cell_type": "code",
   "execution_count": 97,
   "metadata": {},
   "outputs": [
    {
     "data": {
      "text/plain": [
       "NEW YORK           17600\n",
       "COLLEGE STATION    10963\n",
       "SAN JOSE            8306\n",
       "REDMOND             7888\n",
       "HOUSTON             7591\n",
       "SAN FRANCISCO       7003\n",
       "MOUNTAIN VIEW       6548\n",
       "SANTA CLARA         5785\n",
       "SUNNYVALE           5266\n",
       "SEATTLE             5159\n",
       "Name: job_info_work_city, dtype: int64"
      ]
     },
     "execution_count": 97,
     "metadata": {},
     "output_type": "execute_result"
    }
   ],
   "source": [
    "df2.job_info_work_city.str.upper().value_counts()[:10]"
   ]
  },
  {
   "cell_type": "code",
   "execution_count": 98,
   "metadata": {},
   "outputs": [],
   "source": [
    "df2.job_info_work_city = df2.job_info_work_city.str.upper()"
   ]
  },
  {
   "cell_type": "code",
   "execution_count": 99,
   "metadata": {},
   "outputs": [],
   "source": [
    "df2.job_info_work_city = df2.job_info_work_city.fillna(df2.job_info_work_city.mode()[0])"
   ]
  },
  {
   "cell_type": "raw",
   "metadata": {},
   "source": [
    "df2.job_info_work_city.value_counts()"
   ]
  },
  {
   "cell_type": "raw",
   "metadata": {},
   "source": [
    "# Taking values which have count more than 600\n",
    "\n",
    "df2 = df2.loc[df2.job_info_work_city.isin(['COLLEGE STATION',\n",
    " 'REDMOND',\n",
    " 'MOUNTAIN VIEW',\n",
    " 'SEATTLE',\n",
    " 'SAN JOSE',\n",
    " 'PLANO',\n",
    " 'HILLSBORO',\n",
    " 'NEW YORK',\n",
    " 'CUPERTINO',\n",
    " 'SANTA CLARA',\n",
    " 'SUNNYVALE',\n",
    " 'SAN DIEGO',\n",
    " 'MENLO PARK',\n",
    " 'REDWOOD SHORES',\n",
    " 'FOLSOM',\n",
    " 'EAST BRUNSWICK',\n",
    " 'TEANECK',\n",
    " 'PALO ALTO',\n",
    " 'ROSEMONT',\n",
    " 'TAMPA',\n",
    " 'WOBURN',\n",
    " 'COLUMBUS',\n",
    " 'ROSE HILL',\n",
    " 'CHANDLER',\n",
    " 'JERSEY CITY',\n",
    " 'SOMERS'])]"
   ]
  },
  {
   "cell_type": "markdown",
   "metadata": {},
   "source": [
    "### #job_info_work_state"
   ]
  },
  {
   "cell_type": "code",
   "execution_count": 100,
   "metadata": {},
   "outputs": [
    {
     "data": {
      "text/plain": [
       "29"
      ]
     },
     "execution_count": 100,
     "metadata": {},
     "output_type": "execute_result"
    }
   ],
   "source": [
    "df2.job_info_work_state.isnull().sum()"
   ]
  },
  {
   "cell_type": "code",
   "execution_count": 101,
   "metadata": {},
   "outputs": [],
   "source": [
    "df2.job_info_work_state = df2.job_info_work_state.fillna(df2.job_info_work_state.mode()[0])"
   ]
  },
  {
   "cell_type": "code",
   "execution_count": 102,
   "metadata": {},
   "outputs": [],
   "source": [
    "df2['job_info_work_state'].replace(us_state_abbrev, inplace=True)\n",
    "df2.job_info_work_state = df2.job_info_work_state.astype(str)"
   ]
  },
  {
   "cell_type": "code",
   "execution_count": 103,
   "metadata": {},
   "outputs": [
    {
     "data": {
      "text/plain": [
       "0"
      ]
     },
     "execution_count": 103,
     "metadata": {},
     "output_type": "execute_result"
    }
   ],
   "source": [
    "df2.job_info_work_state.isnull().sum()"
   ]
  },
  {
   "cell_type": "code",
   "execution_count": 104,
   "metadata": {},
   "outputs": [
    {
     "data": {
      "text/plain": [
       "CA    81837\n",
       "TX    43748\n",
       "NJ    28440\n",
       "NY    27673\n",
       "WA    16423\n",
       "IL    14564\n",
       "MA    12091\n",
       "VA    11757\n",
       "FL    11464\n",
       "MI    11227\n",
       "Name: job_info_work_state, dtype: int64"
      ]
     },
     "execution_count": 104,
     "metadata": {},
     "output_type": "execute_result"
    }
   ],
   "source": [
    "df2.job_info_work_state.value_counts()[:10]"
   ]
  },
  {
   "cell_type": "raw",
   "metadata": {},
   "source": [
    "# Taking values which have count more than 500\n",
    "\n",
    "df2 = df2.loc[df2.job_info_work_state.isin([\"CA\", \"TX\", \"WA\", \"NY\", \"NJ\", \"OR\", \"IL\", \"FL\", \"MA\", \"NC\", \"AZ\", \"IN\"])]"
   ]
  },
  {
   "cell_type": "markdown",
   "metadata": {},
   "source": [
    "### #naics_code"
   ]
  },
  {
   "cell_type": "code",
   "execution_count": 105,
   "metadata": {},
   "outputs": [
    {
     "data": {
      "text/plain": [
       "0"
      ]
     },
     "execution_count": 105,
     "metadata": {},
     "output_type": "execute_result"
    }
   ],
   "source": [
    "df2.naics_code.isnull().sum()"
   ]
  },
  {
   "cell_type": "code",
   "execution_count": 106,
   "metadata": {},
   "outputs": [],
   "source": [
    "df2.naics_code = df2.naics_code.fillna(df2.naics_code.mode()[0])"
   ]
  },
  {
   "cell_type": "code",
   "execution_count": 107,
   "metadata": {},
   "outputs": [],
   "source": [
    "del df2['naics_code']"
   ]
  },
  {
   "cell_type": "markdown",
   "metadata": {},
   "source": [
    "### #naics_title"
   ]
  },
  {
   "cell_type": "code",
   "execution_count": 108,
   "metadata": {},
   "outputs": [
    {
     "data": {
      "text/plain": [
       "0"
      ]
     },
     "execution_count": 108,
     "metadata": {},
     "output_type": "execute_result"
    }
   ],
   "source": [
    "df2.naics_title.isnull().sum()"
   ]
  },
  {
   "cell_type": "code",
   "execution_count": 109,
   "metadata": {},
   "outputs": [],
   "source": [
    "df2.naics_title = df2.naics_title.fillna(df2.naics_title.mode()[0])"
   ]
  },
  {
   "cell_type": "code",
   "execution_count": 110,
   "metadata": {},
   "outputs": [],
   "source": [
    "df2.naics_title = df2.naics_title.str.upper()"
   ]
  },
  {
   "cell_type": "code",
   "execution_count": 112,
   "metadata": {},
   "outputs": [
    {
     "data": {
      "text/plain": [
       "CUSTOM COMPUTER PROGRAMMING SERVICES                          73922\n",
       "COMPUTER SYSTEMS DESIGN SERVICES                              29959\n",
       "SOFTWARE PUBLISHERS                                           15039\n",
       "COLLEGES, UNIVERSITIES, AND PROFESSIONAL SCHOOLS              12941\n",
       "COMPUTER SYSTEMS DESIGN AND RELATED SERVICES                   9884\n",
       "OTHER COMPUTER RELATED SERVICES                                9027\n",
       "SEMICONDUCTOR AND OTHER ELECTRONIC COMPONENT MANUFACTURING     8771\n",
       "ENGINEERING SERVICES                                           8368\n",
       "POULTRY PROCESSING                                             6031\n",
       "ELECTRONIC COMPUTER MANUFACTURING                              5849\n",
       "Name: naics_title, dtype: int64"
      ]
     },
     "execution_count": 112,
     "metadata": {},
     "output_type": "execute_result"
    }
   ],
   "source": [
    "df2.naics_title.value_counts()[:10]"
   ]
  },
  {
   "cell_type": "raw",
   "metadata": {},
   "source": [
    "## Taking values which have count more than 200\n",
    "\n",
    "df2 = df2.loc[df2.naics_title.isin(['COMPUTER SYSTEMS DESIGN SERVICES',\n",
    " 'SOFTWARE PUBLISHERS',\n",
    " 'CUSTOM COMPUTER PROGRAMMING SERVICES',\n",
    " 'SEMICONDUCTOR AND OTHER ELECTRONIC COMPONENT MANUFACTURING',\n",
    " 'ELECTRONIC COMPUTER MANUFACTURING',\n",
    " 'ELECTRONIC SHOPPING',\n",
    " 'WEB SEARCH PORTALS',\n",
    " 'RADIO AND TELEVISION BROADCASTING AND WIRELESS COMMUNICATIONS EQUIPMENT MANUFACTURING',\n",
    " 'OTHER COMPUTER PERIPHERAL EQUIPMENT MANUFACTURING',\n",
    " 'MANAGEMENT, SCIENTIFIC, AND TECHNICAL CONSULTING SERVICES',\n",
    " 'ALL OTHER INFORMATION SERVICES',\n",
    " 'ELECTRONIC AUCTIONS',\n",
    " 'COMPUTER SYSTEMS DESIGN AND RELATED SERVICES',\n",
    " 'POULTRY PROCESSING',\n",
    " 'OTHER COMPUTER RELATED SERVICES',\n",
    " 'OFFICES OF CERTIFIED PUBLIC ACCOUNTANTS',\n",
    " 'ENGINE, TURBINE, AND POWER TRANSMISSION EQUIPMENT MANUFACTURING',\n",
    " 'OFFICES OF OTHER HOLDING COMPANIES',\n",
    " 'SEMICONDUCTOR AND RELATED DEVICE MANUFACTURING',\n",
    " 'MANAGEMENT CONSULTING SERVICES'])]"
   ]
  },
  {
   "cell_type": "markdown",
   "metadata": {},
   "source": [
    "### #pw_job_title_9089"
   ]
  },
  {
   "cell_type": "code",
   "execution_count": 113,
   "metadata": {},
   "outputs": [
    {
     "data": {
      "text/plain": [
       "0"
      ]
     },
     "execution_count": 113,
     "metadata": {},
     "output_type": "execute_result"
    }
   ],
   "source": [
    "df2.pw_job_title_9089.isnull().sum()"
   ]
  },
  {
   "cell_type": "code",
   "execution_count": 114,
   "metadata": {},
   "outputs": [],
   "source": [
    "del df2['pw_job_title_9089']"
   ]
  },
  {
   "cell_type": "markdown",
   "metadata": {},
   "source": [
    "### #pw_level_9089"
   ]
  },
  {
   "cell_type": "code",
   "execution_count": 116,
   "metadata": {},
   "outputs": [],
   "source": [
    "#df2.pw_level_9089.isnull().sum()"
   ]
  },
  {
   "cell_type": "code",
   "execution_count": 957,
   "metadata": {},
   "outputs": [
    {
     "data": {
      "text/plain": [
       "Level II     114192\n",
       "Level IV      92501\n",
       "Level III     61681\n",
       "Level I       61209\n",
       "Name: pw_level_9089, dtype: int64"
      ]
     },
     "execution_count": 957,
     "metadata": {},
     "output_type": "execute_result"
    }
   ],
   "source": [
    "df2.pw_level_9089.value_counts()"
   ]
  },
  {
   "cell_type": "code",
   "execution_count": 958,
   "metadata": {},
   "outputs": [],
   "source": [
    "df2.pw_level_9089 = df2.pw_level_9089.fillna(df2.pw_level_9089.mode()[0])"
   ]
  },
  {
   "cell_type": "markdown",
   "metadata": {},
   "source": [
    "### #pw_soc_code"
   ]
  },
  {
   "cell_type": "code",
   "execution_count": 117,
   "metadata": {},
   "outputs": [
    {
     "data": {
      "text/plain": [
       "78"
      ]
     },
     "execution_count": 117,
     "metadata": {},
     "output_type": "execute_result"
    }
   ],
   "source": [
    "df2.pw_soc_code.isnull().sum()"
   ]
  },
  {
   "cell_type": "code",
   "execution_count": 118,
   "metadata": {},
   "outputs": [
    {
     "name": "stderr",
     "output_type": "stream",
     "text": [
      "C:\\Users\\Shefali\\Anaconda3\\lib\\site-packages\\ipykernel_launcher.py:1: SettingWithCopyWarning: \n",
      "A value is trying to be set on a copy of a slice from a DataFrame.\n",
      "Try using .loc[row_indexer,col_indexer] = value instead\n",
      "\n",
      "See the caveats in the documentation: http://pandas.pydata.org/pandas-docs/stable/indexing.html#indexing-view-versus-copy\n",
      "  \"\"\"Entry point for launching an IPython kernel.\n",
      "C:\\Users\\Shefali\\Anaconda3\\lib\\site-packages\\ipykernel_launcher.py:2: SettingWithCopyWarning: \n",
      "A value is trying to be set on a copy of a slice from a DataFrame.\n",
      "Try using .loc[row_indexer,col_indexer] = value instead\n",
      "\n",
      "See the caveats in the documentation: http://pandas.pydata.org/pandas-docs/stable/indexing.html#indexing-view-versus-copy\n",
      "  \n",
      "C:\\Users\\Shefali\\Anaconda3\\lib\\site-packages\\ipykernel_launcher.py:3: SettingWithCopyWarning: \n",
      "A value is trying to be set on a copy of a slice from a DataFrame.\n",
      "Try using .loc[row_indexer,col_indexer] = value instead\n",
      "\n",
      "See the caveats in the documentation: http://pandas.pydata.org/pandas-docs/stable/indexing.html#indexing-view-versus-copy\n",
      "  This is separate from the ipykernel package so we can avoid doing imports until\n"
     ]
    }
   ],
   "source": [
    "df2['pw_soc_code'] = df2['pw_soc_code'].str.replace('.','')\n",
    "df2['pw_soc_code'] = df2['pw_soc_code'].str.replace('-','')\n",
    "df2['pw_soc_code'] = df2['pw_soc_code'].astype(str).str[0:6]"
   ]
  },
  {
   "cell_type": "code",
   "execution_count": 119,
   "metadata": {},
   "outputs": [],
   "source": [
    "del df2['pw_soc_code']"
   ]
  },
  {
   "cell_type": "raw",
   "metadata": {},
   "source": [
    "#Finding \"nan\" values in \"pw_soc_code\" column and filling them with mode\n",
    "df2.loc[df2['pw_soc_code'] == \"nan\",'pw_soc_code'] = df2['pw_soc_code'].mode()[0]"
   ]
  },
  {
   "cell_type": "raw",
   "metadata": {},
   "source": [
    "#Finding \"None\" values in \"pw_soc_code\" column and filling them with mode\n",
    "df2.loc[df2['pw_soc_code'] == \"None\",'pw_soc_code'] = df2['pw_soc_code'].mode()[0]"
   ]
  },
  {
   "cell_type": "raw",
   "metadata": {},
   "source": [
    "#Changing type from string to int\n",
    "df2['pw_soc_code'] = df2['pw_soc_code'].astype(object)"
   ]
  },
  {
   "cell_type": "raw",
   "metadata": {},
   "source": [
    "df2['pw_soc_code'].isnull().sum()"
   ]
  },
  {
   "cell_type": "raw",
   "metadata": {},
   "source": [
    "df2['pw_soc_code'].value_counts()"
   ]
  },
  {
   "cell_type": "raw",
   "metadata": {},
   "source": [
    "del df2['pw_soc_code']"
   ]
  },
  {
   "cell_type": "markdown",
   "metadata": {},
   "source": [
    "### #pw_soc_title"
   ]
  },
  {
   "cell_type": "code",
   "execution_count": 120,
   "metadata": {},
   "outputs": [
    {
     "data": {
      "text/plain": [
       "121"
      ]
     },
     "execution_count": 120,
     "metadata": {},
     "output_type": "execute_result"
    }
   ],
   "source": [
    "df2.pw_soc_title.isnull().sum()"
   ]
  },
  {
   "cell_type": "code",
   "execution_count": 121,
   "metadata": {},
   "outputs": [
    {
     "data": {
      "text/plain": [
       "Software Developers, Applications               109993\n",
       "Computer Systems Analysts                        35119\n",
       "Software Developers, Systems Software            20397\n",
       "Electronics Engineers, Except Computer           12466\n",
       "Computer and Information Systems Managers         9152\n",
       "Accountants and Auditors                          5758\n",
       "Computer Software Engineers, Applications         5749\n",
       "Network and Computer Systems Administrators*      5682\n",
       "Mechanical Engineers                              4993\n",
       "Meat, Poultry, and Fish Cutters and Trimmers      4650\n",
       "Name: pw_soc_title, dtype: int64"
      ]
     },
     "execution_count": 121,
     "metadata": {},
     "output_type": "execute_result"
    }
   ],
   "source": [
    "df2.pw_soc_title.value_counts()[:10]"
   ]
  },
  {
   "cell_type": "raw",
   "metadata": {},
   "source": [
    "df2.pw_soc_title = df2.pw_soc_title.str.upper()"
   ]
  },
  {
   "cell_type": "raw",
   "metadata": {},
   "source": [
    "df2.pw_soc_title = df2.pw_soc_title.fillna(df2.pw_soc_title.mode()[0])"
   ]
  },
  {
   "cell_type": "code",
   "execution_count": 122,
   "metadata": {},
   "outputs": [],
   "source": [
    "del df2['pw_soc_title']"
   ]
  },
  {
   "cell_type": "markdown",
   "metadata": {},
   "source": [
    "### #pw_source_name_9089"
   ]
  },
  {
   "cell_type": "code",
   "execution_count": 123,
   "metadata": {},
   "outputs": [
    {
     "data": {
      "text/plain": [
       "27"
      ]
     },
     "execution_count": 123,
     "metadata": {},
     "output_type": "execute_result"
    }
   ],
   "source": [
    "df2.pw_source_name_9089.isnull().sum()"
   ]
  },
  {
   "cell_type": "code",
   "execution_count": 124,
   "metadata": {},
   "outputs": [],
   "source": [
    "df2.pw_source_name_9089 = df2.pw_source_name_9089.fillna(df2.pw_source_name_9089.mode()[0])"
   ]
  },
  {
   "cell_type": "code",
   "execution_count": 125,
   "metadata": {},
   "outputs": [
    {
     "data": {
      "text/plain": [
       "OES                   322897\n",
       "Other                  24456\n",
       "CBA                     3636\n",
       "Employer Conducted       449\n",
       "SCA                       67\n",
       "DBA                       21\n",
       "Name: pw_source_name_9089, dtype: int64"
      ]
     },
     "execution_count": 125,
     "metadata": {},
     "output_type": "execute_result"
    }
   ],
   "source": [
    "df2.pw_source_name_9089.value_counts()"
   ]
  },
  {
   "cell_type": "raw",
   "metadata": {},
   "source": [
    "df2 = df2.loc[df2.pw_source_name_9089 != 'CBA']"
   ]
  },
  {
   "cell_type": "markdown",
   "metadata": {},
   "source": [
    "### #pw_unit_of_pay_9089"
   ]
  },
  {
   "cell_type": "code",
   "execution_count": 126,
   "metadata": {},
   "outputs": [
    {
     "data": {
      "text/plain": [
       "1045"
      ]
     },
     "execution_count": 126,
     "metadata": {},
     "output_type": "execute_result"
    }
   ],
   "source": [
    "df2.pw_unit_of_pay_9089.isnull().sum()"
   ]
  },
  {
   "cell_type": "code",
   "execution_count": 127,
   "metadata": {},
   "outputs": [
    {
     "data": {
      "text/plain": [
       "Year    350481\n",
       "Name: pw_unit_of_pay_9089, dtype: int64"
      ]
     },
     "execution_count": 127,
     "metadata": {},
     "output_type": "execute_result"
    }
   ],
   "source": [
    "df2.pw_unit_of_pay_9089.value_counts()"
   ]
  },
  {
   "cell_type": "code",
   "execution_count": 128,
   "metadata": {},
   "outputs": [],
   "source": [
    "del df2['pw_unit_of_pay_9089']"
   ]
  },
  {
   "cell_type": "markdown",
   "metadata": {},
   "source": [
    "### #wage_offered_unit_of_pay_9089"
   ]
  },
  {
   "cell_type": "code",
   "execution_count": 130,
   "metadata": {},
   "outputs": [],
   "source": [
    "#df2.wage_offered_unit_of_pay_9089.isnull().sum()"
   ]
  },
  {
   "cell_type": "code",
   "execution_count": 132,
   "metadata": {},
   "outputs": [],
   "source": [
    "#df2.wage_offered_unit_of_pay_9089.value_counts()"
   ]
  },
  {
   "cell_type": "code",
   "execution_count": 975,
   "metadata": {},
   "outputs": [
    {
     "name": "stderr",
     "output_type": "stream",
     "text": [
      "C:\\Users\\Shefali\\Anaconda3\\lib\\site-packages\\pandas\\core\\indexing.py:543: SettingWithCopyWarning: \n",
      "A value is trying to be set on a copy of a slice from a DataFrame.\n",
      "Try using .loc[row_indexer,col_indexer] = value instead\n",
      "\n",
      "See the caveats in the documentation: http://pandas.pydata.org/pandas-docs/stable/indexing.html#indexing-view-versus-copy\n",
      "  self.obj[item] = s\n"
     ]
    }
   ],
   "source": [
    "for unit in df2.wage_offered_unit_of_pay_9089.unique():\n",
    "    if unit == \"hr\":\n",
    "        df2.loc[df2['wage_offered_unit_of_pay_9089'] == unit, 'wage_offered_unit_of_pay_9089'] = \"Hour\" \n",
    "    elif unit == \"wk\":\n",
    "        df2.loc[df2['wage_offered_unit_of_pay_9089'] == unit, 'wage_offered_unit_of_pay_9089'] = \"Week\"\n",
    "    elif unit == \"mth\":\n",
    "        df2.loc[df2['wage_offered_unit_of_pay_9089'] == unit, 'wage_offered_unit_of_pay_9089'] = \"Month\"\n",
    "    elif unit == \"bi\":  \n",
    "        df2.loc[df2['wage_offered_unit_of_pay_9089'] == unit, 'wage_offered_unit_of_pay_9089'] = \"Bi-Weekly\"\n",
    "    elif unit == \"yr\":\n",
    "        df2.loc[df2['wage_offered_unit_of_pay_9089'] == unit, 'wage_offered_unit_of_pay_9089'] = \"Year\"\n",
    "    else:\n",
    "        continue"
   ]
  },
  {
   "cell_type": "code",
   "execution_count": 976,
   "metadata": {},
   "outputs": [],
   "source": [
    "df2.wage_offered_unit_of_pay_9089 = df2.wage_offered_unit_of_pay_9089.fillna(df2.wage_offered_unit_of_pay_9089.mode()[0])"
   ]
  },
  {
   "cell_type": "code",
   "execution_count": 977,
   "metadata": {},
   "outputs": [
    {
     "data": {
      "text/plain": [
       "Year         347193\n",
       "Hour           8591\n",
       "Week            218\n",
       "Month           138\n",
       "Bi-Weekly        28\n",
       "Name: wage_offered_unit_of_pay_9089, dtype: int64"
      ]
     },
     "execution_count": 977,
     "metadata": {},
     "output_type": "execute_result"
    }
   ],
   "source": [
    "df2.wage_offered_unit_of_pay_9089.value_counts()"
   ]
  },
  {
   "cell_type": "markdown",
   "metadata": {},
   "source": [
    "### #remuneration"
   ]
  },
  {
   "cell_type": "code",
   "execution_count": 133,
   "metadata": {},
   "outputs": [
    {
     "data": {
      "text/plain": [
       "1"
      ]
     },
     "execution_count": 133,
     "metadata": {},
     "output_type": "execute_result"
    }
   ],
   "source": [
    "df2.remuneration.isnull().sum()"
   ]
  },
  {
   "cell_type": "code",
   "execution_count": 134,
   "metadata": {},
   "outputs": [],
   "source": [
    "df2.remuneration = df2.remuneration.fillna(df2.remuneration.mode()[0])"
   ]
  },
  {
   "cell_type": "code",
   "execution_count": 135,
   "metadata": {},
   "outputs": [
    {
     "name": "stdout",
     "output_type": "stream",
     "text": [
      "<class 'pandas.core.frame.DataFrame'>\n",
      "Int64Index: 351526 entries, 0 to 374353\n",
      "Data columns (total 18 columns):\n",
      "case_number               351526 non-null object\n",
      "case_status               351526 non-null object\n",
      "class_of_admission        351526 non-null object\n",
      "country_of_citizenship    351526 non-null object\n",
      "employer_address_1        351526 non-null object\n",
      "employer_city             351526 non-null object\n",
      "employer_name             351526 non-null object\n",
      "employer_state            351526 non-null object\n",
      "job_info_work_city        351526 non-null object\n",
      "job_info_work_state       351526 non-null object\n",
      "naics_title               351526 non-null object\n",
      "pw_amount_9089            351526 non-null float64\n",
      "pw_source_name_9089       351526 non-null object\n",
      "remuneration              351526 non-null category\n",
      "decision_day              351526 non-null object\n",
      "decision_month            351526 non-null object\n",
      "decision_year             351526 non-null object\n",
      "decision_dayofweek        351526 non-null object\n",
      "dtypes: category(1), float64(1), object(16)\n",
      "memory usage: 58.6+ MB\n"
     ]
    }
   ],
   "source": [
    "##############################################################################################################################################\n",
    "\n",
    "df2.info()"
   ]
  },
  {
   "cell_type": "markdown",
   "metadata": {},
   "source": [
    "## Data type conversion"
   ]
  },
  {
   "cell_type": "code",
   "execution_count": 136,
   "metadata": {},
   "outputs": [],
   "source": [
    "df3 = df2.copy()"
   ]
  },
  {
   "cell_type": "code",
   "execution_count": 137,
   "metadata": {},
   "outputs": [
    {
     "name": "stdout",
     "output_type": "stream",
     "text": [
      "<class 'pandas.core.frame.DataFrame'>\n",
      "Int64Index: 351526 entries, 0 to 374353\n",
      "Data columns (total 18 columns):\n",
      "case_number               351526 non-null int32\n",
      "case_status               351526 non-null int32\n",
      "class_of_admission        351526 non-null int32\n",
      "country_of_citizenship    351526 non-null int32\n",
      "employer_address_1        351526 non-null int32\n",
      "employer_city             351526 non-null int32\n",
      "employer_name             351526 non-null int32\n",
      "employer_state            351526 non-null int32\n",
      "job_info_work_city        351526 non-null int32\n",
      "job_info_work_state       351526 non-null int32\n",
      "naics_title               351526 non-null int32\n",
      "pw_amount_9089            351526 non-null int64\n",
      "pw_source_name_9089       351526 non-null int32\n",
      "remuneration              351526 non-null int32\n",
      "decision_day              351526 non-null int32\n",
      "decision_month            351526 non-null int32\n",
      "decision_year             351526 non-null int32\n",
      "decision_dayofweek        351526 non-null int32\n",
      "dtypes: int32(17), int64(1)\n",
      "memory usage: 28.2 MB\n"
     ]
    }
   ],
   "source": [
    "from sklearn.preprocessing import LabelEncoder\n",
    "categorical_variables = {}\n",
    "\n",
    "#Creating categories denoted by integers from column values\n",
    "for col in df3.columns:\n",
    "    cat_var_name = \"cat_\"+ col\n",
    "    cat_var_name = LabelEncoder()\n",
    "    cat_var_name.fit(df3[col])\n",
    "    df3[col] = cat_var_name.transform(df3[col])\n",
    "    categorical_variables[col] = cat_var_name\n",
    "\n",
    "df3.info()"
   ]
  },
  {
   "cell_type": "markdown",
   "metadata": {},
   "source": [
    "## Applying Tree-based models"
   ]
  },
  {
   "cell_type": "code",
   "execution_count": 138,
   "metadata": {},
   "outputs": [
    {
     "name": "stdout",
     "output_type": "stream",
     "text": [
      "The shape of X is: (351526, 17)\n",
      "The shape of y is: (351526,)\n"
     ]
    }
   ],
   "source": [
    "#Dividing our final dataset into features(explanatory variables) and labels(target variable)\n",
    "X = df3.loc[:, df3.columns != 'case_status']\n",
    "y = df3.case_status\n",
    "\n",
    "print(\"The shape of X is: {}\".format(X.shape))\n",
    "print(\"The shape of y is: {}\".format(y.shape))"
   ]
  },
  {
   "cell_type": "code",
   "execution_count": 139,
   "metadata": {},
   "outputs": [
    {
     "name": "stdout",
     "output_type": "stream",
     "text": [
      "(246068, 17) (246068,)\n",
      "(105458, 17) (105458,)\n"
     ]
    }
   ],
   "source": [
    "X_train, X_test, y_train, y_test = model_selection.train_test_split(X, y, test_size=0.3)\n",
    "print (X_train.shape, y_train.shape)\n",
    "print (X_test.shape, y_test.shape)"
   ]
  },
  {
   "cell_type": "markdown",
   "metadata": {},
   "source": [
    "### Random Forest"
   ]
  },
  {
   "cell_type": "code",
   "execution_count": 275,
   "metadata": {},
   "outputs": [
    {
     "data": {
      "text/plain": [
       "RandomForestClassifier(bootstrap=True, class_weight=None, criterion='gini',\n",
       "            max_depth=None, max_features='auto', max_leaf_nodes=None,\n",
       "            min_impurity_decrease=0.0, min_impurity_split=None,\n",
       "            min_samples_leaf=1, min_samples_split=2,\n",
       "            min_weight_fraction_leaf=0.0, n_estimators=100, n_jobs=None,\n",
       "            oob_score=False, random_state=None, verbose=0,\n",
       "            warm_start=False)"
      ]
     },
     "execution_count": 275,
     "metadata": {},
     "output_type": "execute_result"
    }
   ],
   "source": [
    "from sklearn.ensemble import RandomForestClassifier\n",
    "\n",
    "rf = RandomForestClassifier(n_estimators=100)\n",
    "\n",
    "rf.fit(X_train, y_train)"
   ]
  },
  {
   "cell_type": "code",
   "execution_count": 277,
   "metadata": {},
   "outputs": [],
   "source": [
    "y_pred = rf.predict(X_test)"
   ]
  },
  {
   "cell_type": "code",
   "execution_count": 278,
   "metadata": {},
   "outputs": [],
   "source": [
    "train_pred = rf.predict(X_train)"
   ]
  },
  {
   "cell_type": "code",
   "execution_count": 279,
   "metadata": {},
   "outputs": [
    {
     "data": {
      "text/html": [
       "<div>\n",
       "<style scoped>\n",
       "    .dataframe tbody tr th:only-of-type {\n",
       "        vertical-align: middle;\n",
       "    }\n",
       "\n",
       "    .dataframe tbody tr th {\n",
       "        vertical-align: top;\n",
       "    }\n",
       "\n",
       "    .dataframe thead th {\n",
       "        text-align: right;\n",
       "    }\n",
       "</style>\n",
       "<table border=\"1\" class=\"dataframe\">\n",
       "  <thead>\n",
       "    <tr style=\"text-align: right;\">\n",
       "      <th>Predicted Result</th>\n",
       "      <th>0</th>\n",
       "      <th>1</th>\n",
       "    </tr>\n",
       "    <tr>\n",
       "      <th>Actual Result</th>\n",
       "      <th></th>\n",
       "      <th></th>\n",
       "    </tr>\n",
       "  </thead>\n",
       "  <tbody>\n",
       "    <tr>\n",
       "      <th>0</th>\n",
       "      <td>98249</td>\n",
       "      <td>355</td>\n",
       "    </tr>\n",
       "    <tr>\n",
       "      <th>1</th>\n",
       "      <td>4572</td>\n",
       "      <td>2282</td>\n",
       "    </tr>\n",
       "  </tbody>\n",
       "</table>\n",
       "</div>"
      ],
      "text/plain": [
       "Predicted Result      0     1\n",
       "Actual Result                \n",
       "0                 98249   355\n",
       "1                  4572  2282"
      ]
     },
     "execution_count": 279,
     "metadata": {},
     "output_type": "execute_result"
    }
   ],
   "source": [
    "pd.crosstab(y_test, y_pred, rownames=['Actual Result'], colnames=['Predicted Result'])"
   ]
  },
  {
   "cell_type": "code",
   "execution_count": 280,
   "metadata": {},
   "outputs": [
    {
     "data": {
      "text/plain": [
       "0.9532799787593165"
      ]
     },
     "execution_count": 280,
     "metadata": {},
     "output_type": "execute_result"
    }
   ],
   "source": [
    "from sklearn.metrics import precision_score, recall_score, f1_score, confusion_matrix, accuracy_score\n",
    "\n",
    "accuracy_score(y_test, y_pred)"
   ]
  },
  {
   "cell_type": "code",
   "execution_count": 281,
   "metadata": {},
   "outputs": [
    {
     "data": {
      "text/plain": [
       "0.9999878082481265"
      ]
     },
     "execution_count": 281,
     "metadata": {},
     "output_type": "execute_result"
    }
   ],
   "source": [
    "accuracy_score(y_train, train_pred)"
   ]
  },
  {
   "cell_type": "code",
   "execution_count": 282,
   "metadata": {},
   "outputs": [
    {
     "data": {
      "text/plain": [
       "array([[98249,   355],\n",
       "       [ 4572,  2282]], dtype=int64)"
      ]
     },
     "execution_count": 282,
     "metadata": {},
     "output_type": "execute_result"
    }
   ],
   "source": [
    "confusion_matrix(y_test, y_pred)"
   ]
  },
  {
   "cell_type": "code",
   "execution_count": 283,
   "metadata": {},
   "outputs": [
    {
     "data": {
      "text/plain": [
       "0.3329442661219726"
      ]
     },
     "execution_count": 283,
     "metadata": {},
     "output_type": "execute_result"
    }
   ],
   "source": [
    "recall_score(y_test, y_pred)"
   ]
  },
  {
   "cell_type": "code",
   "execution_count": 284,
   "metadata": {},
   "outputs": [
    {
     "data": {
      "text/plain": [
       "0.9998149176383491"
      ]
     },
     "execution_count": 284,
     "metadata": {},
     "output_type": "execute_result"
    }
   ],
   "source": [
    "recall_score(y_train, train_pred)"
   ]
  },
  {
   "cell_type": "code",
   "execution_count": 285,
   "metadata": {},
   "outputs": [
    {
     "name": "stdout",
     "output_type": "stream",
     "text": [
      "Random Forest Classifier:  0.9532799787593165\n",
      "Roc/auc:  0.6646720032488083\n"
     ]
    }
   ],
   "source": [
    "print(\"Random Forest Classifier: \",accuracy_score(y_test, y_pred))\n",
    "fpr, tpr, thresholds = roc_curve(y_test, y_pred, pos_label=1)\n",
    "print(\"Roc/auc: \",roc_auc_score(y_test, y_pred))"
   ]
  },
  {
   "cell_type": "code",
   "execution_count": 293,
   "metadata": {},
   "outputs": [
    {
     "data": {
      "image/png": "[encoded data removed]",
      "text/plain": [
       "<Figure size 432x288 with 1 Axes>"
      ]
     },
     "metadata": {
      "needs_background": "light"
     },
     "output_type": "display_data"
    }
   ],
   "source": [
    "# Plotting the roc curve\n",
    "\n",
    "plt.title('Receiver Operating Characteristic for Random Forest Classifier')\n",
    "plt.plot(fpr, tpr, 'b', label = 'AUC = %0.2f' % roc_auc_score(y_test, y_pred))\n",
    "plt.legend(loc = 'lower right')\n",
    "plt.plot([0, 1], [0, 1],'r--')\n",
    "plt.xlim([0, 1])\n",
    "plt.ylim([0, 1])\n",
    "plt.ylabel('True Positive Rate')\n",
    "plt.xlabel('False Positive Rate')\n",
    "plt.show()"
   ]
  },
  {
   "cell_type": "markdown",
   "metadata": {},
   "source": [
    "### Applying SMOTE"
   ]
  },
  {
   "cell_type": "code",
   "execution_count": 294,
   "metadata": {},
   "outputs": [
    {
     "data": {
      "text/plain": [
       "0    229859\n",
       "1     16209\n",
       "Name: case_status, dtype: int64"
      ]
     },
     "execution_count": 294,
     "metadata": {},
     "output_type": "execute_result"
    }
   ],
   "source": [
    "from imblearn.over_sampling import SMOTE\n",
    "\n",
    "y_train.value_counts()"
   ]
  },
  {
   "cell_type": "raw",
   "metadata": {},
   "source": [
    "help(SMOTE())"
   ]
  },
  {
   "cell_type": "code",
   "execution_count": 295,
   "metadata": {},
   "outputs": [],
   "source": [
    "smt = SMOTE()\n",
    "X_train_smt, y_train_smt = smt.fit_sample(X_train, y_train)"
   ]
  },
  {
   "cell_type": "code",
   "execution_count": 296,
   "metadata": {},
   "outputs": [
    {
     "data": {
      "text/plain": [
       "array([229859, 229859], dtype=int64)"
      ]
     },
     "execution_count": 296,
     "metadata": {},
     "output_type": "execute_result"
    }
   ],
   "source": [
    "np.bincount(y_train_smt)"
   ]
  },
  {
   "cell_type": "code",
   "execution_count": 297,
   "metadata": {},
   "outputs": [
    {
     "data": {
      "text/plain": [
       "RandomForestClassifier(bootstrap=True, class_weight=None, criterion='gini',\n",
       "            max_depth=None, max_features='auto', max_leaf_nodes=None,\n",
       "            min_impurity_decrease=0.0, min_impurity_split=None,\n",
       "            min_samples_leaf=1, min_samples_split=2,\n",
       "            min_weight_fraction_leaf=0.0, n_estimators=100, n_jobs=None,\n",
       "            oob_score=False, random_state=None, verbose=0,\n",
       "            warm_start=False)"
      ]
     },
     "execution_count": 297,
     "metadata": {},
     "output_type": "execute_result"
    }
   ],
   "source": [
    "rf.fit(X_train_smt, y_train_smt)"
   ]
  },
  {
   "cell_type": "code",
   "execution_count": 298,
   "metadata": {},
   "outputs": [],
   "source": [
    "y_pred = rf.predict(X_test)"
   ]
  },
  {
   "cell_type": "code",
   "execution_count": 299,
   "metadata": {},
   "outputs": [],
   "source": [
    "train_pred = rf.predict(X_train)"
   ]
  },
  {
   "cell_type": "code",
   "execution_count": 300,
   "metadata": {},
   "outputs": [
    {
     "data": {
      "text/html": [
       "<div>\n",
       "<style scoped>\n",
       "    .dataframe tbody tr th:only-of-type {\n",
       "        vertical-align: middle;\n",
       "    }\n",
       "\n",
       "    .dataframe tbody tr th {\n",
       "        vertical-align: top;\n",
       "    }\n",
       "\n",
       "    .dataframe thead th {\n",
       "        text-align: right;\n",
       "    }\n",
       "</style>\n",
       "<table border=\"1\" class=\"dataframe\">\n",
       "  <thead>\n",
       "    <tr style=\"text-align: right;\">\n",
       "      <th>Predicted Result</th>\n",
       "      <th>0</th>\n",
       "      <th>1</th>\n",
       "    </tr>\n",
       "    <tr>\n",
       "      <th>Actual Result</th>\n",
       "      <th></th>\n",
       "      <th></th>\n",
       "    </tr>\n",
       "  </thead>\n",
       "  <tbody>\n",
       "    <tr>\n",
       "      <th>0</th>\n",
       "      <td>95437</td>\n",
       "      <td>3167</td>\n",
       "    </tr>\n",
       "    <tr>\n",
       "      <th>1</th>\n",
       "      <td>3778</td>\n",
       "      <td>3076</td>\n",
       "    </tr>\n",
       "  </tbody>\n",
       "</table>\n",
       "</div>"
      ],
      "text/plain": [
       "Predicted Result      0     1\n",
       "Actual Result                \n",
       "0                 95437  3167\n",
       "1                  3778  3076"
      ]
     },
     "execution_count": 300,
     "metadata": {},
     "output_type": "execute_result"
    }
   ],
   "source": [
    "pd.crosstab(y_test, y_pred, rownames=['Actual Result'], colnames=['Predicted Result'])"
   ]
  },
  {
   "cell_type": "code",
   "execution_count": 301,
   "metadata": {},
   "outputs": [
    {
     "data": {
      "text/plain": [
       "0.9341443987179731"
      ]
     },
     "execution_count": 301,
     "metadata": {},
     "output_type": "execute_result"
    }
   ],
   "source": [
    "from sklearn.metrics import precision_score, recall_score, f1_score, confusion_matrix, accuracy_score\n",
    "\n",
    "accuracy_score(y_test, y_pred)"
   ]
  },
  {
   "cell_type": "code",
   "execution_count": 302,
   "metadata": {},
   "outputs": [
    {
     "data": {
      "text/plain": [
       "0.9999918721654177"
      ]
     },
     "execution_count": 302,
     "metadata": {},
     "output_type": "execute_result"
    }
   ],
   "source": [
    "accuracy_score(y_train, train_pred)"
   ]
  },
  {
   "cell_type": "code",
   "execution_count": 303,
   "metadata": {},
   "outputs": [
    {
     "data": {
      "text/plain": [
       "array([[95437,  3167],\n",
       "       [ 3778,  3076]], dtype=int64)"
      ]
     },
     "execution_count": 303,
     "metadata": {},
     "output_type": "execute_result"
    }
   ],
   "source": [
    "confusion_matrix(y_test, y_pred)"
   ]
  },
  {
   "cell_type": "code",
   "execution_count": 304,
   "metadata": {},
   "outputs": [
    {
     "data": {
      "text/plain": [
       "0.4487890283046396"
      ]
     },
     "execution_count": 304,
     "metadata": {},
     "output_type": "execute_result"
    }
   ],
   "source": [
    "recall_score(y_test, y_pred)"
   ]
  },
  {
   "cell_type": "code",
   "execution_count": 305,
   "metadata": {},
   "outputs": [
    {
     "data": {
      "text/plain": [
       "0.9999383058794497"
      ]
     },
     "execution_count": 305,
     "metadata": {},
     "output_type": "execute_result"
    }
   ],
   "source": [
    "recall_score(y_train, train_pred)"
   ]
  },
  {
   "cell_type": "code",
   "execution_count": 306,
   "metadata": {},
   "outputs": [
    {
     "name": "stdout",
     "output_type": "stream",
     "text": [
      "Random Forest Classifier with SMOTE:  0.9341443987179731\n",
      "Roc/auc:  0.7083353279124106\n"
     ]
    }
   ],
   "source": [
    "print(\"Random Forest Classifier with SMOTE: \",accuracy_score(y_test, y_pred))\n",
    "fpr, tpr, thresholds = roc_curve(y_test, y_pred, pos_label=1)\n",
    "print(\"Roc/auc: \",roc_auc_score(y_test, y_pred))"
   ]
  },
  {
   "cell_type": "code",
   "execution_count": 307,
   "metadata": {},
   "outputs": [
    {
     "data": {
      "image/png": "[encoded data removed]",
      "text/plain": [
       "<Figure size 432x288 with 1 Axes>"
      ]
     },
     "metadata": {
      "needs_background": "light"
     },
     "output_type": "display_data"
    }
   ],
   "source": [
    "# Plotting the roc curve\n",
    "\n",
    "plt.title('Receiver Operating Characteristic for Random Forest Classifier with SMOTE')\n",
    "plt.plot(fpr, tpr, 'b', label = 'AUC = %0.2f' % roc_auc_score(y_test, y_pred))\n",
    "plt.legend(loc = 'lower right')\n",
    "plt.plot([0, 1], [0, 1],'r--')\n",
    "plt.xlim([0, 1])\n",
    "plt.ylim([0, 1])\n",
    "plt.ylabel('True Positive Rate')\n",
    "plt.xlabel('False Positive Rate')\n",
    "plt.show()"
   ]
  },
  {
   "cell_type": "markdown",
   "metadata": {},
   "source": [
    "### Applying NearMiss"
   ]
  },
  {
   "cell_type": "code",
   "execution_count": 308,
   "metadata": {},
   "outputs": [
    {
     "data": {
      "text/plain": [
       "0    229859\n",
       "1     16209\n",
       "Name: case_status, dtype: int64"
      ]
     },
     "execution_count": 308,
     "metadata": {},
     "output_type": "execute_result"
    }
   ],
   "source": [
    "from imblearn.under_sampling import NearMiss\n",
    "\n",
    "y_train.value_counts()"
   ]
  },
  {
   "cell_type": "code",
   "execution_count": 309,
   "metadata": {},
   "outputs": [],
   "source": [
    "nr = NearMiss()\n",
    "X_train_nr, y_train_nr = nr.fit_sample(X_train, y_train)"
   ]
  },
  {
   "cell_type": "code",
   "execution_count": 188,
   "metadata": {},
   "outputs": [
    {
     "data": {
      "text/plain": [
       "array([16209, 16209], dtype=int64)"
      ]
     },
     "execution_count": 188,
     "metadata": {},
     "output_type": "execute_result"
    }
   ],
   "source": [
    "np.bincount(y_train_nr)"
   ]
  },
  {
   "cell_type": "code",
   "execution_count": 310,
   "metadata": {},
   "outputs": [
    {
     "data": {
      "text/plain": [
       "RandomForestClassifier(bootstrap=True, class_weight=None, criterion='gini',\n",
       "            max_depth=None, max_features='auto', max_leaf_nodes=None,\n",
       "            min_impurity_decrease=0.0, min_impurity_split=None,\n",
       "            min_samples_leaf=1, min_samples_split=2,\n",
       "            min_weight_fraction_leaf=0.0, n_estimators=100, n_jobs=None,\n",
       "            oob_score=False, random_state=None, verbose=0,\n",
       "            warm_start=False)"
      ]
     },
     "execution_count": 310,
     "metadata": {},
     "output_type": "execute_result"
    }
   ],
   "source": [
    "rf.fit(X_train_nr, y_train_nr)"
   ]
  },
  {
   "cell_type": "code",
   "execution_count": 311,
   "metadata": {},
   "outputs": [],
   "source": [
    "y_pred = rf.predict(X_test)"
   ]
  },
  {
   "cell_type": "code",
   "execution_count": 312,
   "metadata": {},
   "outputs": [],
   "source": [
    "train_pred = rf.predict(X_train)"
   ]
  },
  {
   "cell_type": "code",
   "execution_count": 313,
   "metadata": {},
   "outputs": [
    {
     "data": {
      "text/html": [
       "<div>\n",
       "<style scoped>\n",
       "    .dataframe tbody tr th:only-of-type {\n",
       "        vertical-align: middle;\n",
       "    }\n",
       "\n",
       "    .dataframe tbody tr th {\n",
       "        vertical-align: top;\n",
       "    }\n",
       "\n",
       "    .dataframe thead th {\n",
       "        text-align: right;\n",
       "    }\n",
       "</style>\n",
       "<table border=\"1\" class=\"dataframe\">\n",
       "  <thead>\n",
       "    <tr style=\"text-align: right;\">\n",
       "      <th>Predicted Result</th>\n",
       "      <th>0</th>\n",
       "      <th>1</th>\n",
       "    </tr>\n",
       "    <tr>\n",
       "      <th>Actual Result</th>\n",
       "      <th></th>\n",
       "      <th></th>\n",
       "    </tr>\n",
       "  </thead>\n",
       "  <tbody>\n",
       "    <tr>\n",
       "      <th>0</th>\n",
       "      <td>31339</td>\n",
       "      <td>67265</td>\n",
       "    </tr>\n",
       "    <tr>\n",
       "      <th>1</th>\n",
       "      <td>735</td>\n",
       "      <td>6119</td>\n",
       "    </tr>\n",
       "  </tbody>\n",
       "</table>\n",
       "</div>"
      ],
      "text/plain": [
       "Predicted Result      0      1\n",
       "Actual Result                 \n",
       "0                 31339  67265\n",
       "1                   735   6119"
      ]
     },
     "execution_count": 313,
     "metadata": {},
     "output_type": "execute_result"
    }
   ],
   "source": [
    "pd.crosstab(y_test, y_pred, rownames=['Actual Result'], colnames=['Predicted Result'])"
   ]
  },
  {
   "cell_type": "code",
   "execution_count": 314,
   "metadata": {},
   "outputs": [
    {
     "data": {
      "text/plain": [
       "0.35519353676345083"
      ]
     },
     "execution_count": 314,
     "metadata": {},
     "output_type": "execute_result"
    }
   ],
   "source": [
    "from sklearn.metrics import precision_score, recall_score, f1_score, confusion_matrix, accuracy_score\n",
    "\n",
    "accuracy_score(y_test, y_pred)"
   ]
  },
  {
   "cell_type": "code",
   "execution_count": 315,
   "metadata": {},
   "outputs": [
    {
     "data": {
      "text/plain": [
       "0.3711535022839215"
      ]
     },
     "execution_count": 315,
     "metadata": {},
     "output_type": "execute_result"
    }
   ],
   "source": [
    "accuracy_score(y_train, train_pred)"
   ]
  },
  {
   "cell_type": "code",
   "execution_count": 316,
   "metadata": {},
   "outputs": [
    {
     "data": {
      "text/plain": [
       "array([[31339, 67265],\n",
       "       [  735,  6119]], dtype=int64)"
      ]
     },
     "execution_count": 316,
     "metadata": {},
     "output_type": "execute_result"
    }
   ],
   "source": [
    "confusion_matrix(y_test, y_pred)"
   ]
  },
  {
   "cell_type": "code",
   "execution_count": 317,
   "metadata": {},
   "outputs": [
    {
     "data": {
      "text/plain": [
       "0.8927633498686898"
      ]
     },
     "execution_count": 317,
     "metadata": {},
     "output_type": "execute_result"
    }
   ],
   "source": [
    "recall_score(y_test, y_pred)"
   ]
  },
  {
   "cell_type": "code",
   "execution_count": 318,
   "metadata": {},
   "outputs": [
    {
     "data": {
      "text/plain": [
       "1.0"
      ]
     },
     "execution_count": 318,
     "metadata": {},
     "output_type": "execute_result"
    }
   ],
   "source": [
    "recall_score(y_train, train_pred)"
   ]
  },
  {
   "cell_type": "code",
   "execution_count": 319,
   "metadata": {},
   "outputs": [
    {
     "name": "stdout",
     "output_type": "stream",
     "text": [
      "Random Forest Classifier with NearMiss:  0.35519353676345083\n",
      "Roc/auc:  0.6052951064381378\n"
     ]
    }
   ],
   "source": [
    "print(\"Random Forest Classifier with NearMiss: \",accuracy_score(y_test, y_pred))\n",
    "fpr, tpr, thresholds = roc_curve(y_test, y_pred, pos_label=1)\n",
    "print(\"Roc/auc: \",roc_auc_score(y_test, y_pred))"
   ]
  },
  {
   "cell_type": "code",
   "execution_count": 320,
   "metadata": {},
   "outputs": [
    {
     "data": {
      "image/png": "[encoded data removed]",
      "text/plain": [
       "<Figure size 432x288 with 1 Axes>"
      ]
     },
     "metadata": {
      "needs_background": "light"
     },
     "output_type": "display_data"
    }
   ],
   "source": [
    "# Plotting the roc curve\n",
    "\n",
    "plt.title('Receiver Operating Characteristic for Random Forest Classifier with NearMiss')\n",
    "plt.plot(fpr, tpr, 'b', label = 'AUC = %0.2f' % roc_auc_score(y_test, y_pred))\n",
    "plt.legend(loc = 'lower right')\n",
    "plt.plot([0, 1], [0, 1],'r--')\n",
    "plt.xlim([0, 1])\n",
    "plt.ylim([0, 1])\n",
    "plt.ylabel('True Positive Rate')\n",
    "plt.xlabel('False Positive Rate')\n",
    "plt.show()"
   ]
  },
  {
   "cell_type": "markdown",
   "metadata": {},
   "source": [
    "### Decision Tree"
   ]
  },
  {
   "cell_type": "code",
   "execution_count": 321,
   "metadata": {},
   "outputs": [],
   "source": [
    "from sklearn import tree\n",
    "\n",
    "dc = tree.DecisionTreeClassifier(criterion='gini')"
   ]
  },
  {
   "cell_type": "code",
   "execution_count": 322,
   "metadata": {},
   "outputs": [
    {
     "data": {
      "text/plain": [
       "1.0"
      ]
     },
     "execution_count": 322,
     "metadata": {},
     "output_type": "execute_result"
    }
   ],
   "source": [
    "dc.fit(X_train, y_train)\n",
    "dc.score(X_train, y_train)"
   ]
  },
  {
   "cell_type": "code",
   "execution_count": 323,
   "metadata": {},
   "outputs": [],
   "source": [
    "y_pred = dc.predict(X_test)"
   ]
  },
  {
   "cell_type": "code",
   "execution_count": 324,
   "metadata": {},
   "outputs": [],
   "source": [
    "train_pred = dc.predict(X_train)"
   ]
  },
  {
   "cell_type": "code",
   "execution_count": 325,
   "metadata": {},
   "outputs": [
    {
     "data": {
      "text/plain": [
       "0.9269377382465057"
      ]
     },
     "execution_count": 325,
     "metadata": {},
     "output_type": "execute_result"
    }
   ],
   "source": [
    "from sklearn.metrics import precision_score, recall_score, f1_score, confusion_matrix, accuracy_score\n",
    "\n",
    "accuracy_score(y_test, y_pred)"
   ]
  },
  {
   "cell_type": "code",
   "execution_count": 326,
   "metadata": {},
   "outputs": [
    {
     "data": {
      "text/plain": [
       "1.0"
      ]
     },
     "execution_count": 326,
     "metadata": {},
     "output_type": "execute_result"
    }
   ],
   "source": [
    "accuracy_score(y_train, train_pred)"
   ]
  },
  {
   "cell_type": "code",
   "execution_count": 327,
   "metadata": {},
   "outputs": [
    {
     "data": {
      "text/plain": [
       "array([[94398,  4206],\n",
       "       [ 3499,  3355]], dtype=int64)"
      ]
     },
     "execution_count": 327,
     "metadata": {},
     "output_type": "execute_result"
    }
   ],
   "source": [
    "confusion_matrix(y_test, y_pred)"
   ]
  },
  {
   "cell_type": "code",
   "execution_count": 328,
   "metadata": {},
   "outputs": [
    {
     "data": {
      "text/plain": [
       "0.4894951852932594"
      ]
     },
     "execution_count": 328,
     "metadata": {},
     "output_type": "execute_result"
    }
   ],
   "source": [
    "recall_score(y_test, y_pred)"
   ]
  },
  {
   "cell_type": "code",
   "execution_count": 329,
   "metadata": {},
   "outputs": [
    {
     "data": {
      "text/plain": [
       "1.0"
      ]
     },
     "execution_count": 329,
     "metadata": {},
     "output_type": "execute_result"
    }
   ],
   "source": [
    "recall_score(y_train, train_pred)"
   ]
  },
  {
   "cell_type": "code",
   "execution_count": 330,
   "metadata": {},
   "outputs": [
    {
     "name": "stdout",
     "output_type": "stream",
     "text": [
      "Decision Tree Classifier:  0.9269377382465057\n",
      "Roc/auc:  0.7234198574634727\n"
     ]
    }
   ],
   "source": [
    "print(\"Decision Tree Classifier: \",accuracy_score(y_test, y_pred))\n",
    "fpr, tpr, thresholds = roc_curve(y_test, y_pred, pos_label=1)\n",
    "print(\"Roc/auc: \",roc_auc_score(y_test, y_pred))"
   ]
  },
  {
   "cell_type": "code",
   "execution_count": 336,
   "metadata": {},
   "outputs": [
    {
     "data": {
      "image/png": "[encoded data removed]",
      "text/plain": [
       "<Figure size 432x288 with 1 Axes>"
      ]
     },
     "metadata": {
      "needs_background": "light"
     },
     "output_type": "display_data"
    }
   ],
   "source": [
    "# Plotting the roc curve\n",
    "\n",
    "plt.title('Receiver Operating Characteristic for Decision Tree Classifier')\n",
    "plt.plot(fpr, tpr, 'b', label = 'AUC = %0.2f' % roc_auc_score(y_test, y_pred))\n",
    "plt.legend(loc = 'lower right')\n",
    "plt.plot([0, 1], [0, 1],'r--')\n",
    "plt.xlim([0, 1])\n",
    "plt.ylim([0, 1])\n",
    "plt.ylabel('True Positive Rate')\n",
    "plt.xlabel('False Positive Rate')\n",
    "plt.show()"
   ]
  },
  {
   "cell_type": "markdown",
   "metadata": {},
   "source": [
    "### Applying SMOTE on DT"
   ]
  },
  {
   "cell_type": "code",
   "execution_count": 332,
   "metadata": {},
   "outputs": [
    {
     "data": {
      "text/plain": [
       "0    229859\n",
       "1     16209\n",
       "Name: case_status, dtype: int64"
      ]
     },
     "execution_count": 332,
     "metadata": {},
     "output_type": "execute_result"
    }
   ],
   "source": [
    "from imblearn.over_sampling import SMOTE\n",
    "\n",
    "y_train.value_counts()"
   ]
  },
  {
   "cell_type": "raw",
   "metadata": {},
   "source": [
    "help(SMOTE())"
   ]
  },
  {
   "cell_type": "raw",
   "metadata": {},
   "source": [
    "from sklearn.datasets import make_classification\n",
    "from imblearn.over_sampling import SMOTE # doctest: +NORMALIZE_WHITESPACE\n",
    "X, y = make_classification(n_classes=2, class_sep=2,weights=[0.1, 0.9], n_informative=3, n_redundant=1, flip_y=0,\n",
    "                           n_features=20, n_clusters_per_class=1, n_samples=1000, random_state=10)"
   ]
  },
  {
   "cell_type": "code",
   "execution_count": 333,
   "metadata": {},
   "outputs": [],
   "source": [
    "smt = SMOTE()\n",
    "X_train_smt, y_train_smt = smt.fit_sample(X_train, y_train)"
   ]
  },
  {
   "cell_type": "code",
   "execution_count": 334,
   "metadata": {},
   "outputs": [
    {
     "data": {
      "text/plain": [
       "array([229859, 229859], dtype=int64)"
      ]
     },
     "execution_count": 334,
     "metadata": {},
     "output_type": "execute_result"
    }
   ],
   "source": [
    "np.bincount(y_train_smt)"
   ]
  },
  {
   "cell_type": "code",
   "execution_count": 335,
   "metadata": {},
   "outputs": [
    {
     "data": {
      "text/plain": [
       "DecisionTreeClassifier(class_weight=None, criterion='gini', max_depth=None,\n",
       "            max_features=None, max_leaf_nodes=None,\n",
       "            min_impurity_decrease=0.0, min_impurity_split=None,\n",
       "            min_samples_leaf=1, min_samples_split=2,\n",
       "            min_weight_fraction_leaf=0.0, presort=False, random_state=None,\n",
       "            splitter='best')"
      ]
     },
     "execution_count": 335,
     "metadata": {},
     "output_type": "execute_result"
    }
   ],
   "source": [
    "dc.fit(X_train_smt, y_train_smt)"
   ]
  },
  {
   "cell_type": "code",
   "execution_count": 337,
   "metadata": {},
   "outputs": [],
   "source": [
    "y_pred = dc.predict(X_test)"
   ]
  },
  {
   "cell_type": "code",
   "execution_count": 338,
   "metadata": {},
   "outputs": [],
   "source": [
    "train_pred = dc.predict(X_train)"
   ]
  },
  {
   "cell_type": "code",
   "execution_count": 339,
   "metadata": {},
   "outputs": [
    {
     "data": {
      "text/html": [
       "<div>\n",
       "<style scoped>\n",
       "    .dataframe tbody tr th:only-of-type {\n",
       "        vertical-align: middle;\n",
       "    }\n",
       "\n",
       "    .dataframe tbody tr th {\n",
       "        vertical-align: top;\n",
       "    }\n",
       "\n",
       "    .dataframe thead th {\n",
       "        text-align: right;\n",
       "    }\n",
       "</style>\n",
       "<table border=\"1\" class=\"dataframe\">\n",
       "  <thead>\n",
       "    <tr style=\"text-align: right;\">\n",
       "      <th>Predicted Result</th>\n",
       "      <th>0</th>\n",
       "      <th>1</th>\n",
       "    </tr>\n",
       "    <tr>\n",
       "      <th>Actual Result</th>\n",
       "      <th></th>\n",
       "      <th></th>\n",
       "    </tr>\n",
       "  </thead>\n",
       "  <tbody>\n",
       "    <tr>\n",
       "      <th>0</th>\n",
       "      <td>89447</td>\n",
       "      <td>9157</td>\n",
       "    </tr>\n",
       "    <tr>\n",
       "      <th>1</th>\n",
       "      <td>3474</td>\n",
       "      <td>3380</td>\n",
       "    </tr>\n",
       "  </tbody>\n",
       "</table>\n",
       "</div>"
      ],
      "text/plain": [
       "Predicted Result      0     1\n",
       "Actual Result                \n",
       "0                 89447  9157\n",
       "1                  3474  3380"
      ]
     },
     "execution_count": 339,
     "metadata": {},
     "output_type": "execute_result"
    }
   ],
   "source": [
    "pd.crosstab(y_test, y_pred, rownames=['Actual Result'], colnames=['Predicted Result'])"
   ]
  },
  {
   "cell_type": "code",
   "execution_count": 340,
   "metadata": {},
   "outputs": [
    {
     "data": {
      "text/plain": [
       "0.880227199453811"
      ]
     },
     "execution_count": 340,
     "metadata": {},
     "output_type": "execute_result"
    }
   ],
   "source": [
    "from sklearn.metrics import precision_score, recall_score, f1_score, confusion_matrix, accuracy_score\n",
    "\n",
    "accuracy_score(y_test, y_pred)"
   ]
  },
  {
   "cell_type": "code",
   "execution_count": 341,
   "metadata": {},
   "outputs": [
    {
     "data": {
      "text/plain": [
       "1.0"
      ]
     },
     "execution_count": 341,
     "metadata": {},
     "output_type": "execute_result"
    }
   ],
   "source": [
    "accuracy_score(y_train, train_pred)"
   ]
  },
  {
   "cell_type": "code",
   "execution_count": 342,
   "metadata": {},
   "outputs": [
    {
     "data": {
      "text/plain": [
       "array([[89447,  9157],\n",
       "       [ 3474,  3380]], dtype=int64)"
      ]
     },
     "execution_count": 342,
     "metadata": {},
     "output_type": "execute_result"
    }
   ],
   "source": [
    "confusion_matrix(y_test, y_pred)"
   ]
  },
  {
   "cell_type": "code",
   "execution_count": 343,
   "metadata": {},
   "outputs": [
    {
     "data": {
      "text/plain": [
       "0.49314269039976655"
      ]
     },
     "execution_count": 343,
     "metadata": {},
     "output_type": "execute_result"
    }
   ],
   "source": [
    "recall_score(y_test, y_pred)"
   ]
  },
  {
   "cell_type": "code",
   "execution_count": 344,
   "metadata": {},
   "outputs": [
    {
     "data": {
      "text/plain": [
       "1.0"
      ]
     },
     "execution_count": 344,
     "metadata": {},
     "output_type": "execute_result"
    }
   ],
   "source": [
    "recall_score(y_train, train_pred)"
   ]
  },
  {
   "cell_type": "code",
   "execution_count": 345,
   "metadata": {},
   "outputs": [
    {
     "name": "stdout",
     "output_type": "stream",
     "text": [
      "Decision Tree Classifier with SMOTE:  0.880227199453811\n",
      "Roc/auc:  0.7001381376220973\n"
     ]
    }
   ],
   "source": [
    "print(\"Decision Tree Classifier with SMOTE: \",accuracy_score(y_test, y_pred))\n",
    "fpr, tpr, thresholds = roc_curve(y_test, y_pred, pos_label=1)\n",
    "print(\"Roc/auc: \",roc_auc_score(y_test, y_pred))"
   ]
  },
  {
   "cell_type": "code",
   "execution_count": 347,
   "metadata": {},
   "outputs": [
    {
     "data": {
      "image/png": "[encoded data removed]",
      "text/plain": [
       "<Figure size 432x288 with 1 Axes>"
      ]
     },
     "metadata": {
      "needs_background": "light"
     },
     "output_type": "display_data"
    }
   ],
   "source": [
    "# Plotting the roc curve\n",
    "\n",
    "plt.title('Receiver Operating Characteristic for Decision Tree Classifier with SMOTE')\n",
    "plt.plot(fpr, tpr, 'b', label = 'AUC = %0.2f' % roc_auc_score(y_test, y_pred))\n",
    "plt.legend(loc = 'lower right')\n",
    "plt.plot([0, 1], [0, 1],'r--')\n",
    "plt.xlim([0, 1])\n",
    "plt.ylim([0, 1])\n",
    "plt.ylabel('True Positive Rate')\n",
    "plt.xlabel('False Positive Rate')\n",
    "plt.show()"
   ]
  },
  {
   "cell_type": "markdown",
   "metadata": {},
   "source": [
    "### Applying NearMiss"
   ]
  },
  {
   "cell_type": "code",
   "execution_count": 348,
   "metadata": {},
   "outputs": [
    {
     "data": {
      "text/plain": [
       "0    229859\n",
       "1     16209\n",
       "Name: case_status, dtype: int64"
      ]
     },
     "execution_count": 348,
     "metadata": {},
     "output_type": "execute_result"
    }
   ],
   "source": [
    "from imblearn.under_sampling import NearMiss\n",
    "\n",
    "y_train.value_counts()"
   ]
  },
  {
   "cell_type": "code",
   "execution_count": 349,
   "metadata": {},
   "outputs": [],
   "source": [
    "nr = NearMiss()\n",
    "X_train_nr, y_train_nr = nr.fit_sample(X_train, y_train)"
   ]
  },
  {
   "cell_type": "code",
   "execution_count": 350,
   "metadata": {},
   "outputs": [
    {
     "data": {
      "text/plain": [
       "array([16209, 16209], dtype=int64)"
      ]
     },
     "execution_count": 350,
     "metadata": {},
     "output_type": "execute_result"
    }
   ],
   "source": [
    "np.bincount(y_train_nr)"
   ]
  },
  {
   "cell_type": "code",
   "execution_count": 351,
   "metadata": {},
   "outputs": [
    {
     "data": {
      "text/plain": [
       "DecisionTreeClassifier(class_weight=None, criterion='gini', max_depth=None,\n",
       "            max_features=None, max_leaf_nodes=None,\n",
       "            min_impurity_decrease=0.0, min_impurity_split=None,\n",
       "            min_samples_leaf=1, min_samples_split=2,\n",
       "            min_weight_fraction_leaf=0.0, presort=False, random_state=None,\n",
       "            splitter='best')"
      ]
     },
     "execution_count": 351,
     "metadata": {},
     "output_type": "execute_result"
    }
   ],
   "source": [
    "dc.fit(X_train_nr, y_train_nr)"
   ]
  },
  {
   "cell_type": "code",
   "execution_count": 352,
   "metadata": {},
   "outputs": [],
   "source": [
    "y_pred = dc.predict(X_test)"
   ]
  },
  {
   "cell_type": "code",
   "execution_count": 353,
   "metadata": {},
   "outputs": [],
   "source": [
    "train_pred = dc.predict(X_train)"
   ]
  },
  {
   "cell_type": "code",
   "execution_count": 354,
   "metadata": {},
   "outputs": [
    {
     "data": {
      "text/html": [
       "<div>\n",
       "<style scoped>\n",
       "    .dataframe tbody tr th:only-of-type {\n",
       "        vertical-align: middle;\n",
       "    }\n",
       "\n",
       "    .dataframe tbody tr th {\n",
       "        vertical-align: top;\n",
       "    }\n",
       "\n",
       "    .dataframe thead th {\n",
       "        text-align: right;\n",
       "    }\n",
       "</style>\n",
       "<table border=\"1\" class=\"dataframe\">\n",
       "  <thead>\n",
       "    <tr style=\"text-align: right;\">\n",
       "      <th>Predicted Result</th>\n",
       "      <th>0</th>\n",
       "      <th>1</th>\n",
       "    </tr>\n",
       "    <tr>\n",
       "      <th>Actual Result</th>\n",
       "      <th></th>\n",
       "      <th></th>\n",
       "    </tr>\n",
       "  </thead>\n",
       "  <tbody>\n",
       "    <tr>\n",
       "      <th>0</th>\n",
       "      <td>44352</td>\n",
       "      <td>54252</td>\n",
       "    </tr>\n",
       "    <tr>\n",
       "      <th>1</th>\n",
       "      <td>1433</td>\n",
       "      <td>5421</td>\n",
       "    </tr>\n",
       "  </tbody>\n",
       "</table>\n",
       "</div>"
      ],
      "text/plain": [
       "Predicted Result      0      1\n",
       "Actual Result                 \n",
       "0                 44352  54252\n",
       "1                  1433   5421"
      ]
     },
     "execution_count": 354,
     "metadata": {},
     "output_type": "execute_result"
    }
   ],
   "source": [
    "pd.crosstab(y_test, y_pred, rownames=['Actual Result'], colnames=['Predicted Result'])"
   ]
  },
  {
   "cell_type": "code",
   "execution_count": 355,
   "metadata": {},
   "outputs": [
    {
     "data": {
      "text/plain": [
       "0.47196988374518767"
      ]
     },
     "execution_count": 355,
     "metadata": {},
     "output_type": "execute_result"
    }
   ],
   "source": [
    "from sklearn.metrics import precision_score, recall_score, f1_score, confusion_matrix, accuracy_score\n",
    "\n",
    "accuracy_score(y_test, y_pred)"
   ]
  },
  {
   "cell_type": "code",
   "execution_count": 356,
   "metadata": {},
   "outputs": [
    {
     "data": {
      "text/plain": [
       "0.49765918364029454"
      ]
     },
     "execution_count": 356,
     "metadata": {},
     "output_type": "execute_result"
    }
   ],
   "source": [
    "accuracy_score(y_train, train_pred)"
   ]
  },
  {
   "cell_type": "code",
   "execution_count": 357,
   "metadata": {},
   "outputs": [
    {
     "data": {
      "text/plain": [
       "array([[44352, 54252],\n",
       "       [ 1433,  5421]], dtype=int64)"
      ]
     },
     "execution_count": 357,
     "metadata": {},
     "output_type": "execute_result"
    }
   ],
   "source": [
    "confusion_matrix(y_test, y_pred)"
   ]
  },
  {
   "cell_type": "code",
   "execution_count": 358,
   "metadata": {},
   "outputs": [
    {
     "data": {
      "text/plain": [
       "0.7909250072950103"
      ]
     },
     "execution_count": 358,
     "metadata": {},
     "output_type": "execute_result"
    }
   ],
   "source": [
    "recall_score(y_test, y_pred)"
   ]
  },
  {
   "cell_type": "code",
   "execution_count": 359,
   "metadata": {},
   "outputs": [
    {
     "data": {
      "text/plain": [
       "1.0"
      ]
     },
     "execution_count": 359,
     "metadata": {},
     "output_type": "execute_result"
    }
   ],
   "source": [
    "recall_score(y_train, train_pred)"
   ]
  },
  {
   "cell_type": "code",
   "execution_count": 360,
   "metadata": {},
   "outputs": [
    {
     "name": "stdout",
     "output_type": "stream",
     "text": [
      "Decision Tree Classifier with NearMiss:  0.47196988374518767\n",
      "Roc/auc:  0.6203621020410794\n"
     ]
    }
   ],
   "source": [
    "print(\"Decision Tree Classifier with NearMiss: \",accuracy_score(y_test, y_pred))\n",
    "fpr, tpr, thresholds = roc_curve(y_test, y_pred, pos_label=1)\n",
    "print(\"Roc/auc: \",roc_auc_score(y_test, y_pred))"
   ]
  },
  {
   "cell_type": "code",
   "execution_count": 361,
   "metadata": {},
   "outputs": [
    {
     "data": {
      "image/png": "[encoded data removed]",
      "text/plain": [
       "<Figure size 432x288 with 1 Axes>"
      ]
     },
     "metadata": {
      "needs_background": "light"
     },
     "output_type": "display_data"
    }
   ],
   "source": [
    "# Plotting the roc curve\n",
    "\n",
    "plt.title('Receiver Operating Characteristic for Decision Tree Classifier with NearMiss')\n",
    "plt.plot(fpr, tpr, 'b', label = 'AUC = %0.2f' % roc_auc_score(y_test, y_pred))\n",
    "plt.legend(loc = 'lower right')\n",
    "plt.plot([0, 1], [0, 1],'r--')\n",
    "plt.xlim([0, 1])\n",
    "plt.ylim([0, 1])\n",
    "plt.ylabel('True Positive Rate')\n",
    "plt.xlabel('False Positive Rate')\n",
    "plt.show()"
   ]
  },
  {
   "cell_type": "markdown",
   "metadata": {},
   "source": [
    "### GradientBoostingClassifier"
   ]
  },
  {
   "cell_type": "code",
   "execution_count": 387,
   "metadata": {},
   "outputs": [
    {
     "data": {
      "text/plain": [
       "GradientBoostingClassifier(criterion='friedman_mse', init=None,\n",
       "              learning_rate=1.0, loss='deviance', max_depth=1,\n",
       "              max_features=None, max_leaf_nodes=None,\n",
       "              min_impurity_decrease=0.0, min_impurity_split=None,\n",
       "              min_samples_leaf=1, min_samples_split=2,\n",
       "              min_weight_fraction_leaf=0.0, n_estimators=100,\n",
       "              n_iter_no_change=None, presort='auto', random_state=None,\n",
       "              subsample=1.0, tol=0.0001, validation_fraction=0.1,\n",
       "              verbose=0, warm_start=False)"
      ]
     },
     "execution_count": 387,
     "metadata": {},
     "output_type": "execute_result"
    }
   ],
   "source": [
    "from sklearn.ensemble import GradientBoostingClassifier\n",
    "\n",
    "gb = GradientBoostingClassifier(n_estimators=100, learning_rate=1.0, max_depth=1)\n",
    "gb.fit(X_train, y_train)"
   ]
  },
  {
   "cell_type": "code",
   "execution_count": 388,
   "metadata": {},
   "outputs": [],
   "source": [
    "y_pred = gb.predict(X_test)"
   ]
  },
  {
   "cell_type": "code",
   "execution_count": 389,
   "metadata": {},
   "outputs": [],
   "source": [
    "train_pred = gb.predict(X_train)"
   ]
  },
  {
   "cell_type": "code",
   "execution_count": 390,
   "metadata": {},
   "outputs": [
    {
     "data": {
      "text/plain": [
       "0.9402226478787764"
      ]
     },
     "execution_count": 390,
     "metadata": {},
     "output_type": "execute_result"
    }
   ],
   "source": [
    "from sklearn.metrics import precision_score, recall_score, f1_score, confusion_matrix, accuracy_score, roc_auc_score,roc_curve\n",
    "\n",
    "accuracy_score(y_test, y_pred)"
   ]
  },
  {
   "cell_type": "code",
   "execution_count": 391,
   "metadata": {},
   "outputs": [
    {
     "data": {
      "text/plain": [
       "0.9394395045272038"
      ]
     },
     "execution_count": 391,
     "metadata": {},
     "output_type": "execute_result"
    }
   ],
   "source": [
    "accuracy_score(y_train, train_pred)"
   ]
  },
  {
   "cell_type": "code",
   "execution_count": 392,
   "metadata": {},
   "outputs": [
    {
     "data": {
      "text/plain": [
       "array([[98148,   456],\n",
       "       [ 5848,  1006]], dtype=int64)"
      ]
     },
     "execution_count": 392,
     "metadata": {},
     "output_type": "execute_result"
    }
   ],
   "source": [
    "confusion_matrix(y_test, y_pred)"
   ]
  },
  {
   "cell_type": "code",
   "execution_count": 393,
   "metadata": {},
   "outputs": [
    {
     "data": {
      "text/plain": [
       "0.14677560548584767"
      ]
     },
     "execution_count": 393,
     "metadata": {},
     "output_type": "execute_result"
    }
   ],
   "source": [
    "recall_score(y_test, y_pred)"
   ]
  },
  {
   "cell_type": "code",
   "execution_count": 394,
   "metadata": {},
   "outputs": [
    {
     "data": {
      "text/plain": [
       "0.14541304213708434"
      ]
     },
     "execution_count": 394,
     "metadata": {},
     "output_type": "execute_result"
    }
   ],
   "source": [
    "recall_score(y_train, train_pred)"
   ]
  },
  {
   "cell_type": "code",
   "execution_count": 395,
   "metadata": {},
   "outputs": [
    {
     "data": {
      "text/plain": [
       "0.6880984952120383"
      ]
     },
     "execution_count": 395,
     "metadata": {},
     "output_type": "execute_result"
    }
   ],
   "source": [
    "precision_score(y_test, y_pred)"
   ]
  },
  {
   "cell_type": "code",
   "execution_count": 396,
   "metadata": {},
   "outputs": [
    {
     "data": {
      "text/plain": [
       "0.24194324194324193"
      ]
     },
     "execution_count": 396,
     "metadata": {},
     "output_type": "execute_result"
    }
   ],
   "source": [
    "f1_score(y_test, y_pred)"
   ]
  },
  {
   "cell_type": "code",
   "execution_count": 397,
   "metadata": {},
   "outputs": [
    {
     "name": "stdout",
     "output_type": "stream",
     "text": [
      "Gradient Boosting Classifier:  0.9402226478787764\n",
      "Roc/auc:  0.5710755233222107\n"
     ]
    }
   ],
   "source": [
    "print(\"Gradient Boosting Classifier: \",accuracy_score(y_test, y_pred))\n",
    "fpr, tpr, thresholds = roc_curve(y_test, y_pred, pos_label=1)\n",
    "print(\"Roc/auc: \",roc_auc_score(y_test, y_pred))"
   ]
  },
  {
   "cell_type": "code",
   "execution_count": 398,
   "metadata": {},
   "outputs": [
    {
     "data": {
      "image/png": "[encoded data removed]",
      "text/plain": [
       "<Figure size 432x288 with 1 Axes>"
      ]
     },
     "metadata": {
      "needs_background": "light"
     },
     "output_type": "display_data"
    }
   ],
   "source": [
    "# Plotting the roc curve\n",
    "\n",
    "plt.title('Receiver Operating Characteristic for Gradient Boosting Classifier')\n",
    "plt.plot(fpr, tpr, 'b', label = 'AUC = %0.2f' % roc_auc_score(y_test, y_pred))\n",
    "plt.legend(loc = 'lower right')\n",
    "plt.plot([0, 1], [0, 1],'r--')\n",
    "plt.xlim([0, 1])\n",
    "plt.ylim([0, 1])\n",
    "plt.ylabel('True Positive Rate')\n",
    "plt.xlabel('False Positive Rate')\n",
    "plt.show()"
   ]
  },
  {
   "cell_type": "markdown",
   "metadata": {},
   "source": [
    "### Applying SMOTE on GB"
   ]
  },
  {
   "cell_type": "code",
   "execution_count": 399,
   "metadata": {},
   "outputs": [
    {
     "data": {
      "text/plain": [
       "0    229859\n",
       "1     16209\n",
       "Name: case_status, dtype: int64"
      ]
     },
     "execution_count": 399,
     "metadata": {},
     "output_type": "execute_result"
    }
   ],
   "source": [
    "from imblearn.over_sampling import SMOTE\n",
    "\n",
    "y_train.value_counts()"
   ]
  },
  {
   "cell_type": "raw",
   "metadata": {},
   "source": [
    "help(SMOTE())"
   ]
  },
  {
   "cell_type": "raw",
   "metadata": {},
   "source": [
    "from sklearn.datasets import make_classification\n",
    "from imblearn.over_sampling import SMOTE # doctest: +NORMALIZE_WHITESPACE\n",
    "X, y = make_classification(n_classes=2, class_sep=2,weights=[0.1, 0.9], n_informative=3, n_redundant=1, flip_y=0,\n",
    "                           n_features=20, n_clusters_per_class=1, n_samples=1000, random_state=10)"
   ]
  },
  {
   "cell_type": "code",
   "execution_count": 400,
   "metadata": {},
   "outputs": [],
   "source": [
    "smt = SMOTE()\n",
    "X_train_smt, y_train_smt = smt.fit_sample(X_train, y_train)"
   ]
  },
  {
   "cell_type": "code",
   "execution_count": 401,
   "metadata": {},
   "outputs": [
    {
     "data": {
      "text/plain": [
       "array([229859, 229859], dtype=int64)"
      ]
     },
     "execution_count": 401,
     "metadata": {},
     "output_type": "execute_result"
    }
   ],
   "source": [
    "np.bincount(y_train_smt)"
   ]
  },
  {
   "cell_type": "code",
   "execution_count": 402,
   "metadata": {},
   "outputs": [
    {
     "data": {
      "text/plain": [
       "GradientBoostingClassifier(criterion='friedman_mse', init=None,\n",
       "              learning_rate=1.0, loss='deviance', max_depth=1,\n",
       "              max_features=None, max_leaf_nodes=None,\n",
       "              min_impurity_decrease=0.0, min_impurity_split=None,\n",
       "              min_samples_leaf=1, min_samples_split=2,\n",
       "              min_weight_fraction_leaf=0.0, n_estimators=100,\n",
       "              n_iter_no_change=None, presort='auto', random_state=None,\n",
       "              subsample=1.0, tol=0.0001, validation_fraction=0.1,\n",
       "              verbose=0, warm_start=False)"
      ]
     },
     "execution_count": 402,
     "metadata": {},
     "output_type": "execute_result"
    }
   ],
   "source": [
    "gb.fit(X_train_smt, y_train_smt)"
   ]
  },
  {
   "cell_type": "code",
   "execution_count": 403,
   "metadata": {},
   "outputs": [],
   "source": [
    "y_pred = gb.predict(X_test)"
   ]
  },
  {
   "cell_type": "code",
   "execution_count": 404,
   "metadata": {},
   "outputs": [],
   "source": [
    "train_pred = gb.predict(X_train)"
   ]
  },
  {
   "cell_type": "code",
   "execution_count": 405,
   "metadata": {},
   "outputs": [
    {
     "data": {
      "text/html": [
       "<div>\n",
       "<style scoped>\n",
       "    .dataframe tbody tr th:only-of-type {\n",
       "        vertical-align: middle;\n",
       "    }\n",
       "\n",
       "    .dataframe tbody tr th {\n",
       "        vertical-align: top;\n",
       "    }\n",
       "\n",
       "    .dataframe thead th {\n",
       "        text-align: right;\n",
       "    }\n",
       "</style>\n",
       "<table border=\"1\" class=\"dataframe\">\n",
       "  <thead>\n",
       "    <tr style=\"text-align: right;\">\n",
       "      <th>Predicted Result</th>\n",
       "      <th>0</th>\n",
       "      <th>1</th>\n",
       "    </tr>\n",
       "    <tr>\n",
       "      <th>Actual Result</th>\n",
       "      <th></th>\n",
       "      <th></th>\n",
       "    </tr>\n",
       "  </thead>\n",
       "  <tbody>\n",
       "    <tr>\n",
       "      <th>0</th>\n",
       "      <td>84999</td>\n",
       "      <td>13605</td>\n",
       "    </tr>\n",
       "    <tr>\n",
       "      <th>1</th>\n",
       "      <td>3292</td>\n",
       "      <td>3562</td>\n",
       "    </tr>\n",
       "  </tbody>\n",
       "</table>\n",
       "</div>"
      ],
      "text/plain": [
       "Predicted Result      0      1\n",
       "Actual Result                 \n",
       "0                 84999  13605\n",
       "1                  3292   3562"
      ]
     },
     "execution_count": 405,
     "metadata": {},
     "output_type": "execute_result"
    }
   ],
   "source": [
    "pd.crosstab(y_test, y_pred, rownames=['Actual Result'], colnames=['Predicted Result'])"
   ]
  },
  {
   "cell_type": "code",
   "execution_count": 406,
   "metadata": {},
   "outputs": [
    {
     "data": {
      "text/plain": [
       "0.8397750763337063"
      ]
     },
     "execution_count": 406,
     "metadata": {},
     "output_type": "execute_result"
    }
   ],
   "source": [
    "from sklearn.metrics import precision_score, recall_score, f1_score, confusion_matrix, accuracy_score\n",
    "\n",
    "accuracy_score(y_test, y_pred)"
   ]
  },
  {
   "cell_type": "code",
   "execution_count": 407,
   "metadata": {},
   "outputs": [
    {
     "data": {
      "text/plain": [
       "0.8394508834956191"
      ]
     },
     "execution_count": 407,
     "metadata": {},
     "output_type": "execute_result"
    }
   ],
   "source": [
    "accuracy_score(y_train, train_pred)"
   ]
  },
  {
   "cell_type": "code",
   "execution_count": 408,
   "metadata": {},
   "outputs": [
    {
     "data": {
      "text/plain": [
       "array([[84999, 13605],\n",
       "       [ 3292,  3562]], dtype=int64)"
      ]
     },
     "execution_count": 408,
     "metadata": {},
     "output_type": "execute_result"
    }
   ],
   "source": [
    "confusion_matrix(y_test, y_pred)"
   ]
  },
  {
   "cell_type": "code",
   "execution_count": 409,
   "metadata": {},
   "outputs": [
    {
     "data": {
      "text/plain": [
       "0.5196965275751386"
      ]
     },
     "execution_count": 409,
     "metadata": {},
     "output_type": "execute_result"
    }
   ],
   "source": [
    "recall_score(y_test, y_pred)"
   ]
  },
  {
   "cell_type": "code",
   "execution_count": 410,
   "metadata": {},
   "outputs": [
    {
     "data": {
      "text/plain": [
       "0.5169967302116109"
      ]
     },
     "execution_count": 410,
     "metadata": {},
     "output_type": "execute_result"
    }
   ],
   "source": [
    "recall_score(y_train, train_pred)"
   ]
  },
  {
   "cell_type": "code",
   "execution_count": 411,
   "metadata": {},
   "outputs": [
    {
     "data": {
      "text/plain": [
       "0.20749111667734607"
      ]
     },
     "execution_count": 411,
     "metadata": {},
     "output_type": "execute_result"
    }
   ],
   "source": [
    "precision_score(y_test, y_pred)"
   ]
  },
  {
   "cell_type": "code",
   "execution_count": 412,
   "metadata": {},
   "outputs": [
    {
     "name": "stdout",
     "output_type": "stream",
     "text": [
      "Gradient Boosting Classifier with SMOTE:  0.8397750763337063\n",
      "Roc/auc:  0.6908601902814235\n"
     ]
    }
   ],
   "source": [
    "print(\"Gradient Boosting Classifier with SMOTE: \",accuracy_score(y_test, y_pred))\n",
    "fpr, tpr, thresholds = roc_curve(y_test, y_pred, pos_label=1)\n",
    "print(\"Roc/auc: \",roc_auc_score(y_test, y_pred))"
   ]
  },
  {
   "cell_type": "code",
   "execution_count": 414,
   "metadata": {},
   "outputs": [
    {
     "data": {
      "image/png": "[encoded data removed]",
      "text/plain": [
       "<Figure size 432x288 with 1 Axes>"
      ]
     },
     "metadata": {
      "needs_background": "light"
     },
     "output_type": "display_data"
    }
   ],
   "source": [
    "# Plotting the roc curve\n",
    "\n",
    "plt.title('Receiver Operating Characteristic for Gradient Boosting Classifier with SMOTE')\n",
    "plt.plot(fpr, tpr, 'b', label = 'AUC = %0.2f' % roc_auc_score(y_test, y_pred))\n",
    "plt.legend(loc = 'lower right')\n",
    "plt.plot([0, 1], [0, 1],'r--')\n",
    "plt.xlim([0, 1])\n",
    "plt.ylim([0, 1])\n",
    "plt.ylabel('True Positive Rate')\n",
    "plt.xlabel('False Positive Rate')\n",
    "plt.show()"
   ]
  },
  {
   "cell_type": "markdown",
   "metadata": {},
   "source": [
    "### Applying NearMiss"
   ]
  },
  {
   "cell_type": "code",
   "execution_count": 415,
   "metadata": {},
   "outputs": [
    {
     "data": {
      "text/plain": [
       "0    229859\n",
       "1     16209\n",
       "Name: case_status, dtype: int64"
      ]
     },
     "execution_count": 415,
     "metadata": {},
     "output_type": "execute_result"
    }
   ],
   "source": [
    "from imblearn.under_sampling import NearMiss\n",
    "\n",
    "y_train.value_counts()"
   ]
  },
  {
   "cell_type": "code",
   "execution_count": 416,
   "metadata": {},
   "outputs": [],
   "source": [
    "nr = NearMiss()\n",
    "X_train_nr, y_train_nr = nr.fit_sample(X_train, y_train)"
   ]
  },
  {
   "cell_type": "code",
   "execution_count": 417,
   "metadata": {},
   "outputs": [
    {
     "data": {
      "text/plain": [
       "array([16209, 16209], dtype=int64)"
      ]
     },
     "execution_count": 417,
     "metadata": {},
     "output_type": "execute_result"
    }
   ],
   "source": [
    "np.bincount(y_train_nr)"
   ]
  },
  {
   "cell_type": "code",
   "execution_count": 418,
   "metadata": {},
   "outputs": [
    {
     "data": {
      "text/plain": [
       "GradientBoostingClassifier(criterion='friedman_mse', init=None,\n",
       "              learning_rate=1.0, loss='deviance', max_depth=1,\n",
       "              max_features=None, max_leaf_nodes=None,\n",
       "              min_impurity_decrease=0.0, min_impurity_split=None,\n",
       "              min_samples_leaf=1, min_samples_split=2,\n",
       "              min_weight_fraction_leaf=0.0, n_estimators=100,\n",
       "              n_iter_no_change=None, presort='auto', random_state=None,\n",
       "              subsample=1.0, tol=0.0001, validation_fraction=0.1,\n",
       "              verbose=0, warm_start=False)"
      ]
     },
     "execution_count": 418,
     "metadata": {},
     "output_type": "execute_result"
    }
   ],
   "source": [
    "gb.fit(X_train_nr, y_train_nr)"
   ]
  },
  {
   "cell_type": "code",
   "execution_count": 419,
   "metadata": {},
   "outputs": [],
   "source": [
    "y_pred = gb.predict(X_test)"
   ]
  },
  {
   "cell_type": "code",
   "execution_count": 420,
   "metadata": {},
   "outputs": [],
   "source": [
    "train_pred = gb.predict(X_train)"
   ]
  },
  {
   "cell_type": "code",
   "execution_count": 421,
   "metadata": {},
   "outputs": [
    {
     "data": {
      "text/html": [
       "<div>\n",
       "<style scoped>\n",
       "    .dataframe tbody tr th:only-of-type {\n",
       "        vertical-align: middle;\n",
       "    }\n",
       "\n",
       "    .dataframe tbody tr th {\n",
       "        vertical-align: top;\n",
       "    }\n",
       "\n",
       "    .dataframe thead th {\n",
       "        text-align: right;\n",
       "    }\n",
       "</style>\n",
       "<table border=\"1\" class=\"dataframe\">\n",
       "  <thead>\n",
       "    <tr style=\"text-align: right;\">\n",
       "      <th>Predicted Result</th>\n",
       "      <th>0</th>\n",
       "      <th>1</th>\n",
       "    </tr>\n",
       "    <tr>\n",
       "      <th>Actual Result</th>\n",
       "      <th></th>\n",
       "      <th></th>\n",
       "    </tr>\n",
       "  </thead>\n",
       "  <tbody>\n",
       "    <tr>\n",
       "      <th>0</th>\n",
       "      <td>47719</td>\n",
       "      <td>50885</td>\n",
       "    </tr>\n",
       "    <tr>\n",
       "      <th>1</th>\n",
       "      <td>1819</td>\n",
       "      <td>5035</td>\n",
       "    </tr>\n",
       "  </tbody>\n",
       "</table>\n",
       "</div>"
      ],
      "text/plain": [
       "Predicted Result      0      1\n",
       "Actual Result                 \n",
       "0                 47719  50885\n",
       "1                  1819   5035"
      ]
     },
     "execution_count": 421,
     "metadata": {},
     "output_type": "execute_result"
    }
   ],
   "source": [
    "pd.crosstab(y_test, y_pred, rownames=['Actual Result'], colnames=['Predicted Result'])"
   ]
  },
  {
   "cell_type": "code",
   "execution_count": 422,
   "metadata": {},
   "outputs": [
    {
     "data": {
      "text/plain": [
       "0.5002370611997193"
      ]
     },
     "execution_count": 422,
     "metadata": {},
     "output_type": "execute_result"
    }
   ],
   "source": [
    "from sklearn.metrics import precision_score, recall_score, f1_score, confusion_matrix, accuracy_score\n",
    "\n",
    "accuracy_score(y_test, y_pred)"
   ]
  },
  {
   "cell_type": "code",
   "execution_count": 423,
   "metadata": {},
   "outputs": [
    {
     "data": {
      "text/plain": [
       "0.4974275403546987"
      ]
     },
     "execution_count": 423,
     "metadata": {},
     "output_type": "execute_result"
    }
   ],
   "source": [
    "accuracy_score(y_train, train_pred)"
   ]
  },
  {
   "cell_type": "code",
   "execution_count": 424,
   "metadata": {},
   "outputs": [
    {
     "data": {
      "text/plain": [
       "array([[47719, 50885],\n",
       "       [ 1819,  5035]], dtype=int64)"
      ]
     },
     "execution_count": 424,
     "metadata": {},
     "output_type": "execute_result"
    }
   ],
   "source": [
    "confusion_matrix(y_test, y_pred)"
   ]
  },
  {
   "cell_type": "code",
   "execution_count": 425,
   "metadata": {},
   "outputs": [
    {
     "data": {
      "text/plain": [
       "0.7346075284505398"
      ]
     },
     "execution_count": 425,
     "metadata": {},
     "output_type": "execute_result"
    }
   ],
   "source": [
    "recall_score(y_test, y_pred)"
   ]
  },
  {
   "cell_type": "code",
   "execution_count": 426,
   "metadata": {},
   "outputs": [
    {
     "data": {
      "text/plain": [
       "0.73465358751311"
      ]
     },
     "execution_count": 426,
     "metadata": {},
     "output_type": "execute_result"
    }
   ],
   "source": [
    "recall_score(y_train, train_pred)"
   ]
  },
  {
   "cell_type": "code",
   "execution_count": 427,
   "metadata": {},
   "outputs": [
    {
     "data": {
      "text/plain": [
       "0.09003934191702433"
      ]
     },
     "execution_count": 427,
     "metadata": {},
     "output_type": "execute_result"
    }
   ],
   "source": [
    "precision_score(y_test, y_pred)"
   ]
  },
  {
   "cell_type": "code",
   "execution_count": 430,
   "metadata": {},
   "outputs": [
    {
     "name": "stdout",
     "output_type": "stream",
     "text": [
      "Gradient Boosting Classifier with NearMiss:  0.5002370611997193\n",
      "Roc/auc:  0.609276706499417\n"
     ]
    }
   ],
   "source": [
    "print(\"Gradient Boosting Classifier with NearMiss: \",accuracy_score(y_test, y_pred))\n",
    "fpr, tpr, thresholds = roc_curve(y_test, y_pred, pos_label=1)\n",
    "print(\"Roc/auc: \",roc_auc_score(y_test, y_pred))"
   ]
  },
  {
   "cell_type": "code",
   "execution_count": 431,
   "metadata": {},
   "outputs": [
    {
     "data": {
      "image/png": "[encoded data removed]",
      "text/plain": [
       "<Figure size 432x288 with 1 Axes>"
      ]
     },
     "metadata": {
      "needs_background": "light"
     },
     "output_type": "display_data"
    }
   ],
   "source": [
    "# Plotting the roc curve\n",
    "\n",
    "plt.title('Receiver Operating Characteristic for Gradient Boosting Classifier with NearMiss')\n",
    "plt.plot(fpr, tpr, 'b', label = 'AUC = %0.2f' % roc_auc_score(y_test, y_pred))\n",
    "plt.legend(loc = 'lower right')\n",
    "plt.plot([0, 1], [0, 1],'r--')\n",
    "plt.xlim([0, 1])\n",
    "plt.ylim([0, 1])\n",
    "plt.ylabel('True Positive Rate')\n",
    "plt.xlabel('False Positive Rate')\n",
    "plt.show()"
   ]
  }
 ],
 "metadata": {
  "kernelspec": {
   "display_name": "Python 3",
   "language": "python",
   "name": "python3"
  },
  "language_info": {
   "codemirror_mode": {
    "name": "ipython",
    "version": 3
   },
   "file_extension": ".py",
   "mimetype": "text/x-python",
   "name": "python",
   "nbconvert_exporter": "python",
   "pygments_lexer": "ipython3",
   "version": "3.7.1"
  }
 },
 "nbformat": 4,
 "nbformat_minor": 2
}
